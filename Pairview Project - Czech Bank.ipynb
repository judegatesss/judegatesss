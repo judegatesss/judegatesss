{
 "cells": [
  {
   "cell_type": "code",
   "execution_count": 1,
   "metadata": {},
   "outputs": [],
   "source": [
    "#Import libraries\n",
    "import pandas as pd\n",
    "import numpy as np\n",
    "import pyodbc\n",
    "import squarify\n",
    "import seaborn as sns\n",
    "import pandas_profiling # for EDA\n",
    "import matplotlib.pyplot as plt\n",
    "%matplotlib inline\n"
   ]
  },
  {
   "cell_type": "code",
   "execution_count": 2,
   "metadata": {},
   "outputs": [],
   "source": [
    "#Connect to the database\n",
    "cnxn = pyodbc.connect('Driver={SQL Server Native Client 11.0};'\n",
    "                      'Server=DESKTOP-IAV5LRV;'\n",
    "                      'Database=Czech_Bank;'\n",
    "                      'Trusted_Connection=yes;')"
   ]
  },
  {
   "cell_type": "code",
   "execution_count": 3,
   "metadata": {},
   "outputs": [],
   "source": [
    "#Import all relevant columns from the client table\n",
    "\n",
    "client = pd.read_sql_query('''\n",
    "\n",
    "select\n",
    "client_id,\n",
    "district_id,\n",
    "DOB,\n",
    "Gender\n",
    "\n",
    "from [dbo].[client]\n",
    "\n",
    "''',cnxn)\n"
   ]
  },
  {
   "cell_type": "code",
   "execution_count": 4,
   "metadata": {},
   "outputs": [
    {
     "data": {
      "text/html": [
       "<div>\n",
       "<style scoped>\n",
       "    .dataframe tbody tr th:only-of-type {\n",
       "        vertical-align: middle;\n",
       "    }\n",
       "\n",
       "    .dataframe tbody tr th {\n",
       "        vertical-align: top;\n",
       "    }\n",
       "\n",
       "    .dataframe thead th {\n",
       "        text-align: right;\n",
       "    }\n",
       "</style>\n",
       "<table border=\"1\" class=\"dataframe\">\n",
       "  <thead>\n",
       "    <tr style=\"text-align: right;\">\n",
       "      <th></th>\n",
       "      <th>client_id</th>\n",
       "      <th>district_id</th>\n",
       "    </tr>\n",
       "  </thead>\n",
       "  <tbody>\n",
       "    <tr>\n",
       "      <th>count</th>\n",
       "      <td>5369.000000</td>\n",
       "      <td>5369.000000</td>\n",
       "    </tr>\n",
       "    <tr>\n",
       "      <th>mean</th>\n",
       "      <td>3359.011920</td>\n",
       "      <td>37.310114</td>\n",
       "    </tr>\n",
       "    <tr>\n",
       "      <th>std</th>\n",
       "      <td>2832.911984</td>\n",
       "      <td>25.043690</td>\n",
       "    </tr>\n",
       "    <tr>\n",
       "      <th>min</th>\n",
       "      <td>1.000000</td>\n",
       "      <td>1.000000</td>\n",
       "    </tr>\n",
       "    <tr>\n",
       "      <th>25%</th>\n",
       "      <td>1418.000000</td>\n",
       "      <td>14.000000</td>\n",
       "    </tr>\n",
       "    <tr>\n",
       "      <th>50%</th>\n",
       "      <td>2839.000000</td>\n",
       "      <td>38.000000</td>\n",
       "    </tr>\n",
       "    <tr>\n",
       "      <th>75%</th>\n",
       "      <td>4257.000000</td>\n",
       "      <td>60.000000</td>\n",
       "    </tr>\n",
       "    <tr>\n",
       "      <th>max</th>\n",
       "      <td>13998.000000</td>\n",
       "      <td>77.000000</td>\n",
       "    </tr>\n",
       "  </tbody>\n",
       "</table>\n",
       "</div>"
      ],
      "text/plain": [
       "          client_id  district_id\n",
       "count   5369.000000  5369.000000\n",
       "mean    3359.011920    37.310114\n",
       "std     2832.911984    25.043690\n",
       "min        1.000000     1.000000\n",
       "25%     1418.000000    14.000000\n",
       "50%     2839.000000    38.000000\n",
       "75%     4257.000000    60.000000\n",
       "max    13998.000000    77.000000"
      ]
     },
     "execution_count": 4,
     "metadata": {},
     "output_type": "execute_result"
    }
   ],
   "source": [
    "#Check the stats\n",
    "client.describe()"
   ]
  },
  {
   "cell_type": "code",
   "execution_count": 5,
   "metadata": {},
   "outputs": [
    {
     "data": {
      "text/html": [
       "<div>\n",
       "<style scoped>\n",
       "    .dataframe tbody tr th:only-of-type {\n",
       "        vertical-align: middle;\n",
       "    }\n",
       "\n",
       "    .dataframe tbody tr th {\n",
       "        vertical-align: top;\n",
       "    }\n",
       "\n",
       "    .dataframe thead th {\n",
       "        text-align: right;\n",
       "    }\n",
       "</style>\n",
       "<table border=\"1\" class=\"dataframe\">\n",
       "  <thead>\n",
       "    <tr style=\"text-align: right;\">\n",
       "      <th></th>\n",
       "      <th>client_id</th>\n",
       "      <th>district_id</th>\n",
       "      <th>DOB</th>\n",
       "      <th>Gender</th>\n",
       "    </tr>\n",
       "  </thead>\n",
       "  <tbody>\n",
       "    <tr>\n",
       "      <th>0</th>\n",
       "      <td>1</td>\n",
       "      <td>18</td>\n",
       "      <td>1970-12-13</td>\n",
       "      <td>F</td>\n",
       "    </tr>\n",
       "    <tr>\n",
       "      <th>1</th>\n",
       "      <td>2</td>\n",
       "      <td>1</td>\n",
       "      <td>1945-02-04</td>\n",
       "      <td>M</td>\n",
       "    </tr>\n",
       "    <tr>\n",
       "      <th>2</th>\n",
       "      <td>3</td>\n",
       "      <td>1</td>\n",
       "      <td>1940-10-09</td>\n",
       "      <td>F</td>\n",
       "    </tr>\n",
       "    <tr>\n",
       "      <th>3</th>\n",
       "      <td>4</td>\n",
       "      <td>5</td>\n",
       "      <td>1956-12-01</td>\n",
       "      <td>M</td>\n",
       "    </tr>\n",
       "    <tr>\n",
       "      <th>4</th>\n",
       "      <td>5</td>\n",
       "      <td>5</td>\n",
       "      <td>1960-07-03</td>\n",
       "      <td>F</td>\n",
       "    </tr>\n",
       "  </tbody>\n",
       "</table>\n",
       "</div>"
      ],
      "text/plain": [
       "   client_id  district_id        DOB Gender\n",
       "0          1           18 1970-12-13      F\n",
       "1          2            1 1945-02-04      M\n",
       "2          3            1 1940-10-09      F\n",
       "3          4            5 1956-12-01      M\n",
       "4          5            5 1960-07-03      F"
      ]
     },
     "execution_count": 5,
     "metadata": {},
     "output_type": "execute_result"
    }
   ],
   "source": [
    "#View the data from the client table\n",
    "client.head()"
   ]
  },
  {
   "cell_type": "code",
   "execution_count": 6,
   "metadata": {},
   "outputs": [],
   "source": [
    "#get the customers age from their DOB\n",
    "# import the required library\n",
    "from datetime import date\n"
   ]
  },
  {
   "cell_type": "code",
   "execution_count": 7,
   "metadata": {},
   "outputs": [],
   "source": [
    "client.DOB = pd.to_datetime(client['DOB'], errors= 'coerce')"
   ]
  },
  {
   "cell_type": "code",
   "execution_count": 8,
   "metadata": {},
   "outputs": [
    {
     "data": {
      "text/plain": [
       "Timestamp('2020-12-12 16:14:03.644321')"
      ]
     },
     "execution_count": 8,
     "metadata": {},
     "output_type": "execute_result"
    }
   ],
   "source": [
    "#get the time for now\n",
    "now = pd.to_datetime('now')\n",
    "now"
   ]
  },
  {
   "cell_type": "code",
   "execution_count": 9,
   "metadata": {},
   "outputs": [
    {
     "data": {
      "text/plain": [
       "0       50.0\n",
       "1       75.0\n",
       "2       80.0\n",
       "3       64.0\n",
       "4       60.0\n",
       "        ... \n",
       "5364    75.0\n",
       "5365    77.0\n",
       "5366    52.0\n",
       "5367    58.0\n",
       "5368    67.0\n",
       "Name: DOB, Length: 5369, dtype: float64"
      ]
     },
     "execution_count": 9,
     "metadata": {},
     "output_type": "execute_result"
    }
   ],
   "source": [
    "#Subtracting to get the age\n",
    "age = (now-client.DOB).astype('<m8[Y]')\n",
    "age"
   ]
  },
  {
   "cell_type": "code",
   "execution_count": 10,
   "metadata": {},
   "outputs": [
    {
     "data": {
      "text/plain": [
       "0       50\n",
       "1       75\n",
       "2       80\n",
       "3       64\n",
       "4       60\n",
       "        ..\n",
       "5364    75\n",
       "5365    77\n",
       "5366    52\n",
       "5367    58\n",
       "5368    67\n",
       "Name: DOB, Length: 5369, dtype: int64"
      ]
     },
     "execution_count": 10,
     "metadata": {},
     "output_type": "execute_result"
    }
   ],
   "source": [
    "#Option 2\n",
    "age = (now.year - client['DOB'].dt.year) - ((now.month -client['DOB'].dt.month) <0)\n",
    "age"
   ]
  },
  {
   "cell_type": "code",
   "execution_count": 11,
   "metadata": {},
   "outputs": [],
   "source": [
    "#adding the age to the client data\n",
    "client['Age'] = age"
   ]
  },
  {
   "cell_type": "code",
   "execution_count": 12,
   "metadata": {},
   "outputs": [
    {
     "data": {
      "text/html": [
       "<div>\n",
       "<style scoped>\n",
       "    .dataframe tbody tr th:only-of-type {\n",
       "        vertical-align: middle;\n",
       "    }\n",
       "\n",
       "    .dataframe tbody tr th {\n",
       "        vertical-align: top;\n",
       "    }\n",
       "\n",
       "    .dataframe thead th {\n",
       "        text-align: right;\n",
       "    }\n",
       "</style>\n",
       "<table border=\"1\" class=\"dataframe\">\n",
       "  <thead>\n",
       "    <tr style=\"text-align: right;\">\n",
       "      <th></th>\n",
       "      <th>client_id</th>\n",
       "      <th>district_id</th>\n",
       "      <th>Age</th>\n",
       "    </tr>\n",
       "  </thead>\n",
       "  <tbody>\n",
       "    <tr>\n",
       "      <th>count</th>\n",
       "      <td>5369.000000</td>\n",
       "      <td>5369.000000</td>\n",
       "      <td>5369.000000</td>\n",
       "    </tr>\n",
       "    <tr>\n",
       "      <th>mean</th>\n",
       "      <td>3359.011920</td>\n",
       "      <td>37.310114</td>\n",
       "      <td>66.801639</td>\n",
       "    </tr>\n",
       "    <tr>\n",
       "      <th>std</th>\n",
       "      <td>2832.911984</td>\n",
       "      <td>25.043690</td>\n",
       "      <td>17.282283</td>\n",
       "    </tr>\n",
       "    <tr>\n",
       "      <th>min</th>\n",
       "      <td>1.000000</td>\n",
       "      <td>1.000000</td>\n",
       "      <td>33.000000</td>\n",
       "    </tr>\n",
       "    <tr>\n",
       "      <th>25%</th>\n",
       "      <td>1418.000000</td>\n",
       "      <td>14.000000</td>\n",
       "      <td>52.000000</td>\n",
       "    </tr>\n",
       "    <tr>\n",
       "      <th>50%</th>\n",
       "      <td>2839.000000</td>\n",
       "      <td>38.000000</td>\n",
       "      <td>66.000000</td>\n",
       "    </tr>\n",
       "    <tr>\n",
       "      <th>75%</th>\n",
       "      <td>4257.000000</td>\n",
       "      <td>60.000000</td>\n",
       "      <td>80.000000</td>\n",
       "    </tr>\n",
       "    <tr>\n",
       "      <th>max</th>\n",
       "      <td>13998.000000</td>\n",
       "      <td>77.000000</td>\n",
       "      <td>109.000000</td>\n",
       "    </tr>\n",
       "  </tbody>\n",
       "</table>\n",
       "</div>"
      ],
      "text/plain": [
       "          client_id  district_id          Age\n",
       "count   5369.000000  5369.000000  5369.000000\n",
       "mean    3359.011920    37.310114    66.801639\n",
       "std     2832.911984    25.043690    17.282283\n",
       "min        1.000000     1.000000    33.000000\n",
       "25%     1418.000000    14.000000    52.000000\n",
       "50%     2839.000000    38.000000    66.000000\n",
       "75%     4257.000000    60.000000    80.000000\n",
       "max    13998.000000    77.000000   109.000000"
      ]
     },
     "execution_count": 12,
     "metadata": {},
     "output_type": "execute_result"
    }
   ],
   "source": [
    "#Get a feel of the dataset\n",
    "client.describe()"
   ]
  },
  {
   "cell_type": "code",
   "execution_count": 13,
   "metadata": {},
   "outputs": [
    {
     "data": {
      "text/html": [
       "<div>\n",
       "<style scoped>\n",
       "    .dataframe tbody tr th:only-of-type {\n",
       "        vertical-align: middle;\n",
       "    }\n",
       "\n",
       "    .dataframe tbody tr th {\n",
       "        vertical-align: top;\n",
       "    }\n",
       "\n",
       "    .dataframe thead th {\n",
       "        text-align: right;\n",
       "    }\n",
       "</style>\n",
       "<table border=\"1\" class=\"dataframe\">\n",
       "  <thead>\n",
       "    <tr style=\"text-align: right;\">\n",
       "      <th></th>\n",
       "      <th>client_id</th>\n",
       "      <th>district_id</th>\n",
       "      <th>DOB</th>\n",
       "      <th>Gender</th>\n",
       "      <th>Age</th>\n",
       "    </tr>\n",
       "  </thead>\n",
       "  <tbody>\n",
       "    <tr>\n",
       "      <th>0</th>\n",
       "      <td>1</td>\n",
       "      <td>18</td>\n",
       "      <td>1970-12-13</td>\n",
       "      <td>F</td>\n",
       "      <td>50</td>\n",
       "    </tr>\n",
       "    <tr>\n",
       "      <th>1</th>\n",
       "      <td>2</td>\n",
       "      <td>1</td>\n",
       "      <td>1945-02-04</td>\n",
       "      <td>M</td>\n",
       "      <td>75</td>\n",
       "    </tr>\n",
       "    <tr>\n",
       "      <th>2</th>\n",
       "      <td>3</td>\n",
       "      <td>1</td>\n",
       "      <td>1940-10-09</td>\n",
       "      <td>F</td>\n",
       "      <td>80</td>\n",
       "    </tr>\n",
       "    <tr>\n",
       "      <th>3</th>\n",
       "      <td>4</td>\n",
       "      <td>5</td>\n",
       "      <td>1956-12-01</td>\n",
       "      <td>M</td>\n",
       "      <td>64</td>\n",
       "    </tr>\n",
       "    <tr>\n",
       "      <th>4</th>\n",
       "      <td>5</td>\n",
       "      <td>5</td>\n",
       "      <td>1960-07-03</td>\n",
       "      <td>F</td>\n",
       "      <td>60</td>\n",
       "    </tr>\n",
       "  </tbody>\n",
       "</table>\n",
       "</div>"
      ],
      "text/plain": [
       "   client_id  district_id        DOB Gender  Age\n",
       "0          1           18 1970-12-13      F   50\n",
       "1          2            1 1945-02-04      M   75\n",
       "2          3            1 1940-10-09      F   80\n",
       "3          4            5 1956-12-01      M   64\n",
       "4          5            5 1960-07-03      F   60"
      ]
     },
     "execution_count": 13,
     "metadata": {},
     "output_type": "execute_result"
    }
   ],
   "source": [
    "#viewing the dataset\n",
    "client.head(5)"
   ]
  },
  {
   "cell_type": "code",
   "execution_count": 14,
   "metadata": {},
   "outputs": [],
   "source": [
    "#import the district table containing the demography for each client\n",
    "\n",
    "district = pd.read_sql_query('''\n",
    "select\n",
    "[District Code],\n",
    "[District Name],\n",
    "Region,\n",
    "Population,\n",
    "[Ratio of Urban Inhabitants],\n",
    "[Average Salary],\n",
    "[Unemployment Rate 95],\n",
    "[Number of Committeed Crimes 95],\n",
    "[Unemployment Rate 96],\n",
    "[Number of Committed Crimes 96]\n",
    "\n",
    "from [dbo].[District]\n",
    "\n",
    "''',cnxn)\n"
   ]
  },
  {
   "cell_type": "code",
   "execution_count": 15,
   "metadata": {},
   "outputs": [],
   "source": [
    "#Merge the district and the client table\n",
    "\n",
    "client_data = pd.merge(client,district, left_on='district_id', right_on='District Code', how = 'left')"
   ]
  },
  {
   "cell_type": "code",
   "execution_count": 16,
   "metadata": {},
   "outputs": [
    {
     "data": {
      "text/html": [
       "<div>\n",
       "<style scoped>\n",
       "    .dataframe tbody tr th:only-of-type {\n",
       "        vertical-align: middle;\n",
       "    }\n",
       "\n",
       "    .dataframe tbody tr th {\n",
       "        vertical-align: top;\n",
       "    }\n",
       "\n",
       "    .dataframe thead th {\n",
       "        text-align: right;\n",
       "    }\n",
       "</style>\n",
       "<table border=\"1\" class=\"dataframe\">\n",
       "  <thead>\n",
       "    <tr style=\"text-align: right;\">\n",
       "      <th></th>\n",
       "      <th>client_id</th>\n",
       "      <th>district_id</th>\n",
       "      <th>DOB</th>\n",
       "      <th>Gender</th>\n",
       "      <th>Age</th>\n",
       "      <th>District Code</th>\n",
       "      <th>District Name</th>\n",
       "      <th>Region</th>\n",
       "      <th>Population</th>\n",
       "      <th>Ratio of Urban Inhabitants</th>\n",
       "      <th>Average Salary</th>\n",
       "      <th>Unemployment Rate 95</th>\n",
       "      <th>Number of Committeed Crimes 95</th>\n",
       "      <th>Unemployment Rate 96</th>\n",
       "      <th>Number of Committed Crimes 96</th>\n",
       "    </tr>\n",
       "  </thead>\n",
       "  <tbody>\n",
       "    <tr>\n",
       "      <th>0</th>\n",
       "      <td>1</td>\n",
       "      <td>18</td>\n",
       "      <td>1970-12-13</td>\n",
       "      <td>F</td>\n",
       "      <td>50</td>\n",
       "      <td>18</td>\n",
       "      <td>Pisek</td>\n",
       "      <td>south Bohemia</td>\n",
       "      <td>70699</td>\n",
       "      <td>65.3</td>\n",
       "      <td>8968.0</td>\n",
       "      <td>3.0</td>\n",
       "      <td>1740.0</td>\n",
       "      <td>3</td>\n",
       "      <td>1910</td>\n",
       "    </tr>\n",
       "    <tr>\n",
       "      <th>1</th>\n",
       "      <td>2</td>\n",
       "      <td>1</td>\n",
       "      <td>1945-02-04</td>\n",
       "      <td>M</td>\n",
       "      <td>75</td>\n",
       "      <td>1</td>\n",
       "      <td>Hl.m. Praha</td>\n",
       "      <td>Prague</td>\n",
       "      <td>1204953</td>\n",
       "      <td>100.0</td>\n",
       "      <td>12541.0</td>\n",
       "      <td>0.0</td>\n",
       "      <td>85677.0</td>\n",
       "      <td>0</td>\n",
       "      <td>99107</td>\n",
       "    </tr>\n",
       "    <tr>\n",
       "      <th>2</th>\n",
       "      <td>3</td>\n",
       "      <td>1</td>\n",
       "      <td>1940-10-09</td>\n",
       "      <td>F</td>\n",
       "      <td>80</td>\n",
       "      <td>1</td>\n",
       "      <td>Hl.m. Praha</td>\n",
       "      <td>Prague</td>\n",
       "      <td>1204953</td>\n",
       "      <td>100.0</td>\n",
       "      <td>12541.0</td>\n",
       "      <td>0.0</td>\n",
       "      <td>85677.0</td>\n",
       "      <td>0</td>\n",
       "      <td>99107</td>\n",
       "    </tr>\n",
       "    <tr>\n",
       "      <th>3</th>\n",
       "      <td>4</td>\n",
       "      <td>5</td>\n",
       "      <td>1956-12-01</td>\n",
       "      <td>M</td>\n",
       "      <td>64</td>\n",
       "      <td>5</td>\n",
       "      <td>Kolin</td>\n",
       "      <td>central Bohemia</td>\n",
       "      <td>95616</td>\n",
       "      <td>51.4</td>\n",
       "      <td>9307.0</td>\n",
       "      <td>4.0</td>\n",
       "      <td>2616.0</td>\n",
       "      <td>4</td>\n",
       "      <td>3040</td>\n",
       "    </tr>\n",
       "    <tr>\n",
       "      <th>4</th>\n",
       "      <td>5</td>\n",
       "      <td>5</td>\n",
       "      <td>1960-07-03</td>\n",
       "      <td>F</td>\n",
       "      <td>60</td>\n",
       "      <td>5</td>\n",
       "      <td>Kolin</td>\n",
       "      <td>central Bohemia</td>\n",
       "      <td>95616</td>\n",
       "      <td>51.4</td>\n",
       "      <td>9307.0</td>\n",
       "      <td>4.0</td>\n",
       "      <td>2616.0</td>\n",
       "      <td>4</td>\n",
       "      <td>3040</td>\n",
       "    </tr>\n",
       "  </tbody>\n",
       "</table>\n",
       "</div>"
      ],
      "text/plain": [
       "   client_id  district_id        DOB Gender  Age  District Code District Name  \\\n",
       "0          1           18 1970-12-13      F   50             18         Pisek   \n",
       "1          2            1 1945-02-04      M   75              1   Hl.m. Praha   \n",
       "2          3            1 1940-10-09      F   80              1   Hl.m. Praha   \n",
       "3          4            5 1956-12-01      M   64              5         Kolin   \n",
       "4          5            5 1960-07-03      F   60              5         Kolin   \n",
       "\n",
       "            Region  Population  Ratio of Urban Inhabitants  Average Salary  \\\n",
       "0    south Bohemia       70699                        65.3          8968.0   \n",
       "1           Prague     1204953                       100.0         12541.0   \n",
       "2           Prague     1204953                       100.0         12541.0   \n",
       "3  central Bohemia       95616                        51.4          9307.0   \n",
       "4  central Bohemia       95616                        51.4          9307.0   \n",
       "\n",
       "   Unemployment Rate 95  Number of Committeed Crimes 95  Unemployment Rate 96  \\\n",
       "0                   3.0                          1740.0                     3   \n",
       "1                   0.0                         85677.0                     0   \n",
       "2                   0.0                         85677.0                     0   \n",
       "3                   4.0                          2616.0                     4   \n",
       "4                   4.0                          2616.0                     4   \n",
       "\n",
       "   Number of Committed Crimes 96  \n",
       "0                           1910  \n",
       "1                          99107  \n",
       "2                          99107  \n",
       "3                           3040  \n",
       "4                           3040  "
      ]
     },
     "execution_count": 16,
     "metadata": {},
     "output_type": "execute_result"
    }
   ],
   "source": [
    "client_data.head()"
   ]
  },
  {
   "cell_type": "code",
   "execution_count": 17,
   "metadata": {},
   "outputs": [
    {
     "name": "stdout",
     "output_type": "stream",
     "text": [
      "<class 'pandas.core.frame.DataFrame'>\n",
      "Int64Index: 5369 entries, 0 to 5368\n",
      "Data columns (total 15 columns):\n",
      " #   Column                          Non-Null Count  Dtype         \n",
      "---  ------                          --------------  -----         \n",
      " 0   client_id                       5369 non-null   int64         \n",
      " 1   district_id                     5369 non-null   int64         \n",
      " 2   DOB                             5369 non-null   datetime64[ns]\n",
      " 3   Gender                          5369 non-null   object        \n",
      " 4   Age                             5369 non-null   int64         \n",
      " 5   District Code                   5369 non-null   int64         \n",
      " 6   District Name                   5369 non-null   object        \n",
      " 7   Region                          5369 non-null   object        \n",
      " 8   Population                      5369 non-null   int64         \n",
      " 9   Ratio of Urban Inhabitants      5369 non-null   float64       \n",
      " 10  Average Salary                  5369 non-null   float64       \n",
      " 11  Unemployment Rate 95            5308 non-null   float64       \n",
      " 12  Number of Committeed Crimes 95  5308 non-null   float64       \n",
      " 13  Unemployment Rate 96            5369 non-null   int64         \n",
      " 14  Number of Committed Crimes 96   5369 non-null   int64         \n",
      "dtypes: datetime64[ns](1), float64(4), int64(7), object(3)\n",
      "memory usage: 671.1+ KB\n"
     ]
    }
   ],
   "source": [
    "client_data.info()"
   ]
  },
  {
   "cell_type": "code",
   "execution_count": 18,
   "metadata": {},
   "outputs": [],
   "source": [
    "#Importing the disp table\n",
    "disp = pd.read_sql_query('''\n",
    "select\n",
    "disp_id,\n",
    "client_id,\n",
    "account_id,\n",
    "type\n",
    "\n",
    "from [dbo].[disp]\n",
    "\n",
    "''',cnxn)"
   ]
  },
  {
   "cell_type": "code",
   "execution_count": 19,
   "metadata": {},
   "outputs": [],
   "source": [
    "#merging with client data\n",
    "disp_data = pd.merge(client_data, disp, how= 'left')"
   ]
  },
  {
   "cell_type": "code",
   "execution_count": 20,
   "metadata": {},
   "outputs": [
    {
     "data": {
      "text/html": [
       "<div>\n",
       "<style scoped>\n",
       "    .dataframe tbody tr th:only-of-type {\n",
       "        vertical-align: middle;\n",
       "    }\n",
       "\n",
       "    .dataframe tbody tr th {\n",
       "        vertical-align: top;\n",
       "    }\n",
       "\n",
       "    .dataframe thead th {\n",
       "        text-align: right;\n",
       "    }\n",
       "</style>\n",
       "<table border=\"1\" class=\"dataframe\">\n",
       "  <thead>\n",
       "    <tr style=\"text-align: right;\">\n",
       "      <th></th>\n",
       "      <th>client_id</th>\n",
       "      <th>district_id</th>\n",
       "      <th>Age</th>\n",
       "      <th>District Code</th>\n",
       "      <th>Population</th>\n",
       "      <th>Ratio of Urban Inhabitants</th>\n",
       "      <th>Average Salary</th>\n",
       "      <th>Unemployment Rate 95</th>\n",
       "      <th>Number of Committeed Crimes 95</th>\n",
       "      <th>Unemployment Rate 96</th>\n",
       "      <th>Number of Committed Crimes 96</th>\n",
       "      <th>disp_id</th>\n",
       "      <th>account_id</th>\n",
       "    </tr>\n",
       "  </thead>\n",
       "  <tbody>\n",
       "    <tr>\n",
       "      <th>count</th>\n",
       "      <td>5369.000000</td>\n",
       "      <td>5369.000000</td>\n",
       "      <td>5369.000000</td>\n",
       "      <td>5369.000000</td>\n",
       "      <td>5.369000e+03</td>\n",
       "      <td>5369.000000</td>\n",
       "      <td>5369.000000</td>\n",
       "      <td>5308.000000</td>\n",
       "      <td>5308.000000</td>\n",
       "      <td>5369.000000</td>\n",
       "      <td>5369.000000</td>\n",
       "      <td>5369.000000</td>\n",
       "      <td>5369.000000</td>\n",
       "    </tr>\n",
       "    <tr>\n",
       "      <th>mean</th>\n",
       "      <td>3359.011920</td>\n",
       "      <td>37.310114</td>\n",
       "      <td>66.801639</td>\n",
       "      <td>37.310114</td>\n",
       "      <td>2.692806e+05</td>\n",
       "      <td>69.240045</td>\n",
       "      <td>9510.758614</td>\n",
       "      <td>2.894499</td>\n",
       "      <td>14818.629616</td>\n",
       "      <td>3.422611</td>\n",
       "      <td>16352.240082</td>\n",
       "      <td>3337.097970</td>\n",
       "      <td>2767.496927</td>\n",
       "    </tr>\n",
       "    <tr>\n",
       "      <th>std</th>\n",
       "      <td>2832.911984</td>\n",
       "      <td>25.043690</td>\n",
       "      <td>17.282283</td>\n",
       "      <td>25.043690</td>\n",
       "      <td>3.590500e+05</td>\n",
       "      <td>19.896870</td>\n",
       "      <td>1330.686689</td>\n",
       "      <td>1.922118</td>\n",
       "      <td>27094.330501</td>\n",
       "      <td>2.245964</td>\n",
       "      <td>31330.146616</td>\n",
       "      <td>2770.418826</td>\n",
       "      <td>2307.843630</td>\n",
       "    </tr>\n",
       "    <tr>\n",
       "      <th>min</th>\n",
       "      <td>1.000000</td>\n",
       "      <td>1.000000</td>\n",
       "      <td>33.000000</td>\n",
       "      <td>1.000000</td>\n",
       "      <td>4.282100e+04</td>\n",
       "      <td>33.900000</td>\n",
       "      <td>8110.000000</td>\n",
       "      <td>0.000000</td>\n",
       "      <td>818.000000</td>\n",
       "      <td>0.000000</td>\n",
       "      <td>888.000000</td>\n",
       "      <td>1.000000</td>\n",
       "      <td>1.000000</td>\n",
       "    </tr>\n",
       "    <tr>\n",
       "      <th>25%</th>\n",
       "      <td>1418.000000</td>\n",
       "      <td>14.000000</td>\n",
       "      <td>52.000000</td>\n",
       "      <td>14.000000</td>\n",
       "      <td>8.888400e+04</td>\n",
       "      <td>52.700000</td>\n",
       "      <td>8547.000000</td>\n",
       "      <td>2.000000</td>\n",
       "      <td>2166.000000</td>\n",
       "      <td>2.000000</td>\n",
       "      <td>2252.000000</td>\n",
       "      <td>1418.000000</td>\n",
       "      <td>1178.000000</td>\n",
       "    </tr>\n",
       "    <tr>\n",
       "      <th>50%</th>\n",
       "      <td>2839.000000</td>\n",
       "      <td>38.000000</td>\n",
       "      <td>66.000000</td>\n",
       "      <td>38.000000</td>\n",
       "      <td>1.219470e+05</td>\n",
       "      <td>63.100000</td>\n",
       "      <td>8980.000000</td>\n",
       "      <td>3.000000</td>\n",
       "      <td>3729.000000</td>\n",
       "      <td>3.000000</td>\n",
       "      <td>3839.000000</td>\n",
       "      <td>2839.000000</td>\n",
       "      <td>2349.000000</td>\n",
       "    </tr>\n",
       "    <tr>\n",
       "      <th>75%</th>\n",
       "      <td>4257.000000</td>\n",
       "      <td>60.000000</td>\n",
       "      <td>80.000000</td>\n",
       "      <td>60.000000</td>\n",
       "      <td>2.261220e+05</td>\n",
       "      <td>85.600000</td>\n",
       "      <td>9897.000000</td>\n",
       "      <td>4.000000</td>\n",
       "      <td>6949.000000</td>\n",
       "      <td>5.000000</td>\n",
       "      <td>6295.000000</td>\n",
       "      <td>4257.000000</td>\n",
       "      <td>3526.000000</td>\n",
       "    </tr>\n",
       "    <tr>\n",
       "      <th>max</th>\n",
       "      <td>13998.000000</td>\n",
       "      <td>77.000000</td>\n",
       "      <td>109.000000</td>\n",
       "      <td>77.000000</td>\n",
       "      <td>1.204953e+06</td>\n",
       "      <td>100.000000</td>\n",
       "      <td>12541.000000</td>\n",
       "      <td>7.000000</td>\n",
       "      <td>85677.000000</td>\n",
       "      <td>9.000000</td>\n",
       "      <td>99107.000000</td>\n",
       "      <td>13690.000000</td>\n",
       "      <td>11382.000000</td>\n",
       "    </tr>\n",
       "  </tbody>\n",
       "</table>\n",
       "</div>"
      ],
      "text/plain": [
       "          client_id  district_id          Age  District Code    Population  \\\n",
       "count   5369.000000  5369.000000  5369.000000    5369.000000  5.369000e+03   \n",
       "mean    3359.011920    37.310114    66.801639      37.310114  2.692806e+05   \n",
       "std     2832.911984    25.043690    17.282283      25.043690  3.590500e+05   \n",
       "min        1.000000     1.000000    33.000000       1.000000  4.282100e+04   \n",
       "25%     1418.000000    14.000000    52.000000      14.000000  8.888400e+04   \n",
       "50%     2839.000000    38.000000    66.000000      38.000000  1.219470e+05   \n",
       "75%     4257.000000    60.000000    80.000000      60.000000  2.261220e+05   \n",
       "max    13998.000000    77.000000   109.000000      77.000000  1.204953e+06   \n",
       "\n",
       "       Ratio of Urban Inhabitants  Average Salary  Unemployment Rate 95  \\\n",
       "count                 5369.000000     5369.000000           5308.000000   \n",
       "mean                    69.240045     9510.758614              2.894499   \n",
       "std                     19.896870     1330.686689              1.922118   \n",
       "min                     33.900000     8110.000000              0.000000   \n",
       "25%                     52.700000     8547.000000              2.000000   \n",
       "50%                     63.100000     8980.000000              3.000000   \n",
       "75%                     85.600000     9897.000000              4.000000   \n",
       "max                    100.000000    12541.000000              7.000000   \n",
       "\n",
       "       Number of Committeed Crimes 95  Unemployment Rate 96  \\\n",
       "count                     5308.000000           5369.000000   \n",
       "mean                     14818.629616              3.422611   \n",
       "std                      27094.330501              2.245964   \n",
       "min                        818.000000              0.000000   \n",
       "25%                       2166.000000              2.000000   \n",
       "50%                       3729.000000              3.000000   \n",
       "75%                       6949.000000              5.000000   \n",
       "max                      85677.000000              9.000000   \n",
       "\n",
       "       Number of Committed Crimes 96       disp_id    account_id  \n",
       "count                    5369.000000   5369.000000   5369.000000  \n",
       "mean                    16352.240082   3337.097970   2767.496927  \n",
       "std                     31330.146616   2770.418826   2307.843630  \n",
       "min                       888.000000      1.000000      1.000000  \n",
       "25%                      2252.000000   1418.000000   1178.000000  \n",
       "50%                      3839.000000   2839.000000   2349.000000  \n",
       "75%                      6295.000000   4257.000000   3526.000000  \n",
       "max                     99107.000000  13690.000000  11382.000000  "
      ]
     },
     "execution_count": 20,
     "metadata": {},
     "output_type": "execute_result"
    }
   ],
   "source": [
    "# Review the data\n",
    "disp_data.describe()"
   ]
  },
  {
   "cell_type": "code",
   "execution_count": 21,
   "metadata": {},
   "outputs": [
    {
     "data": {
      "text/html": [
       "<div>\n",
       "<style scoped>\n",
       "    .dataframe tbody tr th:only-of-type {\n",
       "        vertical-align: middle;\n",
       "    }\n",
       "\n",
       "    .dataframe tbody tr th {\n",
       "        vertical-align: top;\n",
       "    }\n",
       "\n",
       "    .dataframe thead th {\n",
       "        text-align: right;\n",
       "    }\n",
       "</style>\n",
       "<table border=\"1\" class=\"dataframe\">\n",
       "  <thead>\n",
       "    <tr style=\"text-align: right;\">\n",
       "      <th></th>\n",
       "      <th>client_id</th>\n",
       "      <th>district_id</th>\n",
       "      <th>DOB</th>\n",
       "      <th>Gender</th>\n",
       "      <th>Age</th>\n",
       "      <th>District Code</th>\n",
       "      <th>District Name</th>\n",
       "      <th>Region</th>\n",
       "      <th>Population</th>\n",
       "      <th>Ratio of Urban Inhabitants</th>\n",
       "      <th>Average Salary</th>\n",
       "      <th>Unemployment Rate 95</th>\n",
       "      <th>Number of Committeed Crimes 95</th>\n",
       "      <th>Unemployment Rate 96</th>\n",
       "      <th>Number of Committed Crimes 96</th>\n",
       "      <th>disp_id</th>\n",
       "      <th>account_id</th>\n",
       "      <th>type</th>\n",
       "    </tr>\n",
       "  </thead>\n",
       "  <tbody>\n",
       "    <tr>\n",
       "      <th>0</th>\n",
       "      <td>1</td>\n",
       "      <td>18</td>\n",
       "      <td>1970-12-13</td>\n",
       "      <td>F</td>\n",
       "      <td>50</td>\n",
       "      <td>18</td>\n",
       "      <td>Pisek</td>\n",
       "      <td>south Bohemia</td>\n",
       "      <td>70699</td>\n",
       "      <td>65.3</td>\n",
       "      <td>8968.0</td>\n",
       "      <td>3.0</td>\n",
       "      <td>1740.0</td>\n",
       "      <td>3</td>\n",
       "      <td>1910</td>\n",
       "      <td>1</td>\n",
       "      <td>1</td>\n",
       "      <td>OWNER</td>\n",
       "    </tr>\n",
       "    <tr>\n",
       "      <th>1</th>\n",
       "      <td>2</td>\n",
       "      <td>1</td>\n",
       "      <td>1945-02-04</td>\n",
       "      <td>M</td>\n",
       "      <td>75</td>\n",
       "      <td>1</td>\n",
       "      <td>Hl.m. Praha</td>\n",
       "      <td>Prague</td>\n",
       "      <td>1204953</td>\n",
       "      <td>100.0</td>\n",
       "      <td>12541.0</td>\n",
       "      <td>0.0</td>\n",
       "      <td>85677.0</td>\n",
       "      <td>0</td>\n",
       "      <td>99107</td>\n",
       "      <td>2</td>\n",
       "      <td>2</td>\n",
       "      <td>OWNER</td>\n",
       "    </tr>\n",
       "    <tr>\n",
       "      <th>2</th>\n",
       "      <td>3</td>\n",
       "      <td>1</td>\n",
       "      <td>1940-10-09</td>\n",
       "      <td>F</td>\n",
       "      <td>80</td>\n",
       "      <td>1</td>\n",
       "      <td>Hl.m. Praha</td>\n",
       "      <td>Prague</td>\n",
       "      <td>1204953</td>\n",
       "      <td>100.0</td>\n",
       "      <td>12541.0</td>\n",
       "      <td>0.0</td>\n",
       "      <td>85677.0</td>\n",
       "      <td>0</td>\n",
       "      <td>99107</td>\n",
       "      <td>3</td>\n",
       "      <td>2</td>\n",
       "      <td>USER</td>\n",
       "    </tr>\n",
       "  </tbody>\n",
       "</table>\n",
       "</div>"
      ],
      "text/plain": [
       "   client_id  district_id        DOB Gender  Age  District Code District Name  \\\n",
       "0          1           18 1970-12-13      F   50             18         Pisek   \n",
       "1          2            1 1945-02-04      M   75              1   Hl.m. Praha   \n",
       "2          3            1 1940-10-09      F   80              1   Hl.m. Praha   \n",
       "\n",
       "          Region  Population  Ratio of Urban Inhabitants  Average Salary  \\\n",
       "0  south Bohemia       70699                        65.3          8968.0   \n",
       "1         Prague     1204953                       100.0         12541.0   \n",
       "2         Prague     1204953                       100.0         12541.0   \n",
       "\n",
       "   Unemployment Rate 95  Number of Committeed Crimes 95  Unemployment Rate 96  \\\n",
       "0                   3.0                          1740.0                     3   \n",
       "1                   0.0                         85677.0                     0   \n",
       "2                   0.0                         85677.0                     0   \n",
       "\n",
       "   Number of Committed Crimes 96  disp_id  account_id   type  \n",
       "0                           1910        1           1  OWNER  \n",
       "1                          99107        2           2  OWNER  \n",
       "2                          99107        3           2   USER  "
      ]
     },
     "execution_count": 21,
     "metadata": {},
     "output_type": "execute_result"
    }
   ],
   "source": [
    "#View the dataset\n",
    "disp_data.head(3)"
   ]
  },
  {
   "cell_type": "code",
   "execution_count": 22,
   "metadata": {},
   "outputs": [],
   "source": [
    "#Import the account table\n",
    "\n",
    "accounts = pd.read_sql_query(\n",
    "'''\n",
    "select\n",
    "account_id,\n",
    "district_id,\n",
    "Freq_in_English as 'Frequency of Statement Issuance',\n",
    "Date as 'Date account opened'\n",
    "\n",
    "from [dbo].[account]\n",
    "\n",
    "''', cnxn)"
   ]
  },
  {
   "cell_type": "code",
   "execution_count": 23,
   "metadata": {},
   "outputs": [
    {
     "data": {
      "text/html": [
       "<div>\n",
       "<style scoped>\n",
       "    .dataframe tbody tr th:only-of-type {\n",
       "        vertical-align: middle;\n",
       "    }\n",
       "\n",
       "    .dataframe tbody tr th {\n",
       "        vertical-align: top;\n",
       "    }\n",
       "\n",
       "    .dataframe thead th {\n",
       "        text-align: right;\n",
       "    }\n",
       "</style>\n",
       "<table border=\"1\" class=\"dataframe\">\n",
       "  <thead>\n",
       "    <tr style=\"text-align: right;\">\n",
       "      <th></th>\n",
       "      <th>account_id</th>\n",
       "      <th>district_id</th>\n",
       "      <th>Frequency of Statement Issuance</th>\n",
       "      <th>Date account opened</th>\n",
       "    </tr>\n",
       "  </thead>\n",
       "  <tbody>\n",
       "    <tr>\n",
       "      <th>0</th>\n",
       "      <td>1</td>\n",
       "      <td>18</td>\n",
       "      <td>Monthly Issuance</td>\n",
       "      <td>1995-03-24</td>\n",
       "    </tr>\n",
       "    <tr>\n",
       "      <th>1</th>\n",
       "      <td>2</td>\n",
       "      <td>1</td>\n",
       "      <td>Monthly Issuance</td>\n",
       "      <td>1993-02-26</td>\n",
       "    </tr>\n",
       "    <tr>\n",
       "      <th>2</th>\n",
       "      <td>3</td>\n",
       "      <td>5</td>\n",
       "      <td>Monthly Issuance</td>\n",
       "      <td>1997-07-07</td>\n",
       "    </tr>\n",
       "    <tr>\n",
       "      <th>3</th>\n",
       "      <td>4</td>\n",
       "      <td>12</td>\n",
       "      <td>Monthly Issuance</td>\n",
       "      <td>1996-02-21</td>\n",
       "    </tr>\n",
       "    <tr>\n",
       "      <th>4</th>\n",
       "      <td>5</td>\n",
       "      <td>15</td>\n",
       "      <td>Monthly Issuance</td>\n",
       "      <td>1997-05-30</td>\n",
       "    </tr>\n",
       "  </tbody>\n",
       "</table>\n",
       "</div>"
      ],
      "text/plain": [
       "   account_id  district_id Frequency of Statement Issuance Date account opened\n",
       "0           1           18                Monthly Issuance          1995-03-24\n",
       "1           2            1                Monthly Issuance          1993-02-26\n",
       "2           3            5                Monthly Issuance          1997-07-07\n",
       "3           4           12                Monthly Issuance          1996-02-21\n",
       "4           5           15                Monthly Issuance          1997-05-30"
      ]
     },
     "execution_count": 23,
     "metadata": {},
     "output_type": "execute_result"
    }
   ],
   "source": [
    "#view the account table\n",
    "accounts.head(5)"
   ]
  },
  {
   "cell_type": "code",
   "execution_count": 24,
   "metadata": {},
   "outputs": [
    {
     "name": "stdout",
     "output_type": "stream",
     "text": [
      "<class 'pandas.core.frame.DataFrame'>\n",
      "RangeIndex: 4500 entries, 0 to 4499\n",
      "Data columns (total 4 columns):\n",
      " #   Column                           Non-Null Count  Dtype         \n",
      "---  ------                           --------------  -----         \n",
      " 0   account_id                       4500 non-null   int64         \n",
      " 1   district_id                      4500 non-null   int64         \n",
      " 2   Frequency of Statement Issuance  4500 non-null   object        \n",
      " 3   Date account opened              4500 non-null   datetime64[ns]\n",
      "dtypes: datetime64[ns](1), int64(2), object(1)\n",
      "memory usage: 140.8+ KB\n"
     ]
    }
   ],
   "source": [
    "#check empty values in the dataset\n",
    "accounts.info()"
   ]
  },
  {
   "cell_type": "code",
   "execution_count": 25,
   "metadata": {},
   "outputs": [],
   "source": [
    "#Join accounts and disp datasets\n",
    "\n",
    "accounts_data = pd.merge(disp_data, accounts, how= 'left')"
   ]
  },
  {
   "cell_type": "code",
   "execution_count": 26,
   "metadata": {},
   "outputs": [
    {
     "data": {
      "text/html": [
       "<div>\n",
       "<style scoped>\n",
       "    .dataframe tbody tr th:only-of-type {\n",
       "        vertical-align: middle;\n",
       "    }\n",
       "\n",
       "    .dataframe tbody tr th {\n",
       "        vertical-align: top;\n",
       "    }\n",
       "\n",
       "    .dataframe thead th {\n",
       "        text-align: right;\n",
       "    }\n",
       "</style>\n",
       "<table border=\"1\" class=\"dataframe\">\n",
       "  <thead>\n",
       "    <tr style=\"text-align: right;\">\n",
       "      <th></th>\n",
       "      <th>client_id</th>\n",
       "      <th>district_id</th>\n",
       "      <th>Age</th>\n",
       "      <th>District Code</th>\n",
       "      <th>Population</th>\n",
       "      <th>Ratio of Urban Inhabitants</th>\n",
       "      <th>Average Salary</th>\n",
       "      <th>Unemployment Rate 95</th>\n",
       "      <th>Number of Committeed Crimes 95</th>\n",
       "      <th>Unemployment Rate 96</th>\n",
       "      <th>Number of Committed Crimes 96</th>\n",
       "      <th>disp_id</th>\n",
       "      <th>account_id</th>\n",
       "    </tr>\n",
       "  </thead>\n",
       "  <tbody>\n",
       "    <tr>\n",
       "      <th>count</th>\n",
       "      <td>5369.000000</td>\n",
       "      <td>5369.000000</td>\n",
       "      <td>5369.000000</td>\n",
       "      <td>5369.000000</td>\n",
       "      <td>5.369000e+03</td>\n",
       "      <td>5369.000000</td>\n",
       "      <td>5369.000000</td>\n",
       "      <td>5308.000000</td>\n",
       "      <td>5308.000000</td>\n",
       "      <td>5369.000000</td>\n",
       "      <td>5369.000000</td>\n",
       "      <td>5369.000000</td>\n",
       "      <td>5369.000000</td>\n",
       "    </tr>\n",
       "    <tr>\n",
       "      <th>mean</th>\n",
       "      <td>3359.011920</td>\n",
       "      <td>37.310114</td>\n",
       "      <td>66.801639</td>\n",
       "      <td>37.310114</td>\n",
       "      <td>2.692806e+05</td>\n",
       "      <td>69.240045</td>\n",
       "      <td>9510.758614</td>\n",
       "      <td>2.894499</td>\n",
       "      <td>14818.629616</td>\n",
       "      <td>3.422611</td>\n",
       "      <td>16352.240082</td>\n",
       "      <td>3337.097970</td>\n",
       "      <td>2767.496927</td>\n",
       "    </tr>\n",
       "    <tr>\n",
       "      <th>std</th>\n",
       "      <td>2832.911984</td>\n",
       "      <td>25.043690</td>\n",
       "      <td>17.282283</td>\n",
       "      <td>25.043690</td>\n",
       "      <td>3.590500e+05</td>\n",
       "      <td>19.896870</td>\n",
       "      <td>1330.686689</td>\n",
       "      <td>1.922118</td>\n",
       "      <td>27094.330501</td>\n",
       "      <td>2.245964</td>\n",
       "      <td>31330.146616</td>\n",
       "      <td>2770.418826</td>\n",
       "      <td>2307.843630</td>\n",
       "    </tr>\n",
       "    <tr>\n",
       "      <th>min</th>\n",
       "      <td>1.000000</td>\n",
       "      <td>1.000000</td>\n",
       "      <td>33.000000</td>\n",
       "      <td>1.000000</td>\n",
       "      <td>4.282100e+04</td>\n",
       "      <td>33.900000</td>\n",
       "      <td>8110.000000</td>\n",
       "      <td>0.000000</td>\n",
       "      <td>818.000000</td>\n",
       "      <td>0.000000</td>\n",
       "      <td>888.000000</td>\n",
       "      <td>1.000000</td>\n",
       "      <td>1.000000</td>\n",
       "    </tr>\n",
       "    <tr>\n",
       "      <th>25%</th>\n",
       "      <td>1418.000000</td>\n",
       "      <td>14.000000</td>\n",
       "      <td>52.000000</td>\n",
       "      <td>14.000000</td>\n",
       "      <td>8.888400e+04</td>\n",
       "      <td>52.700000</td>\n",
       "      <td>8547.000000</td>\n",
       "      <td>2.000000</td>\n",
       "      <td>2166.000000</td>\n",
       "      <td>2.000000</td>\n",
       "      <td>2252.000000</td>\n",
       "      <td>1418.000000</td>\n",
       "      <td>1178.000000</td>\n",
       "    </tr>\n",
       "    <tr>\n",
       "      <th>50%</th>\n",
       "      <td>2839.000000</td>\n",
       "      <td>38.000000</td>\n",
       "      <td>66.000000</td>\n",
       "      <td>38.000000</td>\n",
       "      <td>1.219470e+05</td>\n",
       "      <td>63.100000</td>\n",
       "      <td>8980.000000</td>\n",
       "      <td>3.000000</td>\n",
       "      <td>3729.000000</td>\n",
       "      <td>3.000000</td>\n",
       "      <td>3839.000000</td>\n",
       "      <td>2839.000000</td>\n",
       "      <td>2349.000000</td>\n",
       "    </tr>\n",
       "    <tr>\n",
       "      <th>75%</th>\n",
       "      <td>4257.000000</td>\n",
       "      <td>60.000000</td>\n",
       "      <td>80.000000</td>\n",
       "      <td>60.000000</td>\n",
       "      <td>2.261220e+05</td>\n",
       "      <td>85.600000</td>\n",
       "      <td>9897.000000</td>\n",
       "      <td>4.000000</td>\n",
       "      <td>6949.000000</td>\n",
       "      <td>5.000000</td>\n",
       "      <td>6295.000000</td>\n",
       "      <td>4257.000000</td>\n",
       "      <td>3526.000000</td>\n",
       "    </tr>\n",
       "    <tr>\n",
       "      <th>max</th>\n",
       "      <td>13998.000000</td>\n",
       "      <td>77.000000</td>\n",
       "      <td>109.000000</td>\n",
       "      <td>77.000000</td>\n",
       "      <td>1.204953e+06</td>\n",
       "      <td>100.000000</td>\n",
       "      <td>12541.000000</td>\n",
       "      <td>7.000000</td>\n",
       "      <td>85677.000000</td>\n",
       "      <td>9.000000</td>\n",
       "      <td>99107.000000</td>\n",
       "      <td>13690.000000</td>\n",
       "      <td>11382.000000</td>\n",
       "    </tr>\n",
       "  </tbody>\n",
       "</table>\n",
       "</div>"
      ],
      "text/plain": [
       "          client_id  district_id          Age  District Code    Population  \\\n",
       "count   5369.000000  5369.000000  5369.000000    5369.000000  5.369000e+03   \n",
       "mean    3359.011920    37.310114    66.801639      37.310114  2.692806e+05   \n",
       "std     2832.911984    25.043690    17.282283      25.043690  3.590500e+05   \n",
       "min        1.000000     1.000000    33.000000       1.000000  4.282100e+04   \n",
       "25%     1418.000000    14.000000    52.000000      14.000000  8.888400e+04   \n",
       "50%     2839.000000    38.000000    66.000000      38.000000  1.219470e+05   \n",
       "75%     4257.000000    60.000000    80.000000      60.000000  2.261220e+05   \n",
       "max    13998.000000    77.000000   109.000000      77.000000  1.204953e+06   \n",
       "\n",
       "       Ratio of Urban Inhabitants  Average Salary  Unemployment Rate 95  \\\n",
       "count                 5369.000000     5369.000000           5308.000000   \n",
       "mean                    69.240045     9510.758614              2.894499   \n",
       "std                     19.896870     1330.686689              1.922118   \n",
       "min                     33.900000     8110.000000              0.000000   \n",
       "25%                     52.700000     8547.000000              2.000000   \n",
       "50%                     63.100000     8980.000000              3.000000   \n",
       "75%                     85.600000     9897.000000              4.000000   \n",
       "max                    100.000000    12541.000000              7.000000   \n",
       "\n",
       "       Number of Committeed Crimes 95  Unemployment Rate 96  \\\n",
       "count                     5308.000000           5369.000000   \n",
       "mean                     14818.629616              3.422611   \n",
       "std                      27094.330501              2.245964   \n",
       "min                        818.000000              0.000000   \n",
       "25%                       2166.000000              2.000000   \n",
       "50%                       3729.000000              3.000000   \n",
       "75%                       6949.000000              5.000000   \n",
       "max                      85677.000000              9.000000   \n",
       "\n",
       "       Number of Committed Crimes 96       disp_id    account_id  \n",
       "count                    5369.000000   5369.000000   5369.000000  \n",
       "mean                    16352.240082   3337.097970   2767.496927  \n",
       "std                     31330.146616   2770.418826   2307.843630  \n",
       "min                       888.000000      1.000000      1.000000  \n",
       "25%                      2252.000000   1418.000000   1178.000000  \n",
       "50%                      3839.000000   2839.000000   2349.000000  \n",
       "75%                      6295.000000   4257.000000   3526.000000  \n",
       "max                     99107.000000  13690.000000  11382.000000  "
      ]
     },
     "execution_count": 26,
     "metadata": {},
     "output_type": "execute_result"
    }
   ],
   "source": [
    "#view the resulting dataset\n",
    "accounts_data.describe()"
   ]
  },
  {
   "cell_type": "code",
   "execution_count": 27,
   "metadata": {},
   "outputs": [
    {
     "data": {
      "text/plain": [
       "Index(['client_id', 'district_id', 'DOB', 'Gender', 'Age', 'District Code',\n",
       "       'District Name', 'Region', 'Population', 'Ratio of Urban Inhabitants',\n",
       "       'Average Salary', 'Unemployment Rate 95',\n",
       "       'Number of Committeed Crimes 95', 'Unemployment Rate 96',\n",
       "       'Number of Committed Crimes 96', 'disp_id', 'account_id', 'type',\n",
       "       'Frequency of Statement Issuance', 'Date account opened'],\n",
       "      dtype='object')"
      ]
     },
     "execution_count": 27,
     "metadata": {},
     "output_type": "execute_result"
    }
   ],
   "source": [
    "#Check all the columns in the dataset\n",
    "accounts_data.columns"
   ]
  },
  {
   "cell_type": "code",
   "execution_count": 28,
   "metadata": {},
   "outputs": [
    {
     "data": {
      "text/plain": [
       "client_id                            0\n",
       "district_id                          0\n",
       "DOB                                  0\n",
       "Gender                               0\n",
       "Age                                  0\n",
       "District Code                        0\n",
       "District Name                        0\n",
       "Region                               0\n",
       "Population                           0\n",
       "Ratio of Urban Inhabitants           0\n",
       "Average Salary                       0\n",
       "Unemployment Rate 95                61\n",
       "Number of Committeed Crimes 95      61\n",
       "Unemployment Rate 96                 0\n",
       "Number of Committed Crimes 96        0\n",
       "disp_id                              0\n",
       "account_id                           0\n",
       "type                                 0\n",
       "Frequency of Statement Issuance    494\n",
       "Date account opened                494\n",
       "dtype: int64"
      ]
     },
     "execution_count": 28,
     "metadata": {},
     "output_type": "execute_result"
    }
   ],
   "source": [
    "#Check datatypes and null values in the dataset\n",
    "accounts_data.isnull().sum()"
   ]
  },
  {
   "cell_type": "code",
   "execution_count": 29,
   "metadata": {},
   "outputs": [],
   "source": [
    "#Import transactions for the dataset\n",
    "\n",
    "trans = pd.read_sql('''\n",
    "select\n",
    "trans_id,\n",
    "account_id,\n",
    "date as 'Transaction Date',\n",
    "case\n",
    "\twhen type ='PRIJEM' then 'Credit'\n",
    "\tElse 'Debit'\n",
    "End as Transaction_Type,\n",
    "\n",
    "case\n",
    "\twhen operation = 'VYBER KARTOU' then 'Credit Card Withdrawal'\n",
    "\twhen operation = 'VKLAD' then 'Credit in Cash'\n",
    "\twhen operation = 'prevod z uctu' then 'Collection from Another Bank'\n",
    "\twhen operation = 'vyber' then 'Withdrawal in Cash'\n",
    "\telse 'Remittance to another Bank'\n",
    "end as 'Type of Transaction'\n",
    ", amount,\n",
    "\n",
    "balance as 'Account Balance',\n",
    "\n",
    "case\n",
    "\twhen k_symbol = 'POJISTNE' then 'Insurance Payment'\n",
    "\twhen k_symbol = 'sluzby' then 'Payment for Statement'\n",
    "\twhen k_symbol = 'Urok' then 'Interest Credited'\n",
    "\twhen k_symbol = 'SANKC UROK' Then 'Sanction Interest if Negative Balance'\n",
    "\twhen k_symbol = 'Sipo' then 'Household'\n",
    "\twhen k_symbol = 'Duchod' then 'old-age' \n",
    "\telse 'Remittance to another Bank'\n",
    "end as 'Characterization of Transaction'\n",
    ",bank as 'Bank of Partner',\n",
    "account as 'Partner Account'\n",
    "\n",
    "from [dbo].[trans]\n",
    "''', cnxn)"
   ]
  },
  {
   "cell_type": "code",
   "execution_count": 30,
   "metadata": {},
   "outputs": [
    {
     "data": {
      "text/html": [
       "<div>\n",
       "<style scoped>\n",
       "    .dataframe tbody tr th:only-of-type {\n",
       "        vertical-align: middle;\n",
       "    }\n",
       "\n",
       "    .dataframe tbody tr th {\n",
       "        vertical-align: top;\n",
       "    }\n",
       "\n",
       "    .dataframe thead th {\n",
       "        text-align: right;\n",
       "    }\n",
       "</style>\n",
       "<table border=\"1\" class=\"dataframe\">\n",
       "  <thead>\n",
       "    <tr style=\"text-align: right;\">\n",
       "      <th></th>\n",
       "      <th>trans_id</th>\n",
       "      <th>account_id</th>\n",
       "      <th>Transaction Date</th>\n",
       "      <th>Transaction_Type</th>\n",
       "      <th>Type of Transaction</th>\n",
       "      <th>amount</th>\n",
       "      <th>Account Balance</th>\n",
       "      <th>Characterization of Transaction</th>\n",
       "      <th>Bank of Partner</th>\n",
       "      <th>Partner Account</th>\n",
       "    </tr>\n",
       "  </thead>\n",
       "  <tbody>\n",
       "    <tr>\n",
       "      <th>0</th>\n",
       "      <td>1</td>\n",
       "      <td>1</td>\n",
       "      <td>950324</td>\n",
       "      <td>Credit</td>\n",
       "      <td>Credit in Cash</td>\n",
       "      <td>1000.0</td>\n",
       "      <td>1000.0</td>\n",
       "      <td>Remittance to another Bank</td>\n",
       "      <td>None</td>\n",
       "      <td>None</td>\n",
       "    </tr>\n",
       "    <tr>\n",
       "      <th>1</th>\n",
       "      <td>5</td>\n",
       "      <td>1</td>\n",
       "      <td>950413</td>\n",
       "      <td>Credit</td>\n",
       "      <td>Collection from Another Bank</td>\n",
       "      <td>3679.0</td>\n",
       "      <td>4679.0</td>\n",
       "      <td>Remittance to another Bank</td>\n",
       "      <td>AB</td>\n",
       "      <td>41403269</td>\n",
       "    </tr>\n",
       "    <tr>\n",
       "      <th>2</th>\n",
       "      <td>6</td>\n",
       "      <td>1</td>\n",
       "      <td>950513</td>\n",
       "      <td>Credit</td>\n",
       "      <td>Collection from Another Bank</td>\n",
       "      <td>3679.0</td>\n",
       "      <td>20977.2</td>\n",
       "      <td>Remittance to another Bank</td>\n",
       "      <td>AB</td>\n",
       "      <td>41403269</td>\n",
       "    </tr>\n",
       "    <tr>\n",
       "      <th>3</th>\n",
       "      <td>7</td>\n",
       "      <td>1</td>\n",
       "      <td>950613</td>\n",
       "      <td>Credit</td>\n",
       "      <td>Collection from Another Bank</td>\n",
       "      <td>3679.0</td>\n",
       "      <td>26835.2</td>\n",
       "      <td>Remittance to another Bank</td>\n",
       "      <td>AB</td>\n",
       "      <td>41403269</td>\n",
       "    </tr>\n",
       "    <tr>\n",
       "      <th>4</th>\n",
       "      <td>8</td>\n",
       "      <td>1</td>\n",
       "      <td>950713</td>\n",
       "      <td>Credit</td>\n",
       "      <td>Collection from Another Bank</td>\n",
       "      <td>3679.0</td>\n",
       "      <td>30414.8</td>\n",
       "      <td>Remittance to another Bank</td>\n",
       "      <td>AB</td>\n",
       "      <td>41403269</td>\n",
       "    </tr>\n",
       "  </tbody>\n",
       "</table>\n",
       "</div>"
      ],
      "text/plain": [
       "   trans_id  account_id  Transaction Date Transaction_Type  \\\n",
       "0         1           1            950324           Credit   \n",
       "1         5           1            950413           Credit   \n",
       "2         6           1            950513           Credit   \n",
       "3         7           1            950613           Credit   \n",
       "4         8           1            950713           Credit   \n",
       "\n",
       "            Type of Transaction  amount  Account Balance  \\\n",
       "0                Credit in Cash  1000.0           1000.0   \n",
       "1  Collection from Another Bank  3679.0           4679.0   \n",
       "2  Collection from Another Bank  3679.0          20977.2   \n",
       "3  Collection from Another Bank  3679.0          26835.2   \n",
       "4  Collection from Another Bank  3679.0          30414.8   \n",
       "\n",
       "  Characterization of Transaction Bank of Partner Partner Account  \n",
       "0      Remittance to another Bank            None            None  \n",
       "1      Remittance to another Bank              AB        41403269  \n",
       "2      Remittance to another Bank              AB        41403269  \n",
       "3      Remittance to another Bank              AB        41403269  \n",
       "4      Remittance to another Bank              AB        41403269  "
      ]
     },
     "execution_count": 30,
     "metadata": {},
     "output_type": "execute_result"
    }
   ],
   "source": [
    "# view the trans dataset\n",
    "\n",
    "trans.head()"
   ]
  },
  {
   "cell_type": "code",
   "execution_count": 31,
   "metadata": {},
   "outputs": [
    {
     "data": {
      "text/html": [
       "<div>\n",
       "<style scoped>\n",
       "    .dataframe tbody tr th:only-of-type {\n",
       "        vertical-align: middle;\n",
       "    }\n",
       "\n",
       "    .dataframe tbody tr th {\n",
       "        vertical-align: top;\n",
       "    }\n",
       "\n",
       "    .dataframe thead th {\n",
       "        text-align: right;\n",
       "    }\n",
       "</style>\n",
       "<table border=\"1\" class=\"dataframe\">\n",
       "  <thead>\n",
       "    <tr style=\"text-align: right;\">\n",
       "      <th></th>\n",
       "      <th>trans_id</th>\n",
       "      <th>account_id</th>\n",
       "      <th>Transaction Date</th>\n",
       "      <th>amount</th>\n",
       "      <th>Account Balance</th>\n",
       "    </tr>\n",
       "  </thead>\n",
       "  <tbody>\n",
       "    <tr>\n",
       "      <th>count</th>\n",
       "      <td>1.056320e+06</td>\n",
       "      <td>1.056320e+06</td>\n",
       "      <td>1.056320e+06</td>\n",
       "      <td>1.056320e+06</td>\n",
       "      <td>1.056320e+06</td>\n",
       "    </tr>\n",
       "    <tr>\n",
       "      <th>mean</th>\n",
       "      <td>1.335311e+06</td>\n",
       "      <td>2.936867e+03</td>\n",
       "      <td>9.656748e+05</td>\n",
       "      <td>5.924146e+03</td>\n",
       "      <td>3.851833e+04</td>\n",
       "    </tr>\n",
       "    <tr>\n",
       "      <th>std</th>\n",
       "      <td>1.227487e+06</td>\n",
       "      <td>2.477345e+03</td>\n",
       "      <td>1.394535e+04</td>\n",
       "      <td>9.522735e+03</td>\n",
       "      <td>2.211787e+04</td>\n",
       "    </tr>\n",
       "    <tr>\n",
       "      <th>min</th>\n",
       "      <td>1.000000e+00</td>\n",
       "      <td>1.000000e+00</td>\n",
       "      <td>9.301010e+05</td>\n",
       "      <td>0.000000e+00</td>\n",
       "      <td>-4.112570e+04</td>\n",
       "    </tr>\n",
       "    <tr>\n",
       "      <th>25%</th>\n",
       "      <td>4.302628e+05</td>\n",
       "      <td>1.204000e+03</td>\n",
       "      <td>9.601160e+05</td>\n",
       "      <td>1.359000e+02</td>\n",
       "      <td>2.240250e+04</td>\n",
       "    </tr>\n",
       "    <tr>\n",
       "      <th>50%</th>\n",
       "      <td>8.585065e+05</td>\n",
       "      <td>2.434000e+03</td>\n",
       "      <td>9.704100e+05</td>\n",
       "      <td>2.100000e+03</td>\n",
       "      <td>3.314340e+04</td>\n",
       "    </tr>\n",
       "    <tr>\n",
       "      <th>75%</th>\n",
       "      <td>2.060979e+06</td>\n",
       "      <td>3.660000e+03</td>\n",
       "      <td>9.802280e+05</td>\n",
       "      <td>6.800000e+03</td>\n",
       "      <td>4.960362e+04</td>\n",
       "    </tr>\n",
       "    <tr>\n",
       "      <th>max</th>\n",
       "      <td>3.682987e+06</td>\n",
       "      <td>1.138200e+04</td>\n",
       "      <td>9.812310e+05</td>\n",
       "      <td>8.740000e+04</td>\n",
       "      <td>2.096370e+05</td>\n",
       "    </tr>\n",
       "  </tbody>\n",
       "</table>\n",
       "</div>"
      ],
      "text/plain": [
       "           trans_id    account_id  Transaction Date        amount  \\\n",
       "count  1.056320e+06  1.056320e+06      1.056320e+06  1.056320e+06   \n",
       "mean   1.335311e+06  2.936867e+03      9.656748e+05  5.924146e+03   \n",
       "std    1.227487e+06  2.477345e+03      1.394535e+04  9.522735e+03   \n",
       "min    1.000000e+00  1.000000e+00      9.301010e+05  0.000000e+00   \n",
       "25%    4.302628e+05  1.204000e+03      9.601160e+05  1.359000e+02   \n",
       "50%    8.585065e+05  2.434000e+03      9.704100e+05  2.100000e+03   \n",
       "75%    2.060979e+06  3.660000e+03      9.802280e+05  6.800000e+03   \n",
       "max    3.682987e+06  1.138200e+04      9.812310e+05  8.740000e+04   \n",
       "\n",
       "       Account Balance  \n",
       "count     1.056320e+06  \n",
       "mean      3.851833e+04  \n",
       "std       2.211787e+04  \n",
       "min      -4.112570e+04  \n",
       "25%       2.240250e+04  \n",
       "50%       3.314340e+04  \n",
       "75%       4.960362e+04  \n",
       "max       2.096370e+05  "
      ]
     },
     "execution_count": 31,
     "metadata": {},
     "output_type": "execute_result"
    }
   ],
   "source": [
    "#Checking out the number of transactions in the dataset\n",
    "trans.describe()"
   ]
  },
  {
   "cell_type": "code",
   "execution_count": 32,
   "metadata": {},
   "outputs": [],
   "source": [
    "# Joining the trans data to the accounts_data dataset\n",
    "trans_data = pd.merge(accounts_data, trans, how = 'left')"
   ]
  },
  {
   "cell_type": "code",
   "execution_count": 33,
   "metadata": {},
   "outputs": [
    {
     "data": {
      "text/html": [
       "<div>\n",
       "<style scoped>\n",
       "    .dataframe tbody tr th:only-of-type {\n",
       "        vertical-align: middle;\n",
       "    }\n",
       "\n",
       "    .dataframe tbody tr th {\n",
       "        vertical-align: top;\n",
       "    }\n",
       "\n",
       "    .dataframe thead th {\n",
       "        text-align: right;\n",
       "    }\n",
       "</style>\n",
       "<table border=\"1\" class=\"dataframe\">\n",
       "  <thead>\n",
       "    <tr style=\"text-align: right;\">\n",
       "      <th></th>\n",
       "      <th>client_id</th>\n",
       "      <th>district_id</th>\n",
       "      <th>Age</th>\n",
       "      <th>District Code</th>\n",
       "      <th>Population</th>\n",
       "      <th>Ratio of Urban Inhabitants</th>\n",
       "      <th>Average Salary</th>\n",
       "      <th>Unemployment Rate 95</th>\n",
       "      <th>Number of Committeed Crimes 95</th>\n",
       "      <th>Unemployment Rate 96</th>\n",
       "      <th>Number of Committed Crimes 96</th>\n",
       "      <th>disp_id</th>\n",
       "      <th>account_id</th>\n",
       "      <th>trans_id</th>\n",
       "      <th>Transaction Date</th>\n",
       "      <th>amount</th>\n",
       "      <th>Account Balance</th>\n",
       "    </tr>\n",
       "  </thead>\n",
       "  <tbody>\n",
       "    <tr>\n",
       "      <th>count</th>\n",
       "      <td>1.262625e+06</td>\n",
       "      <td>1.262625e+06</td>\n",
       "      <td>1.262625e+06</td>\n",
       "      <td>1.262625e+06</td>\n",
       "      <td>1.262625e+06</td>\n",
       "      <td>1.262625e+06</td>\n",
       "      <td>1.262625e+06</td>\n",
       "      <td>1.249710e+06</td>\n",
       "      <td>1.249710e+06</td>\n",
       "      <td>1.262625e+06</td>\n",
       "      <td>1.262625e+06</td>\n",
       "      <td>1.262625e+06</td>\n",
       "      <td>1.262625e+06</td>\n",
       "      <td>1.262625e+06</td>\n",
       "      <td>1.262625e+06</td>\n",
       "      <td>1.262625e+06</td>\n",
       "      <td>1.262625e+06</td>\n",
       "    </tr>\n",
       "    <tr>\n",
       "      <th>mean</th>\n",
       "      <td>3.556496e+03</td>\n",
       "      <td>3.746681e+01</td>\n",
       "      <td>6.611505e+01</td>\n",
       "      <td>3.746681e+01</td>\n",
       "      <td>2.701233e+05</td>\n",
       "      <td>6.926534e+01</td>\n",
       "      <td>9.521933e+03</td>\n",
       "      <td>2.913327e+00</td>\n",
       "      <td>1.487443e+04</td>\n",
       "      <td>3.433616e+00</td>\n",
       "      <td>1.642587e+04</td>\n",
       "      <td>3.528402e+03</td>\n",
       "      <td>2.927288e+03</td>\n",
       "      <td>1.332701e+06</td>\n",
       "      <td>9.656211e+05</td>\n",
       "      <td>5.873195e+03</td>\n",
       "      <td>3.842065e+04</td>\n",
       "    </tr>\n",
       "    <tr>\n",
       "      <th>std</th>\n",
       "      <td>3.045982e+03</td>\n",
       "      <td>2.513161e+01</td>\n",
       "      <td>1.685067e+01</td>\n",
       "      <td>2.513161e+01</td>\n",
       "      <td>3.593083e+05</td>\n",
       "      <td>1.997936e+01</td>\n",
       "      <td>1.330143e+03</td>\n",
       "      <td>1.928124e+00</td>\n",
       "      <td>2.710469e+04</td>\n",
       "      <td>2.252882e+00</td>\n",
       "      <td>3.135546e+04</td>\n",
       "      <td>2.973958e+03</td>\n",
       "      <td>2.478426e+03</td>\n",
       "      <td>1.228685e+06</td>\n",
       "      <td>1.398746e+04</td>\n",
       "      <td>9.470080e+03</td>\n",
       "      <td>2.210205e+04</td>\n",
       "    </tr>\n",
       "    <tr>\n",
       "      <th>min</th>\n",
       "      <td>1.000000e+00</td>\n",
       "      <td>1.000000e+00</td>\n",
       "      <td>3.300000e+01</td>\n",
       "      <td>1.000000e+00</td>\n",
       "      <td>4.282100e+04</td>\n",
       "      <td>3.390000e+01</td>\n",
       "      <td>8.110000e+03</td>\n",
       "      <td>0.000000e+00</td>\n",
       "      <td>8.180000e+02</td>\n",
       "      <td>0.000000e+00</td>\n",
       "      <td>8.880000e+02</td>\n",
       "      <td>1.000000e+00</td>\n",
       "      <td>1.000000e+00</td>\n",
       "      <td>1.000000e+00</td>\n",
       "      <td>9.301010e+05</td>\n",
       "      <td>0.000000e+00</td>\n",
       "      <td>-4.112570e+04</td>\n",
       "    </tr>\n",
       "    <tr>\n",
       "      <th>25%</th>\n",
       "      <td>1.450000e+03</td>\n",
       "      <td>1.400000e+01</td>\n",
       "      <td>5.200000e+01</td>\n",
       "      <td>1.400000e+01</td>\n",
       "      <td>8.888400e+04</td>\n",
       "      <td>5.270000e+01</td>\n",
       "      <td>8.547000e+03</td>\n",
       "      <td>2.000000e+00</td>\n",
       "      <td>2.166000e+03</td>\n",
       "      <td>2.000000e+00</td>\n",
       "      <td>2.305000e+03</td>\n",
       "      <td>1.450000e+03</td>\n",
       "      <td>1.201000e+03</td>\n",
       "      <td>4.263580e+05</td>\n",
       "      <td>9.601130e+05</td>\n",
       "      <td>1.349000e+02</td>\n",
       "      <td>2.225640e+04</td>\n",
       "    </tr>\n",
       "    <tr>\n",
       "      <th>50%</th>\n",
       "      <td>2.933000e+03</td>\n",
       "      <td>3.900000e+01</td>\n",
       "      <td>6.500000e+01</td>\n",
       "      <td>3.900000e+01</td>\n",
       "      <td>1.226030e+05</td>\n",
       "      <td>6.310000e+01</td>\n",
       "      <td>8.980000e+03</td>\n",
       "      <td>3.000000e+00</td>\n",
       "      <td>3.736000e+03</td>\n",
       "      <td>3.000000e+00</td>\n",
       "      <td>3.839000e+03</td>\n",
       "      <td>2.933000e+03</td>\n",
       "      <td>2.428000e+03</td>\n",
       "      <td>8.550880e+05</td>\n",
       "      <td>9.704090e+05</td>\n",
       "      <td>2.100000e+03</td>\n",
       "      <td>3.296050e+04</td>\n",
       "    </tr>\n",
       "    <tr>\n",
       "      <th>75%</th>\n",
       "      <td>4.398000e+03</td>\n",
       "      <td>6.000000e+01</td>\n",
       "      <td>7.800000e+01</td>\n",
       "      <td>6.000000e+01</td>\n",
       "      <td>2.261220e+05</td>\n",
       "      <td>8.560000e+01</td>\n",
       "      <td>9.920000e+03</td>\n",
       "      <td>4.000000e+00</td>\n",
       "      <td>6.949000e+03</td>\n",
       "      <td>5.000000e+00</td>\n",
       "      <td>6.872000e+03</td>\n",
       "      <td>4.398000e+03</td>\n",
       "      <td>3.647000e+03</td>\n",
       "      <td>2.106623e+06</td>\n",
       "      <td>9.802280e+05</td>\n",
       "      <td>6.694000e+03</td>\n",
       "      <td>4.943620e+04</td>\n",
       "    </tr>\n",
       "    <tr>\n",
       "      <th>max</th>\n",
       "      <td>1.399800e+04</td>\n",
       "      <td>7.700000e+01</td>\n",
       "      <td>1.090000e+02</td>\n",
       "      <td>7.700000e+01</td>\n",
       "      <td>1.204953e+06</td>\n",
       "      <td>1.000000e+02</td>\n",
       "      <td>1.254100e+04</td>\n",
       "      <td>7.000000e+00</td>\n",
       "      <td>8.567700e+04</td>\n",
       "      <td>9.000000e+00</td>\n",
       "      <td>9.910700e+04</td>\n",
       "      <td>1.369000e+04</td>\n",
       "      <td>1.138200e+04</td>\n",
       "      <td>3.682987e+06</td>\n",
       "      <td>9.812310e+05</td>\n",
       "      <td>8.740000e+04</td>\n",
       "      <td>2.096370e+05</td>\n",
       "    </tr>\n",
       "  </tbody>\n",
       "</table>\n",
       "</div>"
      ],
      "text/plain": [
       "          client_id   district_id           Age  District Code    Population  \\\n",
       "count  1.262625e+06  1.262625e+06  1.262625e+06   1.262625e+06  1.262625e+06   \n",
       "mean   3.556496e+03  3.746681e+01  6.611505e+01   3.746681e+01  2.701233e+05   \n",
       "std    3.045982e+03  2.513161e+01  1.685067e+01   2.513161e+01  3.593083e+05   \n",
       "min    1.000000e+00  1.000000e+00  3.300000e+01   1.000000e+00  4.282100e+04   \n",
       "25%    1.450000e+03  1.400000e+01  5.200000e+01   1.400000e+01  8.888400e+04   \n",
       "50%    2.933000e+03  3.900000e+01  6.500000e+01   3.900000e+01  1.226030e+05   \n",
       "75%    4.398000e+03  6.000000e+01  7.800000e+01   6.000000e+01  2.261220e+05   \n",
       "max    1.399800e+04  7.700000e+01  1.090000e+02   7.700000e+01  1.204953e+06   \n",
       "\n",
       "       Ratio of Urban Inhabitants  Average Salary  Unemployment Rate 95  \\\n",
       "count                1.262625e+06    1.262625e+06          1.249710e+06   \n",
       "mean                 6.926534e+01    9.521933e+03          2.913327e+00   \n",
       "std                  1.997936e+01    1.330143e+03          1.928124e+00   \n",
       "min                  3.390000e+01    8.110000e+03          0.000000e+00   \n",
       "25%                  5.270000e+01    8.547000e+03          2.000000e+00   \n",
       "50%                  6.310000e+01    8.980000e+03          3.000000e+00   \n",
       "75%                  8.560000e+01    9.920000e+03          4.000000e+00   \n",
       "max                  1.000000e+02    1.254100e+04          7.000000e+00   \n",
       "\n",
       "       Number of Committeed Crimes 95  Unemployment Rate 96  \\\n",
       "count                    1.249710e+06          1.262625e+06   \n",
       "mean                     1.487443e+04          3.433616e+00   \n",
       "std                      2.710469e+04          2.252882e+00   \n",
       "min                      8.180000e+02          0.000000e+00   \n",
       "25%                      2.166000e+03          2.000000e+00   \n",
       "50%                      3.736000e+03          3.000000e+00   \n",
       "75%                      6.949000e+03          5.000000e+00   \n",
       "max                      8.567700e+04          9.000000e+00   \n",
       "\n",
       "       Number of Committed Crimes 96       disp_id    account_id  \\\n",
       "count                   1.262625e+06  1.262625e+06  1.262625e+06   \n",
       "mean                    1.642587e+04  3.528402e+03  2.927288e+03   \n",
       "std                     3.135546e+04  2.973958e+03  2.478426e+03   \n",
       "min                     8.880000e+02  1.000000e+00  1.000000e+00   \n",
       "25%                     2.305000e+03  1.450000e+03  1.201000e+03   \n",
       "50%                     3.839000e+03  2.933000e+03  2.428000e+03   \n",
       "75%                     6.872000e+03  4.398000e+03  3.647000e+03   \n",
       "max                     9.910700e+04  1.369000e+04  1.138200e+04   \n",
       "\n",
       "           trans_id  Transaction Date        amount  Account Balance  \n",
       "count  1.262625e+06      1.262625e+06  1.262625e+06     1.262625e+06  \n",
       "mean   1.332701e+06      9.656211e+05  5.873195e+03     3.842065e+04  \n",
       "std    1.228685e+06      1.398746e+04  9.470080e+03     2.210205e+04  \n",
       "min    1.000000e+00      9.301010e+05  0.000000e+00    -4.112570e+04  \n",
       "25%    4.263580e+05      9.601130e+05  1.349000e+02     2.225640e+04  \n",
       "50%    8.550880e+05      9.704090e+05  2.100000e+03     3.296050e+04  \n",
       "75%    2.106623e+06      9.802280e+05  6.694000e+03     4.943620e+04  \n",
       "max    3.682987e+06      9.812310e+05  8.740000e+04     2.096370e+05  "
      ]
     },
     "execution_count": 33,
     "metadata": {},
     "output_type": "execute_result"
    }
   ],
   "source": [
    "#get a feel of the resulting dataset\n",
    "trans_data.describe()"
   ]
  },
  {
   "cell_type": "code",
   "execution_count": 34,
   "metadata": {},
   "outputs": [
    {
     "name": "stdout",
     "output_type": "stream",
     "text": [
      "<class 'pandas.core.frame.DataFrame'>\n",
      "Int64Index: 1262625 entries, 0 to 1262624\n",
      "Data columns (total 29 columns):\n",
      " #   Column                           Non-Null Count    Dtype         \n",
      "---  ------                           --------------    -----         \n",
      " 0   client_id                        1262625 non-null  int64         \n",
      " 1   district_id                      1262625 non-null  int64         \n",
      " 2   DOB                              1262625 non-null  datetime64[ns]\n",
      " 3   Gender                           1262625 non-null  object        \n",
      " 4   Age                              1262625 non-null  int64         \n",
      " 5   District Code                    1262625 non-null  int64         \n",
      " 6   District Name                    1262625 non-null  object        \n",
      " 7   Region                           1262625 non-null  object        \n",
      " 8   Population                       1262625 non-null  int64         \n",
      " 9   Ratio of Urban Inhabitants       1262625 non-null  float64       \n",
      " 10  Average Salary                   1262625 non-null  float64       \n",
      " 11  Unemployment Rate 95             1249710 non-null  float64       \n",
      " 12  Number of Committeed Crimes 95   1249710 non-null  float64       \n",
      " 13  Unemployment Rate 96             1262625 non-null  int64         \n",
      " 14  Number of Committed Crimes 96    1262625 non-null  int64         \n",
      " 15  disp_id                          1262625 non-null  int64         \n",
      " 16  account_id                       1262625 non-null  int64         \n",
      " 17  type                             1262625 non-null  object        \n",
      " 18  Frequency of Statement Issuance  1066756 non-null  object        \n",
      " 19  Date account opened              1066756 non-null  datetime64[ns]\n",
      " 20  trans_id                         1262625 non-null  int64         \n",
      " 21  Transaction Date                 1262625 non-null  int64         \n",
      " 22  Transaction_Type                 1262625 non-null  object        \n",
      " 23  Type of Transaction              1262625 non-null  object        \n",
      " 24  amount                           1262625 non-null  float64       \n",
      " 25  Account Balance                  1262625 non-null  float64       \n",
      " 26  Characterization of Transaction  1262625 non-null  object        \n",
      " 27  Bank of Partner                  336049 non-null   object        \n",
      " 28  Partner Account                  361592 non-null   object        \n",
      "dtypes: datetime64[ns](2), float64(6), int64(11), object(10)\n",
      "memory usage: 289.0+ MB\n"
     ]
    }
   ],
   "source": [
    "#Look at the data types and null-values of the new dataset\n",
    "trans_data.info()"
   ]
  },
  {
   "cell_type": "code",
   "execution_count": 35,
   "metadata": {},
   "outputs": [
    {
     "data": {
      "text/plain": [
       "client_id                             5369\n",
       "district_id                             77\n",
       "DOB                                   4738\n",
       "Gender                                   2\n",
       "Age                                     77\n",
       "District Code                           77\n",
       "District Name                           77\n",
       "Region                                   8\n",
       "Population                              77\n",
       "Ratio of Urban Inhabitants              70\n",
       "Average Salary                          76\n",
       "Unemployment Rate 95                     8\n",
       "Number of Committeed Crimes 95          75\n",
       "Unemployment Rate 96                    10\n",
       "Number of Committed Crimes 96           76\n",
       "disp_id                               5369\n",
       "account_id                            4500\n",
       "type                                     2\n",
       "Frequency of Statement Issuance          3\n",
       "Date account opened                   1510\n",
       "trans_id                           1056320\n",
       "Transaction Date                      2191\n",
       "Transaction_Type                         2\n",
       "Type of Transaction                      5\n",
       "amount                               40400\n",
       "Account Balance                     542739\n",
       "Characterization of Transaction          6\n",
       "Bank of Partner                         13\n",
       "Partner Account                       7665\n",
       "dtype: int64"
      ]
     },
     "execution_count": 35,
     "metadata": {},
     "output_type": "execute_result"
    }
   ],
   "source": [
    "#Get the unique values of the dataset\n",
    "trans_data.nunique()"
   ]
  },
  {
   "cell_type": "markdown",
   "metadata": {},
   "source": [
    "We need to import the loan and order tables to confirm those that are already indebted.\n",
    "\n",
    "Their ability to repair is important in granting the credit card."
   ]
  },
  {
   "cell_type": "code",
   "execution_count": 36,
   "metadata": {},
   "outputs": [],
   "source": [
    "#Importing the loan table\n",
    "\n",
    "loan = pd.read_sql_query('''\n",
    "select\n",
    "loan_id,\n",
    "account_id,\n",
    "date as 'Date loan taken',\n",
    "amount as 'Amount of Loan',\n",
    "payments as 'Loan Payments',\n",
    "duration as 'Loan Duration',\n",
    "[Expanded Status] as 'Loan Status'\n",
    "\n",
    "from [dbo].[loan]\n",
    "\n",
    "''', cnxn)"
   ]
  },
  {
   "cell_type": "code",
   "execution_count": 37,
   "metadata": {
    "scrolled": true
   },
   "outputs": [
    {
     "data": {
      "text/html": [
       "<div>\n",
       "<style scoped>\n",
       "    .dataframe tbody tr th:only-of-type {\n",
       "        vertical-align: middle;\n",
       "    }\n",
       "\n",
       "    .dataframe tbody tr th {\n",
       "        vertical-align: top;\n",
       "    }\n",
       "\n",
       "    .dataframe thead th {\n",
       "        text-align: right;\n",
       "    }\n",
       "</style>\n",
       "<table border=\"1\" class=\"dataframe\">\n",
       "  <thead>\n",
       "    <tr style=\"text-align: right;\">\n",
       "      <th></th>\n",
       "      <th>loan_id</th>\n",
       "      <th>account_id</th>\n",
       "      <th>Date loan taken</th>\n",
       "      <th>Amount of Loan</th>\n",
       "      <th>Loan Payments</th>\n",
       "      <th>Loan Duration</th>\n",
       "      <th>Loan Status</th>\n",
       "    </tr>\n",
       "  </thead>\n",
       "  <tbody>\n",
       "    <tr>\n",
       "      <th>0</th>\n",
       "      <td>5314</td>\n",
       "      <td>1787</td>\n",
       "      <td>05-07-93</td>\n",
       "      <td>96396.0</td>\n",
       "      <td>8033.0</td>\n",
       "      <td>12</td>\n",
       "      <td>\"Contract Finished, Loan not Paid\"</td>\n",
       "    </tr>\n",
       "    <tr>\n",
       "      <th>1</th>\n",
       "      <td>5316</td>\n",
       "      <td>1801</td>\n",
       "      <td>11-07-93</td>\n",
       "      <td>165960.0</td>\n",
       "      <td>4610.0</td>\n",
       "      <td>36</td>\n",
       "      <td>Contract Finished No Problems</td>\n",
       "    </tr>\n",
       "    <tr>\n",
       "      <th>2</th>\n",
       "      <td>6863</td>\n",
       "      <td>9188</td>\n",
       "      <td>28-07-93</td>\n",
       "      <td>127080.0</td>\n",
       "      <td>2118.0</td>\n",
       "      <td>60</td>\n",
       "      <td>Contract Finished No Problems</td>\n",
       "    </tr>\n",
       "    <tr>\n",
       "      <th>3</th>\n",
       "      <td>5325</td>\n",
       "      <td>1843</td>\n",
       "      <td>03-08-93</td>\n",
       "      <td>105804.0</td>\n",
       "      <td>2939.0</td>\n",
       "      <td>36</td>\n",
       "      <td>Contract Finished No Problems</td>\n",
       "    </tr>\n",
       "    <tr>\n",
       "      <th>4</th>\n",
       "      <td>7240</td>\n",
       "      <td>11013</td>\n",
       "      <td>06-09-93</td>\n",
       "      <td>274740.0</td>\n",
       "      <td>4579.0</td>\n",
       "      <td>60</td>\n",
       "      <td>Contract Finished No Problems</td>\n",
       "    </tr>\n",
       "  </tbody>\n",
       "</table>\n",
       "</div>"
      ],
      "text/plain": [
       "   loan_id  account_id Date loan taken  Amount of Loan  Loan Payments  \\\n",
       "0     5314        1787        05-07-93         96396.0         8033.0   \n",
       "1     5316        1801        11-07-93        165960.0         4610.0   \n",
       "2     6863        9188        28-07-93        127080.0         2118.0   \n",
       "3     5325        1843        03-08-93        105804.0         2939.0   \n",
       "4     7240       11013        06-09-93        274740.0         4579.0   \n",
       "\n",
       "   Loan Duration                         Loan Status  \n",
       "0             12  \"Contract Finished, Loan not Paid\"  \n",
       "1             36       Contract Finished No Problems  \n",
       "2             60       Contract Finished No Problems  \n",
       "3             36       Contract Finished No Problems  \n",
       "4             60       Contract Finished No Problems  "
      ]
     },
     "execution_count": 37,
     "metadata": {},
     "output_type": "execute_result"
    }
   ],
   "source": [
    "#Display the data\n",
    "loan.head()"
   ]
  },
  {
   "cell_type": "markdown",
   "metadata": {},
   "source": [
    "Join the loan to the accounts table to know how many accounts are on loan"
   ]
  },
  {
   "cell_type": "code",
   "execution_count": 38,
   "metadata": {},
   "outputs": [],
   "source": [
    "loan_account = pd.merge(accounts,loan,how='left')"
   ]
  },
  {
   "cell_type": "code",
   "execution_count": 39,
   "metadata": {},
   "outputs": [
    {
     "data": {
      "text/plain": [
       "\"Running Contract, OK so far\"         403\n",
       "Contract Finished No Problems         203\n",
       "Running Contract Client in Debt        45\n",
       "\"Contract Finished, Loan not Paid\"     31\n",
       "Name: Loan Status, dtype: int64"
      ]
     },
     "execution_count": 39,
     "metadata": {},
     "output_type": "execute_result"
    }
   ],
   "source": [
    "#Check out the count of the status of the various loans in the Bank\n",
    "loan_account['Loan Status'].value_counts()"
   ]
  },
  {
   "cell_type": "code",
   "execution_count": 40,
   "metadata": {},
   "outputs": [],
   "source": [
    "#import accounts with debit orders\n",
    "\n",
    "orders = pd.read_sql_query('''\n",
    "select\n",
    "order_id,\n",
    "account_id,\n",
    "Debbited_Amount as 'Amount Debited',\n",
    "bank_to as 'Recipient Bank',\n",
    "Meaning_of_K 'Reason for debit'\n",
    "\n",
    "from[dbo].[Order]\n",
    "\n",
    "''', cnxn)"
   ]
  },
  {
   "cell_type": "code",
   "execution_count": 41,
   "metadata": {},
   "outputs": [
    {
     "data": {
      "text/html": [
       "<div>\n",
       "<style scoped>\n",
       "    .dataframe tbody tr th:only-of-type {\n",
       "        vertical-align: middle;\n",
       "    }\n",
       "\n",
       "    .dataframe tbody tr th {\n",
       "        vertical-align: top;\n",
       "    }\n",
       "\n",
       "    .dataframe thead th {\n",
       "        text-align: right;\n",
       "    }\n",
       "</style>\n",
       "<table border=\"1\" class=\"dataframe\">\n",
       "  <thead>\n",
       "    <tr style=\"text-align: right;\">\n",
       "      <th></th>\n",
       "      <th>order_id</th>\n",
       "      <th>account_id</th>\n",
       "      <th>Amount Debited</th>\n",
       "    </tr>\n",
       "  </thead>\n",
       "  <tbody>\n",
       "    <tr>\n",
       "      <th>count</th>\n",
       "      <td>6471.000000</td>\n",
       "      <td>6471.000000</td>\n",
       "      <td>6471.000000</td>\n",
       "    </tr>\n",
       "    <tr>\n",
       "      <th>mean</th>\n",
       "      <td>33778.197497</td>\n",
       "      <td>2962.302890</td>\n",
       "      <td>3280.635698</td>\n",
       "    </tr>\n",
       "    <tr>\n",
       "      <th>std</th>\n",
       "      <td>3737.681949</td>\n",
       "      <td>2518.503228</td>\n",
       "      <td>2714.475335</td>\n",
       "    </tr>\n",
       "    <tr>\n",
       "      <th>min</th>\n",
       "      <td>29401.000000</td>\n",
       "      <td>1.000000</td>\n",
       "      <td>1.000000</td>\n",
       "    </tr>\n",
       "    <tr>\n",
       "      <th>25%</th>\n",
       "      <td>31187.500000</td>\n",
       "      <td>1223.000000</td>\n",
       "      <td>1241.500000</td>\n",
       "    </tr>\n",
       "    <tr>\n",
       "      <th>50%</th>\n",
       "      <td>32988.000000</td>\n",
       "      <td>2433.000000</td>\n",
       "      <td>2596.000000</td>\n",
       "    </tr>\n",
       "    <tr>\n",
       "      <th>75%</th>\n",
       "      <td>34785.500000</td>\n",
       "      <td>3645.500000</td>\n",
       "      <td>4613.500000</td>\n",
       "    </tr>\n",
       "    <tr>\n",
       "      <th>max</th>\n",
       "      <td>46338.000000</td>\n",
       "      <td>11362.000000</td>\n",
       "      <td>14882.000000</td>\n",
       "    </tr>\n",
       "  </tbody>\n",
       "</table>\n",
       "</div>"
      ],
      "text/plain": [
       "           order_id    account_id  Amount Debited\n",
       "count   6471.000000   6471.000000     6471.000000\n",
       "mean   33778.197497   2962.302890     3280.635698\n",
       "std     3737.681949   2518.503228     2714.475335\n",
       "min    29401.000000      1.000000        1.000000\n",
       "25%    31187.500000   1223.000000     1241.500000\n",
       "50%    32988.000000   2433.000000     2596.000000\n",
       "75%    34785.500000   3645.500000     4613.500000\n",
       "max    46338.000000  11362.000000    14882.000000"
      ]
     },
     "execution_count": 41,
     "metadata": {},
     "output_type": "execute_result"
    }
   ],
   "source": [
    "# View the data set\n",
    "orders.describe()"
   ]
  },
  {
   "cell_type": "code",
   "execution_count": 42,
   "metadata": {},
   "outputs": [
    {
     "data": {
      "text/html": [
       "<div>\n",
       "<style scoped>\n",
       "    .dataframe tbody tr th:only-of-type {\n",
       "        vertical-align: middle;\n",
       "    }\n",
       "\n",
       "    .dataframe tbody tr th {\n",
       "        vertical-align: top;\n",
       "    }\n",
       "\n",
       "    .dataframe thead th {\n",
       "        text-align: right;\n",
       "    }\n",
       "</style>\n",
       "<table border=\"1\" class=\"dataframe\">\n",
       "  <thead>\n",
       "    <tr style=\"text-align: right;\">\n",
       "      <th></th>\n",
       "      <th>order_id</th>\n",
       "      <th>account_id</th>\n",
       "      <th>Amount Debited</th>\n",
       "      <th>Recipient Bank</th>\n",
       "      <th>Reason for debit</th>\n",
       "    </tr>\n",
       "  </thead>\n",
       "  <tbody>\n",
       "    <tr>\n",
       "      <th>0</th>\n",
       "      <td>29401</td>\n",
       "      <td>1</td>\n",
       "      <td>2452.0</td>\n",
       "      <td>YZ</td>\n",
       "      <td>Household Payment</td>\n",
       "    </tr>\n",
       "    <tr>\n",
       "      <th>1</th>\n",
       "      <td>29402</td>\n",
       "      <td>2</td>\n",
       "      <td>3372.7</td>\n",
       "      <td>ST</td>\n",
       "      <td>Loan Payment</td>\n",
       "    </tr>\n",
       "    <tr>\n",
       "      <th>2</th>\n",
       "      <td>29403</td>\n",
       "      <td>2</td>\n",
       "      <td>7266.0</td>\n",
       "      <td>QR</td>\n",
       "      <td>Household Payment</td>\n",
       "    </tr>\n",
       "    <tr>\n",
       "      <th>3</th>\n",
       "      <td>29404</td>\n",
       "      <td>3</td>\n",
       "      <td>1135.0</td>\n",
       "      <td>WX</td>\n",
       "      <td>Household Payment</td>\n",
       "    </tr>\n",
       "    <tr>\n",
       "      <th>4</th>\n",
       "      <td>29405</td>\n",
       "      <td>3</td>\n",
       "      <td>327.0</td>\n",
       "      <td>CD</td>\n",
       "      <td>FALSE</td>\n",
       "    </tr>\n",
       "  </tbody>\n",
       "</table>\n",
       "</div>"
      ],
      "text/plain": [
       "   order_id  account_id  Amount Debited Recipient Bank   Reason for debit\n",
       "0     29401           1          2452.0             YZ  Household Payment\n",
       "1     29402           2          3372.7             ST       Loan Payment\n",
       "2     29403           2          7266.0             QR  Household Payment\n",
       "3     29404           3          1135.0             WX  Household Payment\n",
       "4     29405           3           327.0             CD              FALSE"
      ]
     },
     "execution_count": 42,
     "metadata": {},
     "output_type": "execute_result"
    }
   ],
   "source": [
    "#View the dataset\n",
    "orders.head()"
   ]
  },
  {
   "cell_type": "code",
   "execution_count": 43,
   "metadata": {},
   "outputs": [
    {
     "data": {
      "text/plain": [
       "Household Payment     3502\n",
       "FALSE                 1379\n",
       "Loan Payment           717\n",
       "Insurance Payments     532\n",
       "Leasing                341\n",
       "Name: Reason for debit, dtype: int64"
      ]
     },
     "execution_count": 43,
     "metadata": {},
     "output_type": "execute_result"
    }
   ],
   "source": [
    "# Check the count of different customers and their reasons for debit\n",
    "orders['Reason for debit'].value_counts()"
   ]
  },
  {
   "cell_type": "code",
   "execution_count": 44,
   "metadata": {},
   "outputs": [],
   "source": [
    "#merge the Orders and account tables to see accounts that have standing instructions\n",
    "\n",
    "order_account = pd.merge(accounts, orders, how = 'left')"
   ]
  },
  {
   "cell_type": "code",
   "execution_count": 45,
   "metadata": {},
   "outputs": [
    {
     "data": {
      "text/html": [
       "<div>\n",
       "<style scoped>\n",
       "    .dataframe tbody tr th:only-of-type {\n",
       "        vertical-align: middle;\n",
       "    }\n",
       "\n",
       "    .dataframe tbody tr th {\n",
       "        vertical-align: top;\n",
       "    }\n",
       "\n",
       "    .dataframe thead th {\n",
       "        text-align: right;\n",
       "    }\n",
       "</style>\n",
       "<table border=\"1\" class=\"dataframe\">\n",
       "  <thead>\n",
       "    <tr style=\"text-align: right;\">\n",
       "      <th></th>\n",
       "      <th>account_id</th>\n",
       "      <th>district_id</th>\n",
       "      <th>Frequency of Statement Issuance</th>\n",
       "      <th>Date account opened</th>\n",
       "      <th>order_id</th>\n",
       "      <th>Amount Debited</th>\n",
       "      <th>Recipient Bank</th>\n",
       "      <th>Reason for debit</th>\n",
       "    </tr>\n",
       "  </thead>\n",
       "  <tbody>\n",
       "    <tr>\n",
       "      <th>0</th>\n",
       "      <td>1</td>\n",
       "      <td>18</td>\n",
       "      <td>Monthly Issuance</td>\n",
       "      <td>1995-03-24</td>\n",
       "      <td>29401.0</td>\n",
       "      <td>2452.0</td>\n",
       "      <td>YZ</td>\n",
       "      <td>Household Payment</td>\n",
       "    </tr>\n",
       "    <tr>\n",
       "      <th>1</th>\n",
       "      <td>2</td>\n",
       "      <td>1</td>\n",
       "      <td>Monthly Issuance</td>\n",
       "      <td>1993-02-26</td>\n",
       "      <td>29402.0</td>\n",
       "      <td>3372.7</td>\n",
       "      <td>ST</td>\n",
       "      <td>Loan Payment</td>\n",
       "    </tr>\n",
       "    <tr>\n",
       "      <th>2</th>\n",
       "      <td>2</td>\n",
       "      <td>1</td>\n",
       "      <td>Monthly Issuance</td>\n",
       "      <td>1993-02-26</td>\n",
       "      <td>29403.0</td>\n",
       "      <td>7266.0</td>\n",
       "      <td>QR</td>\n",
       "      <td>Household Payment</td>\n",
       "    </tr>\n",
       "    <tr>\n",
       "      <th>3</th>\n",
       "      <td>3</td>\n",
       "      <td>5</td>\n",
       "      <td>Monthly Issuance</td>\n",
       "      <td>1997-07-07</td>\n",
       "      <td>29404.0</td>\n",
       "      <td>1135.0</td>\n",
       "      <td>WX</td>\n",
       "      <td>Household Payment</td>\n",
       "    </tr>\n",
       "    <tr>\n",
       "      <th>4</th>\n",
       "      <td>3</td>\n",
       "      <td>5</td>\n",
       "      <td>Monthly Issuance</td>\n",
       "      <td>1997-07-07</td>\n",
       "      <td>29405.0</td>\n",
       "      <td>327.0</td>\n",
       "      <td>CD</td>\n",
       "      <td>FALSE</td>\n",
       "    </tr>\n",
       "  </tbody>\n",
       "</table>\n",
       "</div>"
      ],
      "text/plain": [
       "   account_id  district_id Frequency of Statement Issuance  \\\n",
       "0           1           18                Monthly Issuance   \n",
       "1           2            1                Monthly Issuance   \n",
       "2           2            1                Monthly Issuance   \n",
       "3           3            5                Monthly Issuance   \n",
       "4           3            5                Monthly Issuance   \n",
       "\n",
       "  Date account opened  order_id  Amount Debited Recipient Bank  \\\n",
       "0          1995-03-24   29401.0          2452.0             YZ   \n",
       "1          1993-02-26   29402.0          3372.7             ST   \n",
       "2          1993-02-26   29403.0          7266.0             QR   \n",
       "3          1997-07-07   29404.0          1135.0             WX   \n",
       "4          1997-07-07   29405.0           327.0             CD   \n",
       "\n",
       "    Reason for debit  \n",
       "0  Household Payment  \n",
       "1       Loan Payment  \n",
       "2  Household Payment  \n",
       "3  Household Payment  \n",
       "4              FALSE  "
      ]
     },
     "execution_count": 45,
     "metadata": {},
     "output_type": "execute_result"
    }
   ],
   "source": [
    "#Review the dataset\n",
    "order_account.head()"
   ]
  },
  {
   "cell_type": "code",
   "execution_count": 46,
   "metadata": {},
   "outputs": [
    {
     "data": {
      "text/plain": [
       "Monthly Issuance              6621\n",
       "Weekly Issuance                430\n",
       "Issuance after Transaction     162\n",
       "Name: Frequency of Statement Issuance, dtype: int64"
      ]
     },
     "execution_count": 46,
     "metadata": {},
     "output_type": "execute_result"
    }
   ],
   "source": [
    "#Check out the count for statement issuance\n",
    "order_account['Frequency of Statement Issuance'].value_counts()"
   ]
  },
  {
   "cell_type": "code",
   "execution_count": 47,
   "metadata": {},
   "outputs": [
    {
     "data": {
      "text/plain": [
       "Household Payment     3502\n",
       "FALSE                 1379\n",
       "Loan Payment           717\n",
       "Insurance Payments     532\n",
       "Leasing                341\n",
       "Name: Reason for debit, dtype: int64"
      ]
     },
     "execution_count": 47,
     "metadata": {},
     "output_type": "execute_result"
    }
   ],
   "source": [
    "#Check out the reason for debit\n",
    "order_account['Reason for debit'].value_counts()"
   ]
  },
  {
   "cell_type": "code",
   "execution_count": null,
   "metadata": {},
   "outputs": [],
   "source": []
  },
  {
   "cell_type": "code",
   "execution_count": 48,
   "metadata": {},
   "outputs": [
    {
     "data": {
      "text/html": [
       "<div>\n",
       "<style scoped>\n",
       "    .dataframe tbody tr th:only-of-type {\n",
       "        vertical-align: middle;\n",
       "    }\n",
       "\n",
       "    .dataframe tbody tr th {\n",
       "        vertical-align: top;\n",
       "    }\n",
       "\n",
       "    .dataframe thead th {\n",
       "        text-align: right;\n",
       "    }\n",
       "</style>\n",
       "<table border=\"1\" class=\"dataframe\">\n",
       "  <thead>\n",
       "    <tr style=\"text-align: right;\">\n",
       "      <th></th>\n",
       "      <th>account_id</th>\n",
       "      <th>district_id</th>\n",
       "      <th>Frequency of Statement Issuance</th>\n",
       "      <th>Date account opened</th>\n",
       "      <th>order_id</th>\n",
       "      <th>Amount Debited</th>\n",
       "      <th>Recipient Bank</th>\n",
       "      <th>Reason for debit</th>\n",
       "    </tr>\n",
       "  </thead>\n",
       "  <tbody>\n",
       "    <tr>\n",
       "      <th>4</th>\n",
       "      <td>3</td>\n",
       "      <td>5</td>\n",
       "      <td>Monthly Issuance</td>\n",
       "      <td>1997-07-07</td>\n",
       "      <td>29405.0</td>\n",
       "      <td>327.0</td>\n",
       "      <td>CD</td>\n",
       "      <td>FALSE</td>\n",
       "    </tr>\n",
       "    <tr>\n",
       "      <th>12</th>\n",
       "      <td>8</td>\n",
       "      <td>57</td>\n",
       "      <td>Monthly Issuance</td>\n",
       "      <td>1995-09-21</td>\n",
       "      <td>29413.0</td>\n",
       "      <td>6712.0</td>\n",
       "      <td>IJ</td>\n",
       "      <td>FALSE</td>\n",
       "    </tr>\n",
       "    <tr>\n",
       "      <th>31</th>\n",
       "      <td>24</td>\n",
       "      <td>74</td>\n",
       "      <td>Monthly Issuance</td>\n",
       "      <td>1996-12-05</td>\n",
       "      <td>29430.0</td>\n",
       "      <td>7641.0</td>\n",
       "      <td>QR</td>\n",
       "      <td>FALSE</td>\n",
       "    </tr>\n",
       "    <tr>\n",
       "      <th>34</th>\n",
       "      <td>25</td>\n",
       "      <td>68</td>\n",
       "      <td>Monthly Issuance</td>\n",
       "      <td>1996-07-28</td>\n",
       "      <td>29433.0</td>\n",
       "      <td>1110.0</td>\n",
       "      <td>AB</td>\n",
       "      <td>FALSE</td>\n",
       "    </tr>\n",
       "    <tr>\n",
       "      <th>39</th>\n",
       "      <td>29</td>\n",
       "      <td>7</td>\n",
       "      <td>Monthly Issuance</td>\n",
       "      <td>1994-11-24</td>\n",
       "      <td>29440.0</td>\n",
       "      <td>829.0</td>\n",
       "      <td>MN</td>\n",
       "      <td>FALSE</td>\n",
       "    </tr>\n",
       "    <tr>\n",
       "      <th>...</th>\n",
       "      <td>...</td>\n",
       "      <td>...</td>\n",
       "      <td>...</td>\n",
       "      <td>...</td>\n",
       "      <td>...</td>\n",
       "      <td>...</td>\n",
       "      <td>...</td>\n",
       "      <td>...</td>\n",
       "    </tr>\n",
       "    <tr>\n",
       "      <th>7190</th>\n",
       "      <td>11271</td>\n",
       "      <td>5</td>\n",
       "      <td>Monthly Issuance</td>\n",
       "      <td>1995-09-20</td>\n",
       "      <td>46195.0</td>\n",
       "      <td>2364.0</td>\n",
       "      <td>AB</td>\n",
       "      <td>FALSE</td>\n",
       "    </tr>\n",
       "    <tr>\n",
       "      <th>7195</th>\n",
       "      <td>11317</td>\n",
       "      <td>50</td>\n",
       "      <td>Monthly Issuance</td>\n",
       "      <td>1997-07-11</td>\n",
       "      <td>46260.0</td>\n",
       "      <td>2784.0</td>\n",
       "      <td>YZ</td>\n",
       "      <td>FALSE</td>\n",
       "    </tr>\n",
       "    <tr>\n",
       "      <th>7206</th>\n",
       "      <td>11359</td>\n",
       "      <td>61</td>\n",
       "      <td>Monthly Issuance</td>\n",
       "      <td>1994-10-01</td>\n",
       "      <td>46330.0</td>\n",
       "      <td>254.0</td>\n",
       "      <td>AB</td>\n",
       "      <td>FALSE</td>\n",
       "    </tr>\n",
       "    <tr>\n",
       "      <th>7208</th>\n",
       "      <td>11362</td>\n",
       "      <td>67</td>\n",
       "      <td>Monthly Issuance</td>\n",
       "      <td>1995-10-14</td>\n",
       "      <td>46335.0</td>\n",
       "      <td>56.0</td>\n",
       "      <td>MN</td>\n",
       "      <td>FALSE</td>\n",
       "    </tr>\n",
       "    <tr>\n",
       "      <th>7210</th>\n",
       "      <td>11362</td>\n",
       "      <td>67</td>\n",
       "      <td>Monthly Issuance</td>\n",
       "      <td>1995-10-14</td>\n",
       "      <td>46337.0</td>\n",
       "      <td>129.0</td>\n",
       "      <td>KL</td>\n",
       "      <td>FALSE</td>\n",
       "    </tr>\n",
       "  </tbody>\n",
       "</table>\n",
       "<p>1379 rows × 8 columns</p>\n",
       "</div>"
      ],
      "text/plain": [
       "      account_id  district_id Frequency of Statement Issuance  \\\n",
       "4              3            5                Monthly Issuance   \n",
       "12             8           57                Monthly Issuance   \n",
       "31            24           74                Monthly Issuance   \n",
       "34            25           68                Monthly Issuance   \n",
       "39            29            7                Monthly Issuance   \n",
       "...          ...          ...                             ...   \n",
       "7190       11271            5                Monthly Issuance   \n",
       "7195       11317           50                Monthly Issuance   \n",
       "7206       11359           61                Monthly Issuance   \n",
       "7208       11362           67                Monthly Issuance   \n",
       "7210       11362           67                Monthly Issuance   \n",
       "\n",
       "     Date account opened  order_id  Amount Debited Recipient Bank  \\\n",
       "4             1997-07-07   29405.0           327.0             CD   \n",
       "12            1995-09-21   29413.0          6712.0             IJ   \n",
       "31            1996-12-05   29430.0          7641.0             QR   \n",
       "34            1996-07-28   29433.0          1110.0             AB   \n",
       "39            1994-11-24   29440.0           829.0             MN   \n",
       "...                  ...       ...             ...            ...   \n",
       "7190          1995-09-20   46195.0          2364.0             AB   \n",
       "7195          1997-07-11   46260.0          2784.0             YZ   \n",
       "7206          1994-10-01   46330.0           254.0             AB   \n",
       "7208          1995-10-14   46335.0            56.0             MN   \n",
       "7210          1995-10-14   46337.0           129.0             KL   \n",
       "\n",
       "     Reason for debit  \n",
       "4               FALSE  \n",
       "12              FALSE  \n",
       "31              FALSE  \n",
       "34              FALSE  \n",
       "39              FALSE  \n",
       "...               ...  \n",
       "7190            FALSE  \n",
       "7195            FALSE  \n",
       "7206            FALSE  \n",
       "7208            FALSE  \n",
       "7210            FALSE  \n",
       "\n",
       "[1379 rows x 8 columns]"
      ]
     },
     "execution_count": 48,
     "metadata": {},
     "output_type": "execute_result"
    }
   ],
   "source": [
    "#View data of those with 'False' Reason for debit\n",
    "order_account[order_account['Reason for debit']=='FALSE']"
   ]
  },
  {
   "cell_type": "code",
   "execution_count": null,
   "metadata": {},
   "outputs": [],
   "source": []
  },
  {
   "cell_type": "code",
   "execution_count": 49,
   "metadata": {},
   "outputs": [
    {
     "data": {
      "text/plain": [
       "account_id                           0\n",
       "district_id                          0\n",
       "Frequency of Statement Issuance      0\n",
       "Date account opened                  0\n",
       "order_id                           742\n",
       "Amount Debited                     742\n",
       "Recipient Bank                     742\n",
       "Reason for debit                   742\n",
       "dtype: int64"
      ]
     },
     "execution_count": 49,
     "metadata": {},
     "output_type": "execute_result"
    }
   ],
   "source": [
    "#check the empty rows\n",
    "\n",
    "order_account.isnull().sum()"
   ]
  },
  {
   "cell_type": "code",
   "execution_count": 50,
   "metadata": {},
   "outputs": [],
   "source": [
    "#Merge the loan table to the trans_dataset to continue building our dataset\n",
    "\n",
    "loans_data = pd.merge(trans_data, loan, on='account_id', how = 'inner')"
   ]
  },
  {
   "cell_type": "code",
   "execution_count": 51,
   "metadata": {},
   "outputs": [
    {
     "data": {
      "text/html": [
       "<div>\n",
       "<style scoped>\n",
       "    .dataframe tbody tr th:only-of-type {\n",
       "        vertical-align: middle;\n",
       "    }\n",
       "\n",
       "    .dataframe tbody tr th {\n",
       "        vertical-align: top;\n",
       "    }\n",
       "\n",
       "    .dataframe thead th {\n",
       "        text-align: right;\n",
       "    }\n",
       "</style>\n",
       "<table border=\"1\" class=\"dataframe\">\n",
       "  <thead>\n",
       "    <tr style=\"text-align: right;\">\n",
       "      <th></th>\n",
       "      <th>client_id</th>\n",
       "      <th>district_id</th>\n",
       "      <th>DOB</th>\n",
       "      <th>Gender</th>\n",
       "      <th>Age</th>\n",
       "      <th>District Code</th>\n",
       "      <th>District Name</th>\n",
       "      <th>Region</th>\n",
       "      <th>Population</th>\n",
       "      <th>Ratio of Urban Inhabitants</th>\n",
       "      <th>...</th>\n",
       "      <th>Account Balance</th>\n",
       "      <th>Characterization of Transaction</th>\n",
       "      <th>Bank of Partner</th>\n",
       "      <th>Partner Account</th>\n",
       "      <th>loan_id</th>\n",
       "      <th>Date loan taken</th>\n",
       "      <th>Amount of Loan</th>\n",
       "      <th>Loan Payments</th>\n",
       "      <th>Loan Duration</th>\n",
       "      <th>Loan Status</th>\n",
       "    </tr>\n",
       "  </thead>\n",
       "  <tbody>\n",
       "    <tr>\n",
       "      <th>0</th>\n",
       "      <td>2</td>\n",
       "      <td>1</td>\n",
       "      <td>1945-02-04</td>\n",
       "      <td>M</td>\n",
       "      <td>75</td>\n",
       "      <td>1</td>\n",
       "      <td>Hl.m. Praha</td>\n",
       "      <td>Prague</td>\n",
       "      <td>1204953</td>\n",
       "      <td>100.0</td>\n",
       "      <td>...</td>\n",
       "      <td>1100.0</td>\n",
       "      <td>Remittance to another Bank</td>\n",
       "      <td>None</td>\n",
       "      <td>None</td>\n",
       "      <td>4959</td>\n",
       "      <td>05-01-94</td>\n",
       "      <td>80952.0</td>\n",
       "      <td>3373.0</td>\n",
       "      <td>24</td>\n",
       "      <td>Contract Finished No Problems</td>\n",
       "    </tr>\n",
       "    <tr>\n",
       "      <th>1</th>\n",
       "      <td>2</td>\n",
       "      <td>1</td>\n",
       "      <td>1945-02-04</td>\n",
       "      <td>M</td>\n",
       "      <td>75</td>\n",
       "      <td>1</td>\n",
       "      <td>Hl.m. Praha</td>\n",
       "      <td>Prague</td>\n",
       "      <td>1204953</td>\n",
       "      <td>100.0</td>\n",
       "      <td>...</td>\n",
       "      <td>21336.0</td>\n",
       "      <td>Remittance to another Bank</td>\n",
       "      <td>ST</td>\n",
       "      <td>66487163</td>\n",
       "      <td>4959</td>\n",
       "      <td>05-01-94</td>\n",
       "      <td>80952.0</td>\n",
       "      <td>3373.0</td>\n",
       "      <td>24</td>\n",
       "      <td>Contract Finished No Problems</td>\n",
       "    </tr>\n",
       "    <tr>\n",
       "      <th>2</th>\n",
       "      <td>2</td>\n",
       "      <td>1</td>\n",
       "      <td>1945-02-04</td>\n",
       "      <td>M</td>\n",
       "      <td>75</td>\n",
       "      <td>1</td>\n",
       "      <td>Hl.m. Praha</td>\n",
       "      <td>Prague</td>\n",
       "      <td>1204953</td>\n",
       "      <td>100.0</td>\n",
       "      <td>...</td>\n",
       "      <td>45285.5</td>\n",
       "      <td>Remittance to another Bank</td>\n",
       "      <td>ST</td>\n",
       "      <td>66487163</td>\n",
       "      <td>4959</td>\n",
       "      <td>05-01-94</td>\n",
       "      <td>80952.0</td>\n",
       "      <td>3373.0</td>\n",
       "      <td>24</td>\n",
       "      <td>Contract Finished No Problems</td>\n",
       "    </tr>\n",
       "    <tr>\n",
       "      <th>3</th>\n",
       "      <td>2</td>\n",
       "      <td>1</td>\n",
       "      <td>1945-02-04</td>\n",
       "      <td>M</td>\n",
       "      <td>75</td>\n",
       "      <td>1</td>\n",
       "      <td>Hl.m. Praha</td>\n",
       "      <td>Prague</td>\n",
       "      <td>1204953</td>\n",
       "      <td>100.0</td>\n",
       "      <td>...</td>\n",
       "      <td>54630.9</td>\n",
       "      <td>Remittance to another Bank</td>\n",
       "      <td>ST</td>\n",
       "      <td>66487163</td>\n",
       "      <td>4959</td>\n",
       "      <td>05-01-94</td>\n",
       "      <td>80952.0</td>\n",
       "      <td>3373.0</td>\n",
       "      <td>24</td>\n",
       "      <td>Contract Finished No Problems</td>\n",
       "    </tr>\n",
       "    <tr>\n",
       "      <th>4</th>\n",
       "      <td>2</td>\n",
       "      <td>1</td>\n",
       "      <td>1945-02-04</td>\n",
       "      <td>M</td>\n",
       "      <td>75</td>\n",
       "      <td>1</td>\n",
       "      <td>Hl.m. Praha</td>\n",
       "      <td>Prague</td>\n",
       "      <td>1204953</td>\n",
       "      <td>100.0</td>\n",
       "      <td>...</td>\n",
       "      <td>67529.6</td>\n",
       "      <td>Remittance to another Bank</td>\n",
       "      <td>ST</td>\n",
       "      <td>66487163</td>\n",
       "      <td>4959</td>\n",
       "      <td>05-01-94</td>\n",
       "      <td>80952.0</td>\n",
       "      <td>3373.0</td>\n",
       "      <td>24</td>\n",
       "      <td>Contract Finished No Problems</td>\n",
       "    </tr>\n",
       "  </tbody>\n",
       "</table>\n",
       "<p>5 rows × 35 columns</p>\n",
       "</div>"
      ],
      "text/plain": [
       "   client_id  district_id        DOB Gender  Age  District Code District Name  \\\n",
       "0          2            1 1945-02-04      M   75              1   Hl.m. Praha   \n",
       "1          2            1 1945-02-04      M   75              1   Hl.m. Praha   \n",
       "2          2            1 1945-02-04      M   75              1   Hl.m. Praha   \n",
       "3          2            1 1945-02-04      M   75              1   Hl.m. Praha   \n",
       "4          2            1 1945-02-04      M   75              1   Hl.m. Praha   \n",
       "\n",
       "   Region  Population  Ratio of Urban Inhabitants  ...  Account Balance  \\\n",
       "0  Prague     1204953                       100.0  ...           1100.0   \n",
       "1  Prague     1204953                       100.0  ...          21336.0   \n",
       "2  Prague     1204953                       100.0  ...          45285.5   \n",
       "3  Prague     1204953                       100.0  ...          54630.9   \n",
       "4  Prague     1204953                       100.0  ...          67529.6   \n",
       "\n",
       "   Characterization of Transaction  Bank of Partner  Partner Account  loan_id  \\\n",
       "0       Remittance to another Bank             None             None     4959   \n",
       "1       Remittance to another Bank               ST         66487163     4959   \n",
       "2       Remittance to another Bank               ST         66487163     4959   \n",
       "3       Remittance to another Bank               ST         66487163     4959   \n",
       "4       Remittance to another Bank               ST         66487163     4959   \n",
       "\n",
       "   Date loan taken  Amount of Loan Loan Payments Loan Duration  \\\n",
       "0         05-01-94         80952.0        3373.0            24   \n",
       "1         05-01-94         80952.0        3373.0            24   \n",
       "2         05-01-94         80952.0        3373.0            24   \n",
       "3         05-01-94         80952.0        3373.0            24   \n",
       "4         05-01-94         80952.0        3373.0            24   \n",
       "\n",
       "                     Loan Status  \n",
       "0  Contract Finished No Problems  \n",
       "1  Contract Finished No Problems  \n",
       "2  Contract Finished No Problems  \n",
       "3  Contract Finished No Problems  \n",
       "4  Contract Finished No Problems  \n",
       "\n",
       "[5 rows x 35 columns]"
      ]
     },
     "execution_count": 51,
     "metadata": {},
     "output_type": "execute_result"
    }
   ],
   "source": [
    "#Viewing the new dataset\n",
    "loans_data.head()"
   ]
  },
  {
   "cell_type": "code",
   "execution_count": 52,
   "metadata": {},
   "outputs": [],
   "source": [
    "# Join the loans data to the orders dataset to get a resulting enlarged data\n",
    "orders_data = pd.merge(loans_data, orders, how='left', on = 'account_id')"
   ]
  },
  {
   "cell_type": "code",
   "execution_count": 53,
   "metadata": {},
   "outputs": [
    {
     "name": "stdout",
     "output_type": "stream",
     "text": [
      "<class 'pandas.core.frame.DataFrame'>\n",
      "Int64Index: 552017 entries, 0 to 552016\n",
      "Data columns (total 39 columns):\n",
      " #   Column                           Non-Null Count   Dtype         \n",
      "---  ------                           --------------   -----         \n",
      " 0   client_id                        552017 non-null  int64         \n",
      " 1   district_id                      552017 non-null  int64         \n",
      " 2   DOB                              552017 non-null  datetime64[ns]\n",
      " 3   Gender                           552017 non-null  object        \n",
      " 4   Age                              552017 non-null  int64         \n",
      " 5   District Code                    552017 non-null  int64         \n",
      " 6   District Name                    552017 non-null  object        \n",
      " 7   Region                           552017 non-null  object        \n",
      " 8   Population                       552017 non-null  int64         \n",
      " 9   Ratio of Urban Inhabitants       552017 non-null  float64       \n",
      " 10  Average Salary                   552017 non-null  float64       \n",
      " 11  Unemployment Rate 95             549944 non-null  float64       \n",
      " 12  Number of Committeed Crimes 95   549944 non-null  float64       \n",
      " 13  Unemployment Rate 96             552017 non-null  int64         \n",
      " 14  Number of Committed Crimes 96    552017 non-null  int64         \n",
      " 15  disp_id                          552017 non-null  int64         \n",
      " 16  account_id                       552017 non-null  int64         \n",
      " 17  type                             552017 non-null  object        \n",
      " 18  Frequency of Statement Issuance  474624 non-null  object        \n",
      " 19  Date account opened              474624 non-null  datetime64[ns]\n",
      " 20  trans_id                         552017 non-null  int64         \n",
      " 21  Transaction Date                 552017 non-null  int64         \n",
      " 22  Transaction_Type                 552017 non-null  object        \n",
      " 23  Type of Transaction              552017 non-null  object        \n",
      " 24  amount                           552017 non-null  float64       \n",
      " 25  Account Balance                  552017 non-null  float64       \n",
      " 26  Characterization of Transaction  552017 non-null  object        \n",
      " 27  Bank of Partner                  179512 non-null  object        \n",
      " 28  Partner Account                  211409 non-null  object        \n",
      " 29  loan_id                          552017 non-null  int64         \n",
      " 30  Date loan taken                  552017 non-null  object        \n",
      " 31  Amount of Loan                   552017 non-null  float64       \n",
      " 32  Loan Payments                    552017 non-null  float64       \n",
      " 33  Loan Duration                    552017 non-null  int64         \n",
      " 34  Loan Status                      552017 non-null  object        \n",
      " 35  order_id                         552017 non-null  int64         \n",
      " 36  Amount Debited                   552017 non-null  float64       \n",
      " 37  Recipient Bank                   552017 non-null  object        \n",
      " 38  Reason for debit                 552017 non-null  object        \n",
      "dtypes: datetime64[ns](2), float64(9), int64(14), object(14)\n",
      "memory usage: 168.5+ MB\n"
     ]
    }
   ],
   "source": [
    "#viewing the expanded dataset\n",
    "orders_data.info()"
   ]
  },
  {
   "cell_type": "code",
   "execution_count": 54,
   "metadata": {},
   "outputs": [
    {
     "data": {
      "text/plain": [
       "<seaborn.axisgrid.PairGrid at 0x2180be5a1c0>"
      ]
     },
     "execution_count": 54,
     "metadata": {},
     "output_type": "execute_result"
    },
    {
     "data": {
      "image/png": "[encoded data removed]",
      "text/plain": [
       "<Figure size 362.75x180 with 2 Axes>"
      ]
     },
     "metadata": {
      "needs_background": "light"
     },
     "output_type": "display_data"
    }
   ],
   "source": [
    "#Plotting a pairplot of this dataset\n",
    "y = orders_data[['Gender', 'Age', 'type', 'Frequency of Statement Issuance', 'Transaction_Type', 'Type of Transaction', 'Loan Status']]\n",
    "    \n",
    "sns.pairplot(y, hue='Type of Transaction')"
   ]
  },
  {
   "cell_type": "code",
   "execution_count": 55,
   "metadata": {},
   "outputs": [],
   "source": [
    "#Importing the card table\n",
    "card = pd.read_sql_query('''\n",
    "\n",
    "Select\n",
    "card_id,\n",
    "disp_id,\n",
    "Date_Issued as 'Date Card Issued',\n",
    "type 'Type of Card'\n",
    "\n",
    "from [dbo].[Card]\n",
    "''', cnxn)\n"
   ]
  },
  {
   "cell_type": "code",
   "execution_count": 56,
   "metadata": {},
   "outputs": [
    {
     "data": {
      "text/html": [
       "<div>\n",
       "<style scoped>\n",
       "    .dataframe tbody tr th:only-of-type {\n",
       "        vertical-align: middle;\n",
       "    }\n",
       "\n",
       "    .dataframe tbody tr th {\n",
       "        vertical-align: top;\n",
       "    }\n",
       "\n",
       "    .dataframe thead th {\n",
       "        text-align: right;\n",
       "    }\n",
       "</style>\n",
       "<table border=\"1\" class=\"dataframe\">\n",
       "  <thead>\n",
       "    <tr style=\"text-align: right;\">\n",
       "      <th></th>\n",
       "      <th>card_id</th>\n",
       "      <th>disp_id</th>\n",
       "      <th>Date Card Issued</th>\n",
       "      <th>Type of Card</th>\n",
       "    </tr>\n",
       "  </thead>\n",
       "  <tbody>\n",
       "    <tr>\n",
       "      <th>0</th>\n",
       "      <td>1</td>\n",
       "      <td>9</td>\n",
       "      <td>1998-10-16</td>\n",
       "      <td>gold</td>\n",
       "    </tr>\n",
       "    <tr>\n",
       "      <th>1</th>\n",
       "      <td>2</td>\n",
       "      <td>19</td>\n",
       "      <td>1998-03-13</td>\n",
       "      <td>classic</td>\n",
       "    </tr>\n",
       "    <tr>\n",
       "      <th>2</th>\n",
       "      <td>3</td>\n",
       "      <td>41</td>\n",
       "      <td>1995-09-03</td>\n",
       "      <td>gold</td>\n",
       "    </tr>\n",
       "    <tr>\n",
       "      <th>3</th>\n",
       "      <td>4</td>\n",
       "      <td>42</td>\n",
       "      <td>1998-11-26</td>\n",
       "      <td>classic</td>\n",
       "    </tr>\n",
       "    <tr>\n",
       "      <th>4</th>\n",
       "      <td>5</td>\n",
       "      <td>51</td>\n",
       "      <td>1995-04-24</td>\n",
       "      <td>junior</td>\n",
       "    </tr>\n",
       "    <tr>\n",
       "      <th>...</th>\n",
       "      <td>...</td>\n",
       "      <td>...</td>\n",
       "      <td>...</td>\n",
       "      <td>...</td>\n",
       "    </tr>\n",
       "    <tr>\n",
       "      <th>887</th>\n",
       "      <td>1230</td>\n",
       "      <td>13312</td>\n",
       "      <td>1998-03-08</td>\n",
       "      <td>classic</td>\n",
       "    </tr>\n",
       "    <tr>\n",
       "      <th>888</th>\n",
       "      <td>1233</td>\n",
       "      <td>13382</td>\n",
       "      <td>1996-07-06</td>\n",
       "      <td>classic</td>\n",
       "    </tr>\n",
       "    <tr>\n",
       "      <th>889</th>\n",
       "      <td>1234</td>\n",
       "      <td>13386</td>\n",
       "      <td>1997-11-28</td>\n",
       "      <td>classic</td>\n",
       "    </tr>\n",
       "    <tr>\n",
       "      <th>890</th>\n",
       "      <td>1239</td>\n",
       "      <td>13442</td>\n",
       "      <td>1998-02-02</td>\n",
       "      <td>junior</td>\n",
       "    </tr>\n",
       "    <tr>\n",
       "      <th>891</th>\n",
       "      <td>1247</td>\n",
       "      <td>13660</td>\n",
       "      <td>1995-06-13</td>\n",
       "      <td>classic</td>\n",
       "    </tr>\n",
       "  </tbody>\n",
       "</table>\n",
       "<p>892 rows × 4 columns</p>\n",
       "</div>"
      ],
      "text/plain": [
       "     card_id  disp_id Date Card Issued Type of Card\n",
       "0          1        9       1998-10-16         gold\n",
       "1          2       19       1998-03-13      classic\n",
       "2          3       41       1995-09-03         gold\n",
       "3          4       42       1998-11-26      classic\n",
       "4          5       51       1995-04-24       junior\n",
       "..       ...      ...              ...          ...\n",
       "887     1230    13312       1998-03-08      classic\n",
       "888     1233    13382       1996-07-06      classic\n",
       "889     1234    13386       1997-11-28      classic\n",
       "890     1239    13442       1998-02-02       junior\n",
       "891     1247    13660       1995-06-13      classic\n",
       "\n",
       "[892 rows x 4 columns]"
      ]
     },
     "execution_count": 56,
     "metadata": {},
     "output_type": "execute_result"
    }
   ],
   "source": [
    "#viewing the imported dataset\n",
    "card"
   ]
  },
  {
   "cell_type": "code",
   "execution_count": 57,
   "metadata": {},
   "outputs": [
    {
     "data": {
      "text/plain": [
       "card_id             892\n",
       "disp_id             892\n",
       "Date Card Issued    607\n",
       "Type of Card          3\n",
       "dtype: int64"
      ]
     },
     "execution_count": 57,
     "metadata": {},
     "output_type": "execute_result"
    }
   ],
   "source": [
    "# Viewing the unique entries in the dataset\n",
    "card.nunique()"
   ]
  },
  {
   "cell_type": "code",
   "execution_count": 58,
   "metadata": {},
   "outputs": [
    {
     "data": {
      "text/plain": [
       "classic    659\n",
       "junior     145\n",
       "gold        88\n",
       "Name: Type of Card, dtype: int64"
      ]
     },
     "execution_count": 58,
     "metadata": {},
     "output_type": "execute_result"
    }
   ],
   "source": [
    "#Checking the number of cards in the dataset\n",
    "card['Type of Card'].value_counts()"
   ]
  },
  {
   "cell_type": "code",
   "execution_count": 59,
   "metadata": {},
   "outputs": [
    {
     "data": {
      "text/plain": [
       "892"
      ]
     },
     "execution_count": 59,
     "metadata": {},
     "output_type": "execute_result"
    }
   ],
   "source": [
    "#Counting the cards available\n",
    "card['Type of Card'].count()"
   ]
  },
  {
   "cell_type": "code",
   "execution_count": 60,
   "metadata": {},
   "outputs": [],
   "source": [
    "#Add the card dataset to the order_data\n",
    "\n",
    "exp_data = pd.merge(orders_data, card, on='disp_id', how= 'left')"
   ]
  },
  {
   "cell_type": "code",
   "execution_count": 61,
   "metadata": {},
   "outputs": [
    {
     "data": {
      "text/html": [
       "<div>\n",
       "<style scoped>\n",
       "    .dataframe tbody tr th:only-of-type {\n",
       "        vertical-align: middle;\n",
       "    }\n",
       "\n",
       "    .dataframe tbody tr th {\n",
       "        vertical-align: top;\n",
       "    }\n",
       "\n",
       "    .dataframe thead th {\n",
       "        text-align: right;\n",
       "    }\n",
       "</style>\n",
       "<table border=\"1\" class=\"dataframe\">\n",
       "  <thead>\n",
       "    <tr style=\"text-align: right;\">\n",
       "      <th></th>\n",
       "      <th>client_id</th>\n",
       "      <th>district_id</th>\n",
       "      <th>DOB</th>\n",
       "      <th>Gender</th>\n",
       "      <th>Age</th>\n",
       "      <th>District Code</th>\n",
       "      <th>District Name</th>\n",
       "      <th>Region</th>\n",
       "      <th>Population</th>\n",
       "      <th>Ratio of Urban Inhabitants</th>\n",
       "      <th>...</th>\n",
       "      <th>Loan Payments</th>\n",
       "      <th>Loan Duration</th>\n",
       "      <th>Loan Status</th>\n",
       "      <th>order_id</th>\n",
       "      <th>Amount Debited</th>\n",
       "      <th>Recipient Bank</th>\n",
       "      <th>Reason for debit</th>\n",
       "      <th>card_id</th>\n",
       "      <th>Date Card Issued</th>\n",
       "      <th>Type of Card</th>\n",
       "    </tr>\n",
       "  </thead>\n",
       "  <tbody>\n",
       "    <tr>\n",
       "      <th>295420</th>\n",
       "      <td>8105</td>\n",
       "      <td>72</td>\n",
       "      <td>1963-03-12</td>\n",
       "      <td>M</td>\n",
       "      <td>57</td>\n",
       "      <td>72</td>\n",
       "      <td>Olomouc</td>\n",
       "      <td>north Moravia</td>\n",
       "      <td>226122</td>\n",
       "      <td>62.6</td>\n",
       "      <td>...</td>\n",
       "      <td>2298.0</td>\n",
       "      <td>60</td>\n",
       "      <td>Running Contract Client in Debt</td>\n",
       "      <td>39352</td>\n",
       "      <td>2298.2</td>\n",
       "      <td>GH</td>\n",
       "      <td>Loan Payment</td>\n",
       "      <td>NaN</td>\n",
       "      <td>NaT</td>\n",
       "      <td>NaN</td>\n",
       "    </tr>\n",
       "    <tr>\n",
       "      <th>1021</th>\n",
       "      <td>3</td>\n",
       "      <td>1</td>\n",
       "      <td>1940-10-09</td>\n",
       "      <td>F</td>\n",
       "      <td>80</td>\n",
       "      <td>1</td>\n",
       "      <td>Hl.m. Praha</td>\n",
       "      <td>Prague</td>\n",
       "      <td>1204953</td>\n",
       "      <td>100.0</td>\n",
       "      <td>...</td>\n",
       "      <td>3373.0</td>\n",
       "      <td>24</td>\n",
       "      <td>Contract Finished No Problems</td>\n",
       "      <td>29403</td>\n",
       "      <td>7266.0</td>\n",
       "      <td>QR</td>\n",
       "      <td>Household Payment</td>\n",
       "      <td>NaN</td>\n",
       "      <td>NaT</td>\n",
       "      <td>NaN</td>\n",
       "    </tr>\n",
       "    <tr>\n",
       "      <th>430261</th>\n",
       "      <td>11195</td>\n",
       "      <td>58</td>\n",
       "      <td>1953-12-05</td>\n",
       "      <td>M</td>\n",
       "      <td>67</td>\n",
       "      <td>58</td>\n",
       "      <td>Jihlava</td>\n",
       "      <td>south Moravia</td>\n",
       "      <td>109164</td>\n",
       "      <td>63.6</td>\n",
       "      <td>...</td>\n",
       "      <td>3155.0</td>\n",
       "      <td>60</td>\n",
       "      <td>\"Running Contract, OK so far\"</td>\n",
       "      <td>42874</td>\n",
       "      <td>1311.0</td>\n",
       "      <td>AB</td>\n",
       "      <td>Household Payment</td>\n",
       "      <td>1087.0</td>\n",
       "      <td>1996-10-06</td>\n",
       "      <td>classic</td>\n",
       "    </tr>\n",
       "    <tr>\n",
       "      <th>389355</th>\n",
       "      <td>10288</td>\n",
       "      <td>48</td>\n",
       "      <td>1959-06-07</td>\n",
       "      <td>M</td>\n",
       "      <td>61</td>\n",
       "      <td>48</td>\n",
       "      <td>Rychnov nad Kneznou</td>\n",
       "      <td>east Bohemia</td>\n",
       "      <td>78955</td>\n",
       "      <td>59.0</td>\n",
       "      <td>...</td>\n",
       "      <td>319.0</td>\n",
       "      <td>24</td>\n",
       "      <td>Contract Finished No Problems</td>\n",
       "      <td>41760</td>\n",
       "      <td>3708.0</td>\n",
       "      <td>EF</td>\n",
       "      <td>Household Payment</td>\n",
       "      <td>NaN</td>\n",
       "      <td>NaT</td>\n",
       "      <td>NaN</td>\n",
       "    </tr>\n",
       "    <tr>\n",
       "      <th>243696</th>\n",
       "      <td>6499</td>\n",
       "      <td>44</td>\n",
       "      <td>1963-02-01</td>\n",
       "      <td>M</td>\n",
       "      <td>57</td>\n",
       "      <td>44</td>\n",
       "      <td>Chrudim</td>\n",
       "      <td>east Bohemia</td>\n",
       "      <td>105606</td>\n",
       "      <td>53.0</td>\n",
       "      <td>...</td>\n",
       "      <td>2489.0</td>\n",
       "      <td>60</td>\n",
       "      <td>\"Running Contract, OK so far\"</td>\n",
       "      <td>37362</td>\n",
       "      <td>8754.0</td>\n",
       "      <td>YZ</td>\n",
       "      <td>Household Payment</td>\n",
       "      <td>NaN</td>\n",
       "      <td>NaT</td>\n",
       "      <td>NaN</td>\n",
       "    </tr>\n",
       "  </tbody>\n",
       "</table>\n",
       "<p>5 rows × 42 columns</p>\n",
       "</div>"
      ],
      "text/plain": [
       "        client_id  district_id        DOB Gender  Age  District Code  \\\n",
       "295420       8105           72 1963-03-12      M   57             72   \n",
       "1021            3            1 1940-10-09      F   80              1   \n",
       "430261      11195           58 1953-12-05      M   67             58   \n",
       "389355      10288           48 1959-06-07      M   61             48   \n",
       "243696       6499           44 1963-02-01      M   57             44   \n",
       "\n",
       "              District Name         Region  Population  \\\n",
       "295420              Olomouc  north Moravia      226122   \n",
       "1021            Hl.m. Praha         Prague     1204953   \n",
       "430261              Jihlava  south Moravia      109164   \n",
       "389355  Rychnov nad Kneznou   east Bohemia       78955   \n",
       "243696              Chrudim   east Bohemia      105606   \n",
       "\n",
       "        Ratio of Urban Inhabitants  ...  Loan Payments  Loan Duration  \\\n",
       "295420                        62.6  ...         2298.0             60   \n",
       "1021                         100.0  ...         3373.0             24   \n",
       "430261                        63.6  ...         3155.0             60   \n",
       "389355                        59.0  ...          319.0             24   \n",
       "243696                        53.0  ...         2489.0             60   \n",
       "\n",
       "                            Loan Status  order_id  Amount Debited  \\\n",
       "295420  Running Contract Client in Debt     39352          2298.2   \n",
       "1021      Contract Finished No Problems     29403          7266.0   \n",
       "430261    \"Running Contract, OK so far\"     42874          1311.0   \n",
       "389355    Contract Finished No Problems     41760          3708.0   \n",
       "243696    \"Running Contract, OK so far\"     37362          8754.0   \n",
       "\n",
       "        Recipient Bank   Reason for debit card_id Date Card Issued  \\\n",
       "295420              GH       Loan Payment     NaN              NaT   \n",
       "1021                QR  Household Payment     NaN              NaT   \n",
       "430261              AB  Household Payment  1087.0       1996-10-06   \n",
       "389355              EF  Household Payment     NaN              NaT   \n",
       "243696              YZ  Household Payment     NaN              NaT   \n",
       "\n",
       "       Type of Card  \n",
       "295420          NaN  \n",
       "1021            NaN  \n",
       "430261      classic  \n",
       "389355          NaN  \n",
       "243696          NaN  \n",
       "\n",
       "[5 rows x 42 columns]"
      ]
     },
     "execution_count": 61,
     "metadata": {},
     "output_type": "execute_result"
    }
   ],
   "source": [
    "#view the dataset\n",
    "exp_data.sample(5)"
   ]
  },
  {
   "cell_type": "code",
   "execution_count": null,
   "metadata": {},
   "outputs": [],
   "source": []
  },
  {
   "cell_type": "code",
   "execution_count": 62,
   "metadata": {},
   "outputs": [
    {
     "data": {
      "text/html": [
       "<div>\n",
       "<style scoped>\n",
       "    .dataframe tbody tr th:only-of-type {\n",
       "        vertical-align: middle;\n",
       "    }\n",
       "\n",
       "    .dataframe tbody tr th {\n",
       "        vertical-align: top;\n",
       "    }\n",
       "\n",
       "    .dataframe thead th {\n",
       "        text-align: right;\n",
       "    }\n",
       "</style>\n",
       "<table border=\"1\" class=\"dataframe\">\n",
       "  <thead>\n",
       "    <tr style=\"text-align: right;\">\n",
       "      <th></th>\n",
       "      <th>count</th>\n",
       "      <th>min</th>\n",
       "      <th>max</th>\n",
       "      <th>mean</th>\n",
       "    </tr>\n",
       "    <tr>\n",
       "      <th>Type of Card</th>\n",
       "      <th></th>\n",
       "      <th></th>\n",
       "      <th></th>\n",
       "      <th></th>\n",
       "    </tr>\n",
       "  </thead>\n",
       "  <tbody>\n",
       "    <tr>\n",
       "      <th>classic</th>\n",
       "      <td>78787</td>\n",
       "      <td>-2485.5</td>\n",
       "      <td>189714.3</td>\n",
       "      <td>51988.223946</td>\n",
       "    </tr>\n",
       "    <tr>\n",
       "      <th>gold</th>\n",
       "      <td>8259</td>\n",
       "      <td>-2804.8</td>\n",
       "      <td>209637.0</td>\n",
       "      <td>61314.641446</td>\n",
       "    </tr>\n",
       "    <tr>\n",
       "      <th>junior</th>\n",
       "      <td>17858</td>\n",
       "      <td>-6830.6</td>\n",
       "      <td>164909.5</td>\n",
       "      <td>55221.360382</td>\n",
       "    </tr>\n",
       "  </tbody>\n",
       "</table>\n",
       "</div>"
      ],
      "text/plain": [
       "              count     min       max          mean\n",
       "Type of Card                                       \n",
       "classic       78787 -2485.5  189714.3  51988.223946\n",
       "gold           8259 -2804.8  209637.0  61314.641446\n",
       "junior        17858 -6830.6  164909.5  55221.360382"
      ]
     },
     "execution_count": 62,
     "metadata": {},
     "output_type": "execute_result"
    }
   ],
   "source": [
    "#Generating a view for the classic cards\n",
    "exp_data.groupby('Type of Card')['Account Balance'].agg(['count','min','max','mean'])"
   ]
  },
  {
   "cell_type": "code",
   "execution_count": 63,
   "metadata": {},
   "outputs": [
    {
     "data": {
      "text/plain": [
       "client_id                               0\n",
       "district_id                             0\n",
       "DOB                                     0\n",
       "Gender                                  0\n",
       "Age                                     0\n",
       "District Code                           0\n",
       "District Name                           0\n",
       "Region                                  0\n",
       "Population                              0\n",
       "Ratio of Urban Inhabitants              0\n",
       "Average Salary                          0\n",
       "Unemployment Rate 95                 2073\n",
       "Number of Committeed Crimes 95       2073\n",
       "Unemployment Rate 96                    0\n",
       "Number of Committed Crimes 96           0\n",
       "disp_id                                 0\n",
       "account_id                              0\n",
       "type                                    0\n",
       "Frequency of Statement Issuance     77393\n",
       "Date account opened                 77393\n",
       "trans_id                                0\n",
       "Transaction Date                        0\n",
       "Transaction_Type                        0\n",
       "Type of Transaction                     0\n",
       "amount                                  0\n",
       "Account Balance                         0\n",
       "Characterization of Transaction         0\n",
       "Bank of Partner                    372505\n",
       "Partner Account                    340608\n",
       "loan_id                                 0\n",
       "Date loan taken                         0\n",
       "Amount of Loan                          0\n",
       "Loan Payments                           0\n",
       "Loan Duration                           0\n",
       "Loan Status                             0\n",
       "order_id                                0\n",
       "Amount Debited                          0\n",
       "Recipient Bank                          0\n",
       "Reason for debit                        0\n",
       "card_id                            447113\n",
       "Date Card Issued                   447113\n",
       "Type of Card                       447113\n",
       "dtype: int64"
      ]
     },
     "execution_count": 63,
     "metadata": {},
     "output_type": "execute_result"
    }
   ],
   "source": [
    "#Check the entire dataset for empty values\n",
    "\n",
    "exp_data.isnull().sum()"
   ]
  },
  {
   "cell_type": "markdown",
   "metadata": {},
   "source": [
    "# Generating Single Customer View for the Dataset"
   ]
  },
  {
   "cell_type": "code",
   "execution_count": 64,
   "metadata": {},
   "outputs": [],
   "source": [
    "singcustview = exp_data.groupby(['client_id','Gender', 'Age','district_id']).agg({'trans_id': 'count', 'Account Balance':'max'})"
   ]
  },
  {
   "cell_type": "code",
   "execution_count": 65,
   "metadata": {},
   "outputs": [],
   "source": [
    "#Reset index\n",
    "\n",
    "singcustview.reset_index(inplace = True)"
   ]
  },
  {
   "cell_type": "code",
   "execution_count": 66,
   "metadata": {},
   "outputs": [
    {
     "data": {
      "text/plain": [
       "client_id          0\n",
       "Gender             0\n",
       "Age                0\n",
       "district_id        0\n",
       "trans_id           0\n",
       "Account Balance    0\n",
       "dtype: int64"
      ]
     },
     "execution_count": 66,
     "metadata": {},
     "output_type": "execute_result"
    }
   ],
   "source": [
    "#Check the number of null values\n",
    "\n",
    "singcustview.isnull().sum()"
   ]
  },
  {
   "cell_type": "code",
   "execution_count": 67,
   "metadata": {},
   "outputs": [
    {
     "data": {
      "text/html": [
       "<div>\n",
       "<style scoped>\n",
       "    .dataframe tbody tr th:only-of-type {\n",
       "        vertical-align: middle;\n",
       "    }\n",
       "\n",
       "    .dataframe tbody tr th {\n",
       "        vertical-align: top;\n",
       "    }\n",
       "\n",
       "    .dataframe thead th {\n",
       "        text-align: right;\n",
       "    }\n",
       "</style>\n",
       "<table border=\"1\" class=\"dataframe\">\n",
       "  <thead>\n",
       "    <tr style=\"text-align: right;\">\n",
       "      <th></th>\n",
       "      <th>client_id</th>\n",
       "      <th>Gender</th>\n",
       "      <th>Age</th>\n",
       "      <th>district_id</th>\n",
       "      <th>trans_id</th>\n",
       "      <th>Account Balance</th>\n",
       "    </tr>\n",
       "  </thead>\n",
       "  <tbody>\n",
       "    <tr>\n",
       "      <th>0</th>\n",
       "      <td>2</td>\n",
       "      <td>M</td>\n",
       "      <td>75</td>\n",
       "      <td>1</td>\n",
       "      <td>956</td>\n",
       "      <td>69302.0</td>\n",
       "    </tr>\n",
       "    <tr>\n",
       "      <th>1</th>\n",
       "      <td>3</td>\n",
       "      <td>F</td>\n",
       "      <td>80</td>\n",
       "      <td>1</td>\n",
       "      <td>956</td>\n",
       "      <td>69302.0</td>\n",
       "    </tr>\n",
       "    <tr>\n",
       "      <th>2</th>\n",
       "      <td>25</td>\n",
       "      <td>F</td>\n",
       "      <td>81</td>\n",
       "      <td>21</td>\n",
       "      <td>303</td>\n",
       "      <td>58157.5</td>\n",
       "    </tr>\n",
       "    <tr>\n",
       "      <th>3</th>\n",
       "      <td>31</td>\n",
       "      <td>M</td>\n",
       "      <td>58</td>\n",
       "      <td>68</td>\n",
       "      <td>1096</td>\n",
       "      <td>134209.9</td>\n",
       "    </tr>\n",
       "    <tr>\n",
       "      <th>4</th>\n",
       "      <td>45</td>\n",
       "      <td>M</td>\n",
       "      <td>68</td>\n",
       "      <td>20</td>\n",
       "      <td>520</td>\n",
       "      <td>104761.5</td>\n",
       "    </tr>\n",
       "    <tr>\n",
       "      <th>...</th>\n",
       "      <td>...</td>\n",
       "      <td>...</td>\n",
       "      <td>...</td>\n",
       "      <td>...</td>\n",
       "      <td>...</td>\n",
       "      <td>...</td>\n",
       "    </tr>\n",
       "    <tr>\n",
       "      <th>822</th>\n",
       "      <td>13924</td>\n",
       "      <td>F</td>\n",
       "      <td>68</td>\n",
       "      <td>54</td>\n",
       "      <td>146</td>\n",
       "      <td>136153.0</td>\n",
       "    </tr>\n",
       "    <tr>\n",
       "      <th>823</th>\n",
       "      <td>13955</td>\n",
       "      <td>F</td>\n",
       "      <td>75</td>\n",
       "      <td>1</td>\n",
       "      <td>608</td>\n",
       "      <td>113678.7</td>\n",
       "    </tr>\n",
       "    <tr>\n",
       "      <th>824</th>\n",
       "      <td>13956</td>\n",
       "      <td>M</td>\n",
       "      <td>77</td>\n",
       "      <td>1</td>\n",
       "      <td>608</td>\n",
       "      <td>113678.7</td>\n",
       "    </tr>\n",
       "    <tr>\n",
       "      <th>825</th>\n",
       "      <td>13968</td>\n",
       "      <td>M</td>\n",
       "      <td>52</td>\n",
       "      <td>61</td>\n",
       "      <td>1134</td>\n",
       "      <td>81705.8</td>\n",
       "    </tr>\n",
       "    <tr>\n",
       "      <th>826</th>\n",
       "      <td>13971</td>\n",
       "      <td>F</td>\n",
       "      <td>58</td>\n",
       "      <td>67</td>\n",
       "      <td>1720</td>\n",
       "      <td>56055.6</td>\n",
       "    </tr>\n",
       "  </tbody>\n",
       "</table>\n",
       "<p>827 rows × 6 columns</p>\n",
       "</div>"
      ],
      "text/plain": [
       "     client_id Gender  Age  district_id  trans_id  Account Balance\n",
       "0            2      M   75            1       956          69302.0\n",
       "1            3      F   80            1       956          69302.0\n",
       "2           25      F   81           21       303          58157.5\n",
       "3           31      M   58           68      1096         134209.9\n",
       "4           45      M   68           20       520         104761.5\n",
       "..         ...    ...  ...          ...       ...              ...\n",
       "822      13924      F   68           54       146         136153.0\n",
       "823      13955      F   75            1       608         113678.7\n",
       "824      13956      M   77            1       608         113678.7\n",
       "825      13968      M   52           61      1134          81705.8\n",
       "826      13971      F   58           67      1720          56055.6\n",
       "\n",
       "[827 rows x 6 columns]"
      ]
     },
     "execution_count": 67,
     "metadata": {},
     "output_type": "execute_result"
    }
   ],
   "source": [
    "#Viewing the dataset\n",
    "singcustview"
   ]
  },
  {
   "cell_type": "code",
   "execution_count": 68,
   "metadata": {},
   "outputs": [
    {
     "name": "stdout",
     "output_type": "stream",
     "text": [
      "<class 'pandas.core.frame.DataFrame'>\n",
      "RangeIndex: 827 entries, 0 to 826\n",
      "Data columns (total 6 columns):\n",
      " #   Column           Non-Null Count  Dtype  \n",
      "---  ------           --------------  -----  \n",
      " 0   client_id        827 non-null    int64  \n",
      " 1   Gender           827 non-null    object \n",
      " 2   Age              827 non-null    int64  \n",
      " 3   district_id      827 non-null    int64  \n",
      " 4   trans_id         827 non-null    int64  \n",
      " 5   Account Balance  827 non-null    float64\n",
      "dtypes: float64(1), int64(4), object(1)\n",
      "memory usage: 38.9+ KB\n"
     ]
    }
   ],
   "source": [
    "# Check the datatypes and empty cells\n",
    "singcustview.info()"
   ]
  },
  {
   "cell_type": "markdown",
   "metadata": {},
   "source": [
    "## Joining other datasets for better analysis"
   ]
  },
  {
   "cell_type": "code",
   "execution_count": 69,
   "metadata": {},
   "outputs": [
    {
     "data": {
      "text/html": [
       "<div>\n",
       "<style scoped>\n",
       "    .dataframe tbody tr th:only-of-type {\n",
       "        vertical-align: middle;\n",
       "    }\n",
       "\n",
       "    .dataframe tbody tr th {\n",
       "        vertical-align: top;\n",
       "    }\n",
       "\n",
       "    .dataframe thead th {\n",
       "        text-align: right;\n",
       "    }\n",
       "</style>\n",
       "<table border=\"1\" class=\"dataframe\">\n",
       "  <thead>\n",
       "    <tr style=\"text-align: right;\">\n",
       "      <th></th>\n",
       "      <th>client_id</th>\n",
       "      <th>Gender</th>\n",
       "      <th>Age</th>\n",
       "      <th>district_id</th>\n",
       "      <th>trans_id</th>\n",
       "      <th>Account Balance</th>\n",
       "    </tr>\n",
       "  </thead>\n",
       "  <tbody>\n",
       "    <tr>\n",
       "      <th>0</th>\n",
       "      <td>2</td>\n",
       "      <td>M</td>\n",
       "      <td>75</td>\n",
       "      <td>1</td>\n",
       "      <td>956</td>\n",
       "      <td>69302.0</td>\n",
       "    </tr>\n",
       "    <tr>\n",
       "      <th>1</th>\n",
       "      <td>3</td>\n",
       "      <td>F</td>\n",
       "      <td>80</td>\n",
       "      <td>1</td>\n",
       "      <td>956</td>\n",
       "      <td>69302.0</td>\n",
       "    </tr>\n",
       "    <tr>\n",
       "      <th>2</th>\n",
       "      <td>25</td>\n",
       "      <td>F</td>\n",
       "      <td>81</td>\n",
       "      <td>21</td>\n",
       "      <td>303</td>\n",
       "      <td>58157.5</td>\n",
       "    </tr>\n",
       "    <tr>\n",
       "      <th>3</th>\n",
       "      <td>31</td>\n",
       "      <td>M</td>\n",
       "      <td>58</td>\n",
       "      <td>68</td>\n",
       "      <td>1096</td>\n",
       "      <td>134209.9</td>\n",
       "    </tr>\n",
       "    <tr>\n",
       "      <th>4</th>\n",
       "      <td>45</td>\n",
       "      <td>M</td>\n",
       "      <td>68</td>\n",
       "      <td>20</td>\n",
       "      <td>520</td>\n",
       "      <td>104761.5</td>\n",
       "    </tr>\n",
       "    <tr>\n",
       "      <th>...</th>\n",
       "      <td>...</td>\n",
       "      <td>...</td>\n",
       "      <td>...</td>\n",
       "      <td>...</td>\n",
       "      <td>...</td>\n",
       "      <td>...</td>\n",
       "    </tr>\n",
       "    <tr>\n",
       "      <th>822</th>\n",
       "      <td>13924</td>\n",
       "      <td>F</td>\n",
       "      <td>68</td>\n",
       "      <td>54</td>\n",
       "      <td>146</td>\n",
       "      <td>136153.0</td>\n",
       "    </tr>\n",
       "    <tr>\n",
       "      <th>823</th>\n",
       "      <td>13955</td>\n",
       "      <td>F</td>\n",
       "      <td>75</td>\n",
       "      <td>1</td>\n",
       "      <td>608</td>\n",
       "      <td>113678.7</td>\n",
       "    </tr>\n",
       "    <tr>\n",
       "      <th>824</th>\n",
       "      <td>13956</td>\n",
       "      <td>M</td>\n",
       "      <td>77</td>\n",
       "      <td>1</td>\n",
       "      <td>608</td>\n",
       "      <td>113678.7</td>\n",
       "    </tr>\n",
       "    <tr>\n",
       "      <th>825</th>\n",
       "      <td>13968</td>\n",
       "      <td>M</td>\n",
       "      <td>52</td>\n",
       "      <td>61</td>\n",
       "      <td>1134</td>\n",
       "      <td>81705.8</td>\n",
       "    </tr>\n",
       "    <tr>\n",
       "      <th>826</th>\n",
       "      <td>13971</td>\n",
       "      <td>F</td>\n",
       "      <td>58</td>\n",
       "      <td>67</td>\n",
       "      <td>1720</td>\n",
       "      <td>56055.6</td>\n",
       "    </tr>\n",
       "  </tbody>\n",
       "</table>\n",
       "<p>827 rows × 6 columns</p>\n",
       "</div>"
      ],
      "text/plain": [
       "     client_id Gender  Age  district_id  trans_id  Account Balance\n",
       "0            2      M   75            1       956          69302.0\n",
       "1            3      F   80            1       956          69302.0\n",
       "2           25      F   81           21       303          58157.5\n",
       "3           31      M   58           68      1096         134209.9\n",
       "4           45      M   68           20       520         104761.5\n",
       "..         ...    ...  ...          ...       ...              ...\n",
       "822      13924      F   68           54       146         136153.0\n",
       "823      13955      F   75            1       608         113678.7\n",
       "824      13956      M   77            1       608         113678.7\n",
       "825      13968      M   52           61      1134          81705.8\n",
       "826      13971      F   58           67      1720          56055.6\n",
       "\n",
       "[827 rows x 6 columns]"
      ]
     },
     "execution_count": 69,
     "metadata": {},
     "output_type": "execute_result"
    }
   ],
   "source": [
    "# Viewing the tables\n",
    "singcustview"
   ]
  },
  {
   "cell_type": "code",
   "execution_count": 70,
   "metadata": {},
   "outputs": [
    {
     "data": {
      "text/plain": [
       "client_id          827\n",
       "Gender               2\n",
       "Age                 52\n",
       "district_id         77\n",
       "trans_id           481\n",
       "Account Balance    680\n",
       "dtype: int64"
      ]
     },
     "execution_count": 70,
     "metadata": {},
     "output_type": "execute_result"
    }
   ],
   "source": [
    "singcustview.nunique()"
   ]
  },
  {
   "cell_type": "markdown",
   "metadata": {},
   "source": [
    "We intend to expand this dataset to get in as many variables as possible to help our analysis"
   ]
  },
  {
   "cell_type": "code",
   "execution_count": 71,
   "metadata": {},
   "outputs": [],
   "source": [
    "# Include the Disp table\n",
    "\n",
    "data = pd.merge(singcustview,disp, on= 'client_id')"
   ]
  },
  {
   "cell_type": "code",
   "execution_count": 72,
   "metadata": {
    "scrolled": true
   },
   "outputs": [
    {
     "name": "stdout",
     "output_type": "stream",
     "text": [
      "<class 'pandas.core.frame.DataFrame'>\n",
      "Int64Index: 827 entries, 0 to 826\n",
      "Data columns (total 9 columns):\n",
      " #   Column           Non-Null Count  Dtype  \n",
      "---  ------           --------------  -----  \n",
      " 0   client_id        827 non-null    int64  \n",
      " 1   Gender           827 non-null    object \n",
      " 2   Age              827 non-null    int64  \n",
      " 3   district_id      827 non-null    int64  \n",
      " 4   trans_id         827 non-null    int64  \n",
      " 5   Account Balance  827 non-null    float64\n",
      " 6   disp_id          827 non-null    int64  \n",
      " 7   account_id       827 non-null    int64  \n",
      " 8   type             827 non-null    object \n",
      "dtypes: float64(1), int64(6), object(2)\n",
      "memory usage: 64.6+ KB\n"
     ]
    }
   ],
   "source": [
    "#Check the data types and number of null values\n",
    "data.info()"
   ]
  },
  {
   "cell_type": "code",
   "execution_count": 73,
   "metadata": {},
   "outputs": [
    {
     "data": {
      "text/html": [
       "<div>\n",
       "<style scoped>\n",
       "    .dataframe tbody tr th:only-of-type {\n",
       "        vertical-align: middle;\n",
       "    }\n",
       "\n",
       "    .dataframe tbody tr th {\n",
       "        vertical-align: top;\n",
       "    }\n",
       "\n",
       "    .dataframe thead th {\n",
       "        text-align: right;\n",
       "    }\n",
       "</style>\n",
       "<table border=\"1\" class=\"dataframe\">\n",
       "  <thead>\n",
       "    <tr style=\"text-align: right;\">\n",
       "      <th></th>\n",
       "      <th>client_id</th>\n",
       "      <th>Gender</th>\n",
       "      <th>Age</th>\n",
       "      <th>district_id</th>\n",
       "      <th>trans_id</th>\n",
       "      <th>Account Balance</th>\n",
       "      <th>disp_id</th>\n",
       "      <th>account_id</th>\n",
       "      <th>type</th>\n",
       "    </tr>\n",
       "  </thead>\n",
       "  <tbody>\n",
       "    <tr>\n",
       "      <th>0</th>\n",
       "      <td>2</td>\n",
       "      <td>M</td>\n",
       "      <td>75</td>\n",
       "      <td>1</td>\n",
       "      <td>956</td>\n",
       "      <td>69302.0</td>\n",
       "      <td>2</td>\n",
       "      <td>2</td>\n",
       "      <td>OWNER</td>\n",
       "    </tr>\n",
       "    <tr>\n",
       "      <th>1</th>\n",
       "      <td>3</td>\n",
       "      <td>F</td>\n",
       "      <td>80</td>\n",
       "      <td>1</td>\n",
       "      <td>956</td>\n",
       "      <td>69302.0</td>\n",
       "      <td>3</td>\n",
       "      <td>2</td>\n",
       "      <td>USER</td>\n",
       "    </tr>\n",
       "    <tr>\n",
       "      <th>2</th>\n",
       "      <td>25</td>\n",
       "      <td>F</td>\n",
       "      <td>81</td>\n",
       "      <td>21</td>\n",
       "      <td>303</td>\n",
       "      <td>58157.5</td>\n",
       "      <td>25</td>\n",
       "      <td>19</td>\n",
       "      <td>OWNER</td>\n",
       "    </tr>\n",
       "    <tr>\n",
       "      <th>3</th>\n",
       "      <td>31</td>\n",
       "      <td>M</td>\n",
       "      <td>58</td>\n",
       "      <td>68</td>\n",
       "      <td>1096</td>\n",
       "      <td>134209.9</td>\n",
       "      <td>31</td>\n",
       "      <td>25</td>\n",
       "      <td>OWNER</td>\n",
       "    </tr>\n",
       "    <tr>\n",
       "      <th>4</th>\n",
       "      <td>45</td>\n",
       "      <td>M</td>\n",
       "      <td>68</td>\n",
       "      <td>20</td>\n",
       "      <td>520</td>\n",
       "      <td>104761.5</td>\n",
       "      <td>45</td>\n",
       "      <td>37</td>\n",
       "      <td>OWNER</td>\n",
       "    </tr>\n",
       "    <tr>\n",
       "      <th>...</th>\n",
       "      <td>...</td>\n",
       "      <td>...</td>\n",
       "      <td>...</td>\n",
       "      <td>...</td>\n",
       "      <td>...</td>\n",
       "      <td>...</td>\n",
       "      <td>...</td>\n",
       "      <td>...</td>\n",
       "      <td>...</td>\n",
       "    </tr>\n",
       "    <tr>\n",
       "      <th>822</th>\n",
       "      <td>13924</td>\n",
       "      <td>F</td>\n",
       "      <td>68</td>\n",
       "      <td>54</td>\n",
       "      <td>146</td>\n",
       "      <td>136153.0</td>\n",
       "      <td>13616</td>\n",
       "      <td>11328</td>\n",
       "      <td>OWNER</td>\n",
       "    </tr>\n",
       "    <tr>\n",
       "      <th>823</th>\n",
       "      <td>13955</td>\n",
       "      <td>F</td>\n",
       "      <td>75</td>\n",
       "      <td>1</td>\n",
       "      <td>608</td>\n",
       "      <td>113678.7</td>\n",
       "      <td>13647</td>\n",
       "      <td>11349</td>\n",
       "      <td>OWNER</td>\n",
       "    </tr>\n",
       "    <tr>\n",
       "      <th>824</th>\n",
       "      <td>13956</td>\n",
       "      <td>M</td>\n",
       "      <td>77</td>\n",
       "      <td>1</td>\n",
       "      <td>608</td>\n",
       "      <td>113678.7</td>\n",
       "      <td>13648</td>\n",
       "      <td>11349</td>\n",
       "      <td>USER</td>\n",
       "    </tr>\n",
       "    <tr>\n",
       "      <th>825</th>\n",
       "      <td>13968</td>\n",
       "      <td>M</td>\n",
       "      <td>52</td>\n",
       "      <td>61</td>\n",
       "      <td>1134</td>\n",
       "      <td>81705.8</td>\n",
       "      <td>13660</td>\n",
       "      <td>11359</td>\n",
       "      <td>OWNER</td>\n",
       "    </tr>\n",
       "    <tr>\n",
       "      <th>826</th>\n",
       "      <td>13971</td>\n",
       "      <td>F</td>\n",
       "      <td>58</td>\n",
       "      <td>67</td>\n",
       "      <td>1720</td>\n",
       "      <td>56055.6</td>\n",
       "      <td>13663</td>\n",
       "      <td>11362</td>\n",
       "      <td>OWNER</td>\n",
       "    </tr>\n",
       "  </tbody>\n",
       "</table>\n",
       "<p>827 rows × 9 columns</p>\n",
       "</div>"
      ],
      "text/plain": [
       "     client_id Gender  Age  district_id  trans_id  Account Balance  disp_id  \\\n",
       "0            2      M   75            1       956          69302.0        2   \n",
       "1            3      F   80            1       956          69302.0        3   \n",
       "2           25      F   81           21       303          58157.5       25   \n",
       "3           31      M   58           68      1096         134209.9       31   \n",
       "4           45      M   68           20       520         104761.5       45   \n",
       "..         ...    ...  ...          ...       ...              ...      ...   \n",
       "822      13924      F   68           54       146         136153.0    13616   \n",
       "823      13955      F   75            1       608         113678.7    13647   \n",
       "824      13956      M   77            1       608         113678.7    13648   \n",
       "825      13968      M   52           61      1134          81705.8    13660   \n",
       "826      13971      F   58           67      1720          56055.6    13663   \n",
       "\n",
       "     account_id   type  \n",
       "0             2  OWNER  \n",
       "1             2   USER  \n",
       "2            19  OWNER  \n",
       "3            25  OWNER  \n",
       "4            37  OWNER  \n",
       "..          ...    ...  \n",
       "822       11328  OWNER  \n",
       "823       11349  OWNER  \n",
       "824       11349   USER  \n",
       "825       11359  OWNER  \n",
       "826       11362  OWNER  \n",
       "\n",
       "[827 rows x 9 columns]"
      ]
     },
     "execution_count": 73,
     "metadata": {},
     "output_type": "execute_result"
    }
   ],
   "source": [
    "#Viewing the new dataset\n",
    "data"
   ]
  },
  {
   "cell_type": "code",
   "execution_count": 74,
   "metadata": {},
   "outputs": [],
   "source": [
    "#include the card dataset\n",
    "\n",
    "cdata = pd.merge(data,card,on='disp_id', how = 'left')"
   ]
  },
  {
   "cell_type": "code",
   "execution_count": 75,
   "metadata": {
    "scrolled": true
   },
   "outputs": [
    {
     "name": "stdout",
     "output_type": "stream",
     "text": [
      "<class 'pandas.core.frame.DataFrame'>\n",
      "Int64Index: 827 entries, 0 to 826\n",
      "Data columns (total 12 columns):\n",
      " #   Column            Non-Null Count  Dtype         \n",
      "---  ------            --------------  -----         \n",
      " 0   client_id         827 non-null    int64         \n",
      " 1   Gender            827 non-null    object        \n",
      " 2   Age               827 non-null    int64         \n",
      " 3   district_id       827 non-null    int64         \n",
      " 4   trans_id          827 non-null    int64         \n",
      " 5   Account Balance   827 non-null    float64       \n",
      " 6   disp_id           827 non-null    int64         \n",
      " 7   account_id        827 non-null    int64         \n",
      " 8   type              827 non-null    object        \n",
      " 9   card_id           170 non-null    float64       \n",
      " 10  Date Card Issued  170 non-null    datetime64[ns]\n",
      " 11  Type of Card      170 non-null    object        \n",
      "dtypes: datetime64[ns](1), float64(2), int64(6), object(3)\n",
      "memory usage: 84.0+ KB\n"
     ]
    }
   ],
   "source": [
    "#Confirming the data types and null values in the dataset\n",
    "cdata.info()"
   ]
  },
  {
   "cell_type": "code",
   "execution_count": 76,
   "metadata": {},
   "outputs": [
    {
     "data": {
      "text/plain": [
       "<matplotlib.axes._subplots.AxesSubplot at 0x21815b6be80>"
      ]
     },
     "execution_count": 76,
     "metadata": {},
     "output_type": "execute_result"
    },
    {
     "data": {
      "image/png": "[encoded data removed]",
      "text/plain": [
       "<Figure size 432x288 with 1 Axes>"
      ]
     },
     "metadata": {
      "needs_background": "light"
     },
     "output_type": "display_data"
    }
   ],
   "source": [
    "#View those that have cards and those that do not\n",
    "\n",
    "sns.countplot(x= 'type' ,hue ='Type of Card', data= cdata )"
   ]
  },
  {
   "cell_type": "code",
   "execution_count": 77,
   "metadata": {},
   "outputs": [],
   "source": [
    "# include the  table for the district table for demography\n",
    "ddata = pd.merge(cdata,district, left_on = 'district_id', right_on = 'District Code')"
   ]
  },
  {
   "cell_type": "code",
   "execution_count": 78,
   "metadata": {},
   "outputs": [
    {
     "name": "stdout",
     "output_type": "stream",
     "text": [
      "<class 'pandas.core.frame.DataFrame'>\n",
      "Int64Index: 827 entries, 0 to 826\n",
      "Data columns (total 22 columns):\n",
      " #   Column                          Non-Null Count  Dtype         \n",
      "---  ------                          --------------  -----         \n",
      " 0   client_id                       827 non-null    int64         \n",
      " 1   Gender                          827 non-null    object        \n",
      " 2   Age                             827 non-null    int64         \n",
      " 3   district_id                     827 non-null    int64         \n",
      " 4   trans_id                        827 non-null    int64         \n",
      " 5   Account Balance                 827 non-null    float64       \n",
      " 6   disp_id                         827 non-null    int64         \n",
      " 7   account_id                      827 non-null    int64         \n",
      " 8   type                            827 non-null    object        \n",
      " 9   card_id                         170 non-null    float64       \n",
      " 10  Date Card Issued                170 non-null    datetime64[ns]\n",
      " 11  Type of Card                    170 non-null    object        \n",
      " 12  District Code                   827 non-null    int64         \n",
      " 13  District Name                   827 non-null    object        \n",
      " 14  Region                          827 non-null    object        \n",
      " 15  Population                      827 non-null    int64         \n",
      " 16  Ratio of Urban Inhabitants      827 non-null    float64       \n",
      " 17  Average Salary                  827 non-null    float64       \n",
      " 18  Unemployment Rate 95            818 non-null    float64       \n",
      " 19  Number of Committeed Crimes 95  818 non-null    float64       \n",
      " 20  Unemployment Rate 96            827 non-null    int64         \n",
      " 21  Number of Committed Crimes 96   827 non-null    int64         \n",
      "dtypes: datetime64[ns](1), float64(6), int64(10), object(5)\n",
      "memory usage: 148.6+ KB\n"
     ]
    }
   ],
   "source": [
    "#Viewing the new dataset\n",
    "ddata.info()"
   ]
  },
  {
   "cell_type": "code",
   "execution_count": null,
   "metadata": {},
   "outputs": [],
   "source": []
  },
  {
   "cell_type": "code",
   "execution_count": 79,
   "metadata": {},
   "outputs": [],
   "source": [
    "#Add orders and loans to the dataset so we have a sense of their history\n",
    "ldata = pd.merge(ddata, loan, on = 'account_id')"
   ]
  },
  {
   "cell_type": "code",
   "execution_count": 80,
   "metadata": {},
   "outputs": [
    {
     "name": "stdout",
     "output_type": "stream",
     "text": [
      "<class 'pandas.core.frame.DataFrame'>\n",
      "Int64Index: 827 entries, 0 to 826\n",
      "Data columns (total 28 columns):\n",
      " #   Column                          Non-Null Count  Dtype         \n",
      "---  ------                          --------------  -----         \n",
      " 0   client_id                       827 non-null    int64         \n",
      " 1   Gender                          827 non-null    object        \n",
      " 2   Age                             827 non-null    int64         \n",
      " 3   district_id                     827 non-null    int64         \n",
      " 4   trans_id                        827 non-null    int64         \n",
      " 5   Account Balance                 827 non-null    float64       \n",
      " 6   disp_id                         827 non-null    int64         \n",
      " 7   account_id                      827 non-null    int64         \n",
      " 8   type                            827 non-null    object        \n",
      " 9   card_id                         170 non-null    float64       \n",
      " 10  Date Card Issued                170 non-null    datetime64[ns]\n",
      " 11  Type of Card                    170 non-null    object        \n",
      " 12  District Code                   827 non-null    int64         \n",
      " 13  District Name                   827 non-null    object        \n",
      " 14  Region                          827 non-null    object        \n",
      " 15  Population                      827 non-null    int64         \n",
      " 16  Ratio of Urban Inhabitants      827 non-null    float64       \n",
      " 17  Average Salary                  827 non-null    float64       \n",
      " 18  Unemployment Rate 95            818 non-null    float64       \n",
      " 19  Number of Committeed Crimes 95  818 non-null    float64       \n",
      " 20  Unemployment Rate 96            827 non-null    int64         \n",
      " 21  Number of Committed Crimes 96   827 non-null    int64         \n",
      " 22  loan_id                         827 non-null    int64         \n",
      " 23  Date loan taken                 827 non-null    object        \n",
      " 24  Amount of Loan                  827 non-null    float64       \n",
      " 25  Loan Payments                   827 non-null    float64       \n",
      " 26  Loan Duration                   827 non-null    int64         \n",
      " 27  Loan Status                     827 non-null    object        \n",
      "dtypes: datetime64[ns](1), float64(8), int64(12), object(7)\n",
      "memory usage: 187.4+ KB\n"
     ]
    }
   ],
   "source": [
    "#Viewing the expanded dataset\n",
    "ldata.info()"
   ]
  },
  {
   "cell_type": "code",
   "execution_count": 102,
   "metadata": {},
   "outputs": [],
   "source": [
    "# include orders data for better analysis\n",
    "odata = pd.merge(ldata, orders, on = 'account_id', how='left')"
   ]
  },
  {
   "cell_type": "code",
   "execution_count": 82,
   "metadata": {},
   "outputs": [
    {
     "name": "stdout",
     "output_type": "stream",
     "text": [
      "<class 'pandas.core.frame.DataFrame'>\n",
      "RangeIndex: 6471 entries, 0 to 6470\n",
      "Data columns (total 5 columns):\n",
      " #   Column            Non-Null Count  Dtype  \n",
      "---  ------            --------------  -----  \n",
      " 0   order_id          6471 non-null   int64  \n",
      " 1   account_id        6471 non-null   int64  \n",
      " 2   Amount Debited    6471 non-null   float64\n",
      " 3   Recipient Bank    6471 non-null   object \n",
      " 4   Reason for debit  6471 non-null   object \n",
      "dtypes: float64(1), int64(2), object(2)\n",
      "memory usage: 252.9+ KB\n"
     ]
    }
   ],
   "source": [
    "orders.info()"
   ]
  },
  {
   "cell_type": "code",
   "execution_count": 83,
   "metadata": {},
   "outputs": [
    {
     "name": "stdout",
     "output_type": "stream",
     "text": [
      "<class 'pandas.core.frame.DataFrame'>\n",
      "Int64Index: 1841 entries, 0 to 1840\n",
      "Data columns (total 32 columns):\n",
      " #   Column                          Non-Null Count  Dtype         \n",
      "---  ------                          --------------  -----         \n",
      " 0   client_id                       1841 non-null   int64         \n",
      " 1   Gender                          1841 non-null   object        \n",
      " 2   Age                             1841 non-null   int64         \n",
      " 3   district_id                     1841 non-null   int64         \n",
      " 4   trans_id                        1841 non-null   int64         \n",
      " 5   Account Balance                 1841 non-null   float64       \n",
      " 6   disp_id                         1841 non-null   int64         \n",
      " 7   account_id                      1841 non-null   int64         \n",
      " 8   type                            1841 non-null   object        \n",
      " 9   card_id                         354 non-null    float64       \n",
      " 10  Date Card Issued                354 non-null    datetime64[ns]\n",
      " 11  Type of Card                    354 non-null    object        \n",
      " 12  District Code                   1841 non-null   int64         \n",
      " 13  District Name                   1841 non-null   object        \n",
      " 14  Region                          1841 non-null   object        \n",
      " 15  Population                      1841 non-null   int64         \n",
      " 16  Ratio of Urban Inhabitants      1841 non-null   float64       \n",
      " 17  Average Salary                  1841 non-null   float64       \n",
      " 18  Unemployment Rate 95            1831 non-null   float64       \n",
      " 19  Number of Committeed Crimes 95  1831 non-null   float64       \n",
      " 20  Unemployment Rate 96            1841 non-null   int64         \n",
      " 21  Number of Committed Crimes 96   1841 non-null   int64         \n",
      " 22  loan_id                         1841 non-null   int64         \n",
      " 23  Date loan taken                 1841 non-null   object        \n",
      " 24  Amount of Loan                  1841 non-null   float64       \n",
      " 25  Loan Payments                   1841 non-null   float64       \n",
      " 26  Loan Duration                   1841 non-null   int64         \n",
      " 27  Loan Status                     1841 non-null   object        \n",
      " 28  order_id                        1841 non-null   int64         \n",
      " 29  Amount Debited                  1841 non-null   float64       \n",
      " 30  Recipient Bank                  1841 non-null   object        \n",
      " 31  Reason for debit                1841 non-null   object        \n",
      "dtypes: datetime64[ns](1), float64(9), int64(13), object(9)\n",
      "memory usage: 474.6+ KB\n"
     ]
    }
   ],
   "source": [
    "#view the data types in the dataset\n",
    "odata.info()"
   ]
  },
  {
   "cell_type": "code",
   "execution_count": 84,
   "metadata": {},
   "outputs": [
    {
     "data": {
      "text/html": [
       "<div>\n",
       "<style scoped>\n",
       "    .dataframe tbody tr th:only-of-type {\n",
       "        vertical-align: middle;\n",
       "    }\n",
       "\n",
       "    .dataframe tbody tr th {\n",
       "        vertical-align: top;\n",
       "    }\n",
       "\n",
       "    .dataframe thead th {\n",
       "        text-align: right;\n",
       "    }\n",
       "</style>\n",
       "<table border=\"1\" class=\"dataframe\">\n",
       "  <thead>\n",
       "    <tr style=\"text-align: right;\">\n",
       "      <th></th>\n",
       "      <th>client_id</th>\n",
       "      <th>Gender</th>\n",
       "      <th>Age</th>\n",
       "      <th>district_id</th>\n",
       "      <th>trans_id</th>\n",
       "      <th>Account Balance</th>\n",
       "      <th>disp_id</th>\n",
       "      <th>account_id</th>\n",
       "      <th>type</th>\n",
       "      <th>card_id</th>\n",
       "      <th>...</th>\n",
       "      <th>loan_id</th>\n",
       "      <th>Date loan taken</th>\n",
       "      <th>Amount of Loan</th>\n",
       "      <th>Loan Payments</th>\n",
       "      <th>Loan Duration</th>\n",
       "      <th>Loan Status</th>\n",
       "      <th>order_id</th>\n",
       "      <th>Amount Debited</th>\n",
       "      <th>Recipient Bank</th>\n",
       "      <th>Reason for debit</th>\n",
       "    </tr>\n",
       "  </thead>\n",
       "  <tbody>\n",
       "    <tr>\n",
       "      <th>0</th>\n",
       "      <td>2</td>\n",
       "      <td>M</td>\n",
       "      <td>75</td>\n",
       "      <td>1</td>\n",
       "      <td>956</td>\n",
       "      <td>69302.0</td>\n",
       "      <td>2</td>\n",
       "      <td>2</td>\n",
       "      <td>OWNER</td>\n",
       "      <td>NaN</td>\n",
       "      <td>...</td>\n",
       "      <td>4959</td>\n",
       "      <td>05-01-94</td>\n",
       "      <td>80952.0</td>\n",
       "      <td>3373.0</td>\n",
       "      <td>24</td>\n",
       "      <td>Contract Finished No Problems</td>\n",
       "      <td>29402</td>\n",
       "      <td>3372.7</td>\n",
       "      <td>ST</td>\n",
       "      <td>Loan Payment</td>\n",
       "    </tr>\n",
       "    <tr>\n",
       "      <th>1</th>\n",
       "      <td>2</td>\n",
       "      <td>M</td>\n",
       "      <td>75</td>\n",
       "      <td>1</td>\n",
       "      <td>956</td>\n",
       "      <td>69302.0</td>\n",
       "      <td>2</td>\n",
       "      <td>2</td>\n",
       "      <td>OWNER</td>\n",
       "      <td>NaN</td>\n",
       "      <td>...</td>\n",
       "      <td>4959</td>\n",
       "      <td>05-01-94</td>\n",
       "      <td>80952.0</td>\n",
       "      <td>3373.0</td>\n",
       "      <td>24</td>\n",
       "      <td>Contract Finished No Problems</td>\n",
       "      <td>29403</td>\n",
       "      <td>7266.0</td>\n",
       "      <td>QR</td>\n",
       "      <td>Household Payment</td>\n",
       "    </tr>\n",
       "    <tr>\n",
       "      <th>2</th>\n",
       "      <td>3</td>\n",
       "      <td>F</td>\n",
       "      <td>80</td>\n",
       "      <td>1</td>\n",
       "      <td>956</td>\n",
       "      <td>69302.0</td>\n",
       "      <td>3</td>\n",
       "      <td>2</td>\n",
       "      <td>USER</td>\n",
       "      <td>NaN</td>\n",
       "      <td>...</td>\n",
       "      <td>4959</td>\n",
       "      <td>05-01-94</td>\n",
       "      <td>80952.0</td>\n",
       "      <td>3373.0</td>\n",
       "      <td>24</td>\n",
       "      <td>Contract Finished No Problems</td>\n",
       "      <td>29402</td>\n",
       "      <td>3372.7</td>\n",
       "      <td>ST</td>\n",
       "      <td>Loan Payment</td>\n",
       "    </tr>\n",
       "    <tr>\n",
       "      <th>3</th>\n",
       "      <td>3</td>\n",
       "      <td>F</td>\n",
       "      <td>80</td>\n",
       "      <td>1</td>\n",
       "      <td>956</td>\n",
       "      <td>69302.0</td>\n",
       "      <td>3</td>\n",
       "      <td>2</td>\n",
       "      <td>USER</td>\n",
       "      <td>NaN</td>\n",
       "      <td>...</td>\n",
       "      <td>4959</td>\n",
       "      <td>05-01-94</td>\n",
       "      <td>80952.0</td>\n",
       "      <td>3373.0</td>\n",
       "      <td>24</td>\n",
       "      <td>Contract Finished No Problems</td>\n",
       "      <td>29403</td>\n",
       "      <td>7266.0</td>\n",
       "      <td>QR</td>\n",
       "      <td>Household Payment</td>\n",
       "    </tr>\n",
       "    <tr>\n",
       "      <th>4</th>\n",
       "      <td>424</td>\n",
       "      <td>M</td>\n",
       "      <td>73</td>\n",
       "      <td>1</td>\n",
       "      <td>379</td>\n",
       "      <td>142312.3</td>\n",
       "      <td>424</td>\n",
       "      <td>347</td>\n",
       "      <td>OWNER</td>\n",
       "      <td>NaN</td>\n",
       "      <td>...</td>\n",
       "      <td>5045</td>\n",
       "      <td>01-05-95</td>\n",
       "      <td>187224.0</td>\n",
       "      <td>7801.0</td>\n",
       "      <td>24</td>\n",
       "      <td>\"Contract Finished, Loan not Paid\"</td>\n",
       "      <td>29917</td>\n",
       "      <td>7801.2</td>\n",
       "      <td>CD</td>\n",
       "      <td>Loan Payment</td>\n",
       "    </tr>\n",
       "  </tbody>\n",
       "</table>\n",
       "<p>5 rows × 32 columns</p>\n",
       "</div>"
      ],
      "text/plain": [
       "   client_id Gender  Age  district_id  trans_id  Account Balance  disp_id  \\\n",
       "0          2      M   75            1       956          69302.0        2   \n",
       "1          2      M   75            1       956          69302.0        2   \n",
       "2          3      F   80            1       956          69302.0        3   \n",
       "3          3      F   80            1       956          69302.0        3   \n",
       "4        424      M   73            1       379         142312.3      424   \n",
       "\n",
       "   account_id   type  card_id  ... loan_id Date loan taken  Amount of Loan  \\\n",
       "0           2  OWNER      NaN  ...    4959        05-01-94         80952.0   \n",
       "1           2  OWNER      NaN  ...    4959        05-01-94         80952.0   \n",
       "2           2   USER      NaN  ...    4959        05-01-94         80952.0   \n",
       "3           2   USER      NaN  ...    4959        05-01-94         80952.0   \n",
       "4         347  OWNER      NaN  ...    5045        01-05-95        187224.0   \n",
       "\n",
       "  Loan Payments Loan Duration                         Loan Status  order_id  \\\n",
       "0        3373.0            24       Contract Finished No Problems     29402   \n",
       "1        3373.0            24       Contract Finished No Problems     29403   \n",
       "2        3373.0            24       Contract Finished No Problems     29402   \n",
       "3        3373.0            24       Contract Finished No Problems     29403   \n",
       "4        7801.0            24  \"Contract Finished, Loan not Paid\"     29917   \n",
       "\n",
       "   Amount Debited  Recipient Bank   Reason for debit  \n",
       "0          3372.7              ST       Loan Payment  \n",
       "1          7266.0              QR  Household Payment  \n",
       "2          3372.7              ST       Loan Payment  \n",
       "3          7266.0              QR  Household Payment  \n",
       "4          7801.2              CD       Loan Payment  \n",
       "\n",
       "[5 rows x 32 columns]"
      ]
     },
     "execution_count": 84,
     "metadata": {},
     "output_type": "execute_result"
    }
   ],
   "source": [
    "#view dataset\n",
    "odata.head()"
   ]
  },
  {
   "cell_type": "code",
   "execution_count": 85,
   "metadata": {},
   "outputs": [
    {
     "data": {
      "text/plain": [
       "client_id                                  int64\n",
       "Gender                                    object\n",
       "Age                                        int64\n",
       "district_id                                int64\n",
       "trans_id                                   int64\n",
       "Account Balance                          float64\n",
       "disp_id                                    int64\n",
       "account_id                                 int64\n",
       "type                                      object\n",
       "card_id                                  float64\n",
       "Date Card Issued                  datetime64[ns]\n",
       "Type of Card                              object\n",
       "District Code                              int64\n",
       "District Name                             object\n",
       "Region                                    object\n",
       "Population                                 int64\n",
       "Ratio of Urban Inhabitants               float64\n",
       "Average Salary                           float64\n",
       "Unemployment Rate 95                     float64\n",
       "Number of Committeed Crimes 95           float64\n",
       "Unemployment Rate 96                       int64\n",
       "Number of Committed Crimes 96              int64\n",
       "loan_id                                    int64\n",
       "Date loan taken                           object\n",
       "Amount of Loan                           float64\n",
       "Loan Payments                            float64\n",
       "Loan Duration                              int64\n",
       "Loan Status                               object\n",
       "order_id                                   int64\n",
       "Amount Debited                           float64\n",
       "Recipient Bank                            object\n",
       "Reason for debit                          object\n",
       "dtype: object"
      ]
     },
     "execution_count": 85,
     "metadata": {},
     "output_type": "execute_result"
    }
   ],
   "source": [
    "#Checking the data types\n",
    "odata.dtypes"
   ]
  },
  {
   "cell_type": "code",
   "execution_count": 86,
   "metadata": {},
   "outputs": [
    {
     "name": "stdout",
     "output_type": "stream",
     "text": [
      "<class 'pandas.core.frame.DataFrame'>\n",
      "Int64Index: 1841 entries, 0 to 1840\n",
      "Data columns (total 32 columns):\n",
      " #   Column                          Non-Null Count  Dtype         \n",
      "---  ------                          --------------  -----         \n",
      " 0   client_id                       1841 non-null   int64         \n",
      " 1   Gender                          1841 non-null   object        \n",
      " 2   Age                             1841 non-null   int64         \n",
      " 3   district_id                     1841 non-null   int64         \n",
      " 4   trans_id                        1841 non-null   int64         \n",
      " 5   Account Balance                 1841 non-null   float64       \n",
      " 6   disp_id                         1841 non-null   int64         \n",
      " 7   account_id                      1841 non-null   int64         \n",
      " 8   type                            1841 non-null   object        \n",
      " 9   card_id                         354 non-null    float64       \n",
      " 10  Date Card Issued                354 non-null    datetime64[ns]\n",
      " 11  Type of Card                    354 non-null    object        \n",
      " 12  District Code                   1841 non-null   int64         \n",
      " 13  District Name                   1841 non-null   object        \n",
      " 14  Region                          1841 non-null   object        \n",
      " 15  Population                      1841 non-null   int64         \n",
      " 16  Ratio of Urban Inhabitants      1841 non-null   float64       \n",
      " 17  Average Salary                  1841 non-null   float64       \n",
      " 18  Unemployment Rate 95            1831 non-null   float64       \n",
      " 19  Number of Committeed Crimes 95  1831 non-null   float64       \n",
      " 20  Unemployment Rate 96            1841 non-null   int64         \n",
      " 21  Number of Committed Crimes 96   1841 non-null   int64         \n",
      " 22  loan_id                         1841 non-null   int64         \n",
      " 23  Date loan taken                 1841 non-null   object        \n",
      " 24  Amount of Loan                  1841 non-null   float64       \n",
      " 25  Loan Payments                   1841 non-null   float64       \n",
      " 26  Loan Duration                   1841 non-null   int64         \n",
      " 27  Loan Status                     1841 non-null   object        \n",
      " 28  order_id                        1841 non-null   int64         \n",
      " 29  Amount Debited                  1841 non-null   float64       \n",
      " 30  Recipient Bank                  1841 non-null   object        \n",
      " 31  Reason for debit                1841 non-null   object        \n",
      "dtypes: datetime64[ns](1), float64(9), int64(13), object(9)\n",
      "memory usage: 474.6+ KB\n"
     ]
    }
   ],
   "source": [
    "#Viewing the datatypes and null values\n",
    "odata.info()"
   ]
  },
  {
   "cell_type": "code",
   "execution_count": 87,
   "metadata": {},
   "outputs": [
    {
     "data": {
      "text/plain": [
       "(1841, 32)"
      ]
     },
     "execution_count": 87,
     "metadata": {},
     "output_type": "execute_result"
    }
   ],
   "source": [
    "#Checking the shape of the data\n",
    "odata.shape"
   ]
  },
  {
   "cell_type": "code",
   "execution_count": 88,
   "metadata": {},
   "outputs": [],
   "source": [
    "#Preserving the original data to add to the Kmeans for further analysis\n",
    "\n",
    "o_odata = odata"
   ]
  },
  {
   "cell_type": "code",
   "execution_count": 90,
   "metadata": {},
   "outputs": [
    {
     "data": {
      "text/plain": [
       "classic    276\n",
       "junior      51\n",
       "gold        27\n",
       "Name: Type of Card, dtype: int64"
      ]
     },
     "execution_count": 90,
     "metadata": {},
     "output_type": "execute_result"
    }
   ],
   "source": [
    "#Getting the card details\n",
    "odata['Type of Card'].value_counts()"
   ]
  },
  {
   "cell_type": "code",
   "execution_count": null,
   "metadata": {},
   "outputs": [],
   "source": []
  },
  {
   "cell_type": "code",
   "execution_count": null,
   "metadata": {},
   "outputs": [],
   "source": []
  },
  {
   "cell_type": "code",
   "execution_count": null,
   "metadata": {},
   "outputs": [],
   "source": []
  },
  {
   "cell_type": "markdown",
   "metadata": {},
   "source": [
    "# Displaying Visualizations using Pandas Profiling"
   ]
  },
  {
   "cell_type": "code",
   "execution_count": null,
   "metadata": {},
   "outputs": [],
   "source": [
    "#Generating the report\n",
    "#prof_report = pandas_profiling.ProfileReport(exp_data, title= 'Czech Bank')"
   ]
  },
  {
   "cell_type": "code",
   "execution_count": null,
   "metadata": {},
   "outputs": [],
   "source": [
    "#Displaying the report\n",
    "#prof_report.to_widgets()"
   ]
  },
  {
   "cell_type": "markdown",
   "metadata": {},
   "source": [
    "# Displaying Visualizations Using AutoViz"
   ]
  },
  {
   "cell_type": "code",
   "execution_count": null,
   "metadata": {},
   "outputs": [],
   "source": [
    "# Display the Charts\n",
    "#odata = AV.AutoViz(odata)"
   ]
  },
  {
   "cell_type": "code",
   "execution_count": null,
   "metadata": {},
   "outputs": [],
   "source": []
  },
  {
   "cell_type": "code",
   "execution_count": null,
   "metadata": {},
   "outputs": [],
   "source": []
  },
  {
   "cell_type": "markdown",
   "metadata": {},
   "source": [
    "## VISUALIZATIONS"
   ]
  },
  {
   "cell_type": "code",
   "execution_count": 95,
   "metadata": {},
   "outputs": [
    {
     "data": {
      "image/png": "[encoded data removed]",
      "text/plain": [
       "<Figure size 432x288 with 1 Axes>"
      ]
     },
     "metadata": {
      "needs_background": "light"
     },
     "output_type": "display_data"
    }
   ],
   "source": [
    "#How many have cards\n",
    "sns.countplot(odata['Type of Card'])\n",
    "plt.title('Number of Cards in Circulation')\n",
    "plt.savefig ('View of Cards in Circulation')"
   ]
  },
  {
   "cell_type": "code",
   "execution_count": 97,
   "metadata": {},
   "outputs": [
    {
     "data": {
      "image/png": "[encoded data removed]",
      "text/plain": [
       "<Figure size 432x288 with 1 Axes>"
      ]
     },
     "metadata": {
      "needs_background": "light"
     },
     "output_type": "display_data"
    }
   ],
   "source": [
    "#cards by account balance\n",
    "\n",
    "sns.barplot(data =odata, x ='Type of Card', y= 'Account Balance')\n",
    "plt.title('Account Balances Linked to Card')\n",
    "plt.savefig ('Balance of Accounts with Cards')"
   ]
  },
  {
   "cell_type": "code",
   "execution_count": null,
   "metadata": {},
   "outputs": [],
   "source": [
    "#Checking the number of male and female in the books\n",
    "\n",
    "sns.barplot(x='Gender', y='client_id', data = odata)"
   ]
  },
  {
   "cell_type": "code",
   "execution_count": null,
   "metadata": {},
   "outputs": [],
   "source": [
    "#Checking the amount held by male and femal customers in the books\n",
    "\n",
    "sns.barplot(data = odata, x='Gender', y= 'Account Balance')"
   ]
  },
  {
   "cell_type": "markdown",
   "metadata": {},
   "source": [
    "Type refers to the disposition of the account. It specifies if they are run by Owners or other users."
   ]
  },
  {
   "cell_type": "code",
   "execution_count": 98,
   "metadata": {},
   "outputs": [
    {
     "data": {
      "text/plain": [
       "<matplotlib.axes._subplots.AxesSubplot at 0x21819d461f0>"
      ]
     },
     "execution_count": 98,
     "metadata": {},
     "output_type": "execute_result"
    },
    {
     "data": {
      "image/png": "[encoded data removed]",
      "text/plain": [
       "<Figure size 432x288 with 1 Axes>"
      ]
     },
     "metadata": {
      "needs_background": "light"
     },
     "output_type": "display_data"
    }
   ],
   "source": [
    "#The categories of customers only owners can issue instructions so we can remove users from the dataset.\n",
    "sns.countplot(odata.type)"
   ]
  },
  {
   "cell_type": "code",
   "execution_count": 103,
   "metadata": {},
   "outputs": [],
   "source": [
    "#Selecting only owners from the dataset since they are the only ones that can request for cards\n",
    "\n",
    "odata = odata[odata.type=='OWNER']"
   ]
  },
  {
   "cell_type": "code",
   "execution_count": 104,
   "metadata": {},
   "outputs": [
    {
     "data": {
      "text/plain": [
       "<matplotlib.axes._subplots.AxesSubplot at 0x21818c39dc0>"
      ]
     },
     "execution_count": 104,
     "metadata": {},
     "output_type": "execute_result"
    },
    {
     "data": {
      "image/png": "[encoded data removed]",
      "text/plain": [
       "<Figure size 432x288 with 1 Axes>"
      ]
     },
     "metadata": {
      "needs_background": "light"
     },
     "output_type": "display_data"
    }
   ],
   "source": [
    "#Confirming there are no 'User' in the dataset\n",
    "sns.countplot(odata.type)"
   ]
  },
  {
   "cell_type": "code",
   "execution_count": 105,
   "metadata": {},
   "outputs": [
    {
     "data": {
      "image/png": "[encoded data removed]",
      "text/plain": [
       "<Figure size 432x288 with 1 Axes>"
      ]
     },
     "metadata": {
      "needs_background": "light"
     },
     "output_type": "display_data"
    }
   ],
   "source": [
    "#How many owners have cards\n",
    "sns.countplot(odata['Type of Card'])\n",
    "plt.title('Type of Card')\n",
    "plt.savefig ('View of Owners Cards in Circulation')"
   ]
  },
  {
   "cell_type": "code",
   "execution_count": 106,
   "metadata": {},
   "outputs": [
    {
     "data": {
      "image/png": "[encoded data removed]",
      "text/plain": [
       "<Figure size 432x288 with 1 Axes>"
      ]
     },
     "metadata": {
      "needs_background": "light"
     },
     "output_type": "display_data"
    }
   ],
   "source": [
    "#Owners cards by account balance\n",
    "sns.barplot(data =odata, x ='Type of Card', y= 'Account Balance')\n",
    "plt.title('Type of Card')\n",
    "plt.savefig ('Owners Account Balance with Cards')"
   ]
  },
  {
   "cell_type": "code",
   "execution_count": 107,
   "metadata": {},
   "outputs": [
    {
     "data": {
      "text/plain": [
       "classic    276\n",
       "junior      51\n",
       "gold        27\n",
       "Name: Type of Card, dtype: int64"
      ]
     },
     "execution_count": 107,
     "metadata": {},
     "output_type": "execute_result"
    }
   ],
   "source": [
    "odata['Type of Card'].value_counts()"
   ]
  },
  {
   "cell_type": "code",
   "execution_count": 108,
   "metadata": {},
   "outputs": [
    {
     "data": {
      "text/plain": [
       "<matplotlib.axes._subplots.AxesSubplot at 0x21817570b20>"
      ]
     },
     "execution_count": 108,
     "metadata": {},
     "output_type": "execute_result"
    },
    {
     "data": {
      "image/png": "[encoded data removed]",
      "text/plain": [
       "<Figure size 432x288 with 1 Axes>"
      ]
     },
     "metadata": {
      "needs_background": "light"
     },
     "output_type": "display_data"
    }
   ],
   "source": [
    "#Checking the customers that have running loans\n",
    "\n",
    "sns.barplot(data = odata, x = 'Type of Card', y = 'loan_id', hue='Reason for debit')\n"
   ]
  },
  {
   "cell_type": "code",
   "execution_count": 116,
   "metadata": {},
   "outputs": [
    {
     "data": {
      "text/plain": [
       "Loan Payment          682\n",
       "Household Payment     441\n",
       "FALSE                 276\n",
       "Insurance Payments    114\n",
       "Name: Reason for debit, dtype: int64"
      ]
     },
     "execution_count": 116,
     "metadata": {},
     "output_type": "execute_result"
    }
   ],
   "source": [
    "odata['Reason for debit'].value_counts()"
   ]
  },
  {
   "cell_type": "code",
   "execution_count": 147,
   "metadata": {},
   "outputs": [
    {
     "ename": "AttributeError",
     "evalue": "'DataFrame' object has no attribute 'value_counts'",
     "output_type": "error",
     "traceback": [
      "\u001b[1;31m---------------------------------------------------------------------------\u001b[0m",
      "\u001b[1;31mAttributeError\u001b[0m                            Traceback (most recent call last)",
      "\u001b[1;32m<ipython-input-147-7f59fd046588>\u001b[0m in \u001b[0;36m<module>\u001b[1;34m\u001b[0m\n\u001b[1;32m----> 1\u001b[1;33m \u001b[0modata\u001b[0m\u001b[1;33m[\u001b[0m\u001b[0modata\u001b[0m\u001b[1;33m[\u001b[0m\u001b[1;34m'Reason for debit'\u001b[0m\u001b[1;33m]\u001b[0m\u001b[1;33m==\u001b[0m\u001b[1;34m'Loan Payment'\u001b[0m\u001b[1;33m]\u001b[0m\u001b[1;33m.\u001b[0m\u001b[0mvalue_counts\u001b[0m\u001b[1;33m(\u001b[0m\u001b[1;33m)\u001b[0m\u001b[1;33m\u001b[0m\u001b[1;33m\u001b[0m\u001b[0m\n\u001b[0m",
      "\u001b[1;32m~\\Anaconda3\\lib\\site-packages\\pandas\\core\\generic.py\u001b[0m in \u001b[0;36m__getattr__\u001b[1;34m(self, name)\u001b[0m\n\u001b[0;32m   5272\u001b[0m             \u001b[1;32mif\u001b[0m \u001b[0mself\u001b[0m\u001b[1;33m.\u001b[0m\u001b[0m_info_axis\u001b[0m\u001b[1;33m.\u001b[0m\u001b[0m_can_hold_identifiers_and_holds_name\u001b[0m\u001b[1;33m(\u001b[0m\u001b[0mname\u001b[0m\u001b[1;33m)\u001b[0m\u001b[1;33m:\u001b[0m\u001b[1;33m\u001b[0m\u001b[1;33m\u001b[0m\u001b[0m\n\u001b[0;32m   5273\u001b[0m                 \u001b[1;32mreturn\u001b[0m \u001b[0mself\u001b[0m\u001b[1;33m[\u001b[0m\u001b[0mname\u001b[0m\u001b[1;33m]\u001b[0m\u001b[1;33m\u001b[0m\u001b[1;33m\u001b[0m\u001b[0m\n\u001b[1;32m-> 5274\u001b[1;33m             \u001b[1;32mreturn\u001b[0m \u001b[0mobject\u001b[0m\u001b[1;33m.\u001b[0m\u001b[0m__getattribute__\u001b[0m\u001b[1;33m(\u001b[0m\u001b[0mself\u001b[0m\u001b[1;33m,\u001b[0m \u001b[0mname\u001b[0m\u001b[1;33m)\u001b[0m\u001b[1;33m\u001b[0m\u001b[1;33m\u001b[0m\u001b[0m\n\u001b[0m\u001b[0;32m   5275\u001b[0m \u001b[1;33m\u001b[0m\u001b[0m\n\u001b[0;32m   5276\u001b[0m     \u001b[1;32mdef\u001b[0m \u001b[0m__setattr__\u001b[0m\u001b[1;33m(\u001b[0m\u001b[0mself\u001b[0m\u001b[1;33m,\u001b[0m \u001b[0mname\u001b[0m\u001b[1;33m:\u001b[0m \u001b[0mstr\u001b[0m\u001b[1;33m,\u001b[0m \u001b[0mvalue\u001b[0m\u001b[1;33m)\u001b[0m \u001b[1;33m->\u001b[0m \u001b[1;32mNone\u001b[0m\u001b[1;33m:\u001b[0m\u001b[1;33m\u001b[0m\u001b[1;33m\u001b[0m\u001b[0m\n",
      "\u001b[1;31mAttributeError\u001b[0m: 'DataFrame' object has no attribute 'value_counts'"
     ]
    }
   ],
   "source": []
  },
  {
   "cell_type": "code",
   "execution_count": 132,
   "metadata": {},
   "outputs": [
    {
     "data": {
      "image/png": "[encoded data removed]",
      "text/plain": [
       "<Figure size 720x576 with 1 Axes>"
      ]
     },
     "metadata": {
      "needs_background": "light"
     },
     "output_type": "display_data"
    }
   ],
   "source": [
    "from matplotlib import rcParams\n",
    "sns.barplot(x='Reason for debit', y='client_id', data=odata, hue ='Type of Card')\n",
    "plt.rcParams['figure.figsize']=(10,6)\n",
    "plt.rcParams['xtick.labelsize']=10"
   ]
  },
  {
   "cell_type": "code",
   "execution_count": 138,
   "metadata": {},
   "outputs": [
    {
     "data": {
      "text/html": [
       "<div>\n",
       "<style scoped>\n",
       "    .dataframe tbody tr th:only-of-type {\n",
       "        vertical-align: middle;\n",
       "    }\n",
       "\n",
       "    .dataframe tbody tr th {\n",
       "        vertical-align: top;\n",
       "    }\n",
       "\n",
       "    .dataframe thead th {\n",
       "        text-align: right;\n",
       "    }\n",
       "</style>\n",
       "<table border=\"1\" class=\"dataframe\">\n",
       "  <thead>\n",
       "    <tr style=\"text-align: right;\">\n",
       "      <th>Reason for debit</th>\n",
       "      <th>FALSE</th>\n",
       "      <th>Household Payment</th>\n",
       "      <th>Insurance Payments</th>\n",
       "      <th>Loan Payment</th>\n",
       "      <th>Total</th>\n",
       "    </tr>\n",
       "    <tr>\n",
       "      <th>Type of Card</th>\n",
       "      <th></th>\n",
       "      <th></th>\n",
       "      <th></th>\n",
       "      <th></th>\n",
       "      <th></th>\n",
       "    </tr>\n",
       "  </thead>\n",
       "  <tbody>\n",
       "    <tr>\n",
       "      <th>classic</th>\n",
       "      <td>47</td>\n",
       "      <td>78</td>\n",
       "      <td>18</td>\n",
       "      <td>133</td>\n",
       "      <td>276</td>\n",
       "    </tr>\n",
       "    <tr>\n",
       "      <th>gold</th>\n",
       "      <td>4</td>\n",
       "      <td>5</td>\n",
       "      <td>2</td>\n",
       "      <td>16</td>\n",
       "      <td>27</td>\n",
       "    </tr>\n",
       "    <tr>\n",
       "      <th>junior</th>\n",
       "      <td>11</td>\n",
       "      <td>17</td>\n",
       "      <td>2</td>\n",
       "      <td>21</td>\n",
       "      <td>51</td>\n",
       "    </tr>\n",
       "    <tr>\n",
       "      <th>Total</th>\n",
       "      <td>62</td>\n",
       "      <td>100</td>\n",
       "      <td>22</td>\n",
       "      <td>170</td>\n",
       "      <td>354</td>\n",
       "    </tr>\n",
       "  </tbody>\n",
       "</table>\n",
       "</div>"
      ],
      "text/plain": [
       "Reason for debit  FALSE  Household Payment  Insurance Payments  Loan Payment  \\\n",
       "Type of Card                                                                   \n",
       "classic              47                 78                  18           133   \n",
       "gold                  4                  5                   2            16   \n",
       "junior               11                 17                   2            21   \n",
       "Total                62                100                  22           170   \n",
       "\n",
       "Reason for debit  Total  \n",
       "Type of Card             \n",
       "classic             276  \n",
       "gold                 27  \n",
       "junior               51  \n",
       "Total               354  "
      ]
     },
     "execution_count": 138,
     "metadata": {},
     "output_type": "execute_result"
    }
   ],
   "source": [
    "#The number of customers that pay using the various card\n",
    "# We will disply this using the cross tab/ contingency tables\n",
    "pd.crosstab(odata['Type of Card'], odata['Reason for debit'], margins = bool, margins_name= 'Total')\n"
   ]
  },
  {
   "cell_type": "code",
   "execution_count": 148,
   "metadata": {},
   "outputs": [
    {
     "data": {
      "image/png": "[encoded data removed]",
      "text/plain": [
       "<Figure size 720x432 with 1 Axes>"
      ]
     },
     "metadata": {
      "needs_background": "light"
     },
     "output_type": "display_data"
    }
   ],
   "source": [
    "# Get the number of persons with the different loan types\n",
    "sns.barplot(data = odata, x='Gender', y = 'client_id', hue='Loan Status', palette = 'viridis')\n",
    "plt.rcParams['figure.figsize']=(10,6)\n",
    "plt.rcParams['xtick.labelsize']=14"
   ]
  },
  {
   "cell_type": "markdown",
   "metadata": {},
   "source": [
    "Compared with women, men tend to leave their loans unpaid at the end of their contract.\n",
    "\n",
    "Women on the other hand finished their contracts with their loans remaining unpaid"
   ]
  },
  {
   "cell_type": "code",
   "execution_count": 158,
   "metadata": {},
   "outputs": [
    {
     "data": {
      "image/png": "[encoded data removed]",
      "text/plain": [
       "<Figure size 720x432 with 1 Axes>"
      ]
     },
     "metadata": {
      "needs_background": "light"
     },
     "output_type": "display_data"
    }
   ],
   "source": [
    "# Get the number of persons with the different loan types\n",
    "sns.barplot(data = odata, y ='Loan Status', x = 'client_id', palette = 'icefire')\n",
    "plt.rcParams['figure.figsize']=(10,6)\n",
    "plt.rcParams['xtick.labelsize']=12\n",
    "plt.title('Clients Loan Status')\n",
    "plt.savefig('Customers loan status')"
   ]
  },
  {
   "cell_type": "code",
   "execution_count": 157,
   "metadata": {},
   "outputs": [
    {
     "data": {
      "image/png": "[encoded data removed]",
      "text/plain": [
       "<Figure size 720x432 with 1 Axes>"
      ]
     },
     "metadata": {
      "needs_background": "light"
     },
     "output_type": "display_data"
    }
   ],
   "source": [
    "sns.barplot(y='Region', x='loan_id', hue = 'Loan Status', data = odata)\n",
    "plt.rcParams[\"figure.figsize\"] = (10,6)\n",
    "plt.rcParams[\"xtick.labelsize\"] = 7"
   ]
  },
  {
   "cell_type": "code",
   "execution_count": null,
   "metadata": {},
   "outputs": [],
   "source": [
    "sns.barplot(y='Region', x='loan_id', data = odata)\n",
    "plt.rcParams[\"figure.figsize\"] = (10,6)\n",
    "plt.rcParams[\"xtick.labelsize\"] = 7"
   ]
  },
  {
   "cell_type": "code",
   "execution_count": null,
   "metadata": {},
   "outputs": [],
   "source": [
    "import numpy\n",
    "from numpy import median"
   ]
  },
  {
   "cell_type": "code",
   "execution_count": null,
   "metadata": {},
   "outputs": [],
   "source": [
    "sns.countplot(x='Loan Status', data = odata)\n",
    "plt.rcParams[\"figure.figsize\"] = (10,6)\n",
    "plt.rcParams[\"xtick.labelsize\"] = 7"
   ]
  },
  {
   "cell_type": "code",
   "execution_count": null,
   "metadata": {},
   "outputs": [],
   "source": [
    "sns.barplot(x='Loan Duration', y='loan_id', data = odata)\n",
    "plt.rcParams[\"figure.figsize\"] = (10,6)\n",
    "plt.rcParams[\"xtick.labelsize\"] = 7"
   ]
  },
  {
   "cell_type": "code",
   "execution_count": null,
   "metadata": {},
   "outputs": [],
   "source": [
    "#plotting the data for the age distribution\n",
    "sns.countplot(x='Reason for debit', data =odata, hue='Recipient Bank')"
   ]
  },
  {
   "cell_type": "code",
   "execution_count": null,
   "metadata": {},
   "outputs": [],
   "source": [
    "plt.hist(odata.Age, bins=5, rwidth=0.8, color ='brown', label ='Age')\n",
    "plt.legend()\n",
    "plt.show()"
   ]
  },
  {
   "cell_type": "code",
   "execution_count": null,
   "metadata": {
    "scrolled": true
   },
   "outputs": [],
   "source": [
    "#Confirming the missing data in the dataset\n",
    "odata.isnull().sum()"
   ]
  },
  {
   "cell_type": "code",
   "execution_count": null,
   "metadata": {},
   "outputs": [],
   "source": [
    "#Creating another instance of the data to for the K-Means.\n",
    "data = odata"
   ]
  },
  {
   "cell_type": "code",
   "execution_count": null,
   "metadata": {},
   "outputs": [],
   "source": [
    "#Fill the null values with the mean.\n",
    "odata= odata.fillna(odata.mean().iloc[0])"
   ]
  },
  {
   "cell_type": "code",
   "execution_count": null,
   "metadata": {},
   "outputs": [],
   "source": [
    "#Confirming if there're still null values\n",
    "odata.isnull().sum()"
   ]
  },
  {
   "cell_type": "code",
   "execution_count": null,
   "metadata": {},
   "outputs": [],
   "source": [
    "odata.drop(['Date loan taken', 'Date Card Issued','district_id','trans_id','account_id','disp_id','loan_id', 'order_id','District Code', 'card_id', 'client_id'], axis=1, inplace=True)"
   ]
  },
  {
   "cell_type": "code",
   "execution_count": null,
   "metadata": {},
   "outputs": [],
   "source": [
    "odata.info()"
   ]
  },
  {
   "cell_type": "markdown",
   "metadata": {},
   "source": [
    "## Finding the correlation between variables"
   ]
  },
  {
   "cell_type": "code",
   "execution_count": null,
   "metadata": {},
   "outputs": [],
   "source": [
    "print(odata.corr())"
   ]
  },
  {
   "cell_type": "code",
   "execution_count": null,
   "metadata": {},
   "outputs": [],
   "source": [
    "#Plot the correlation\n",
    "sns.heatmap(odata.corr())"
   ]
  },
  {
   "cell_type": "markdown",
   "metadata": {},
   "source": [
    "# Checking the degree of correlation using Chi Square"
   ]
  },
  {
   "cell_type": "code",
   "execution_count": null,
   "metadata": {},
   "outputs": [],
   "source": [
    "#Importing the required libraries\n",
    "#from scipy.stats import chi2_contingency"
   ]
  },
  {
   "cell_type": "code",
   "execution_count": null,
   "metadata": {},
   "outputs": [],
   "source": [
    "# Get the required values\n",
    "#stat, p, dof, expected= chi2_contingency(odata)"
   ]
  },
  {
   "cell_type": "code",
   "execution_count": null,
   "metadata": {},
   "outputs": [],
   "source": [
    "#Choosing alpha = 0.05 (the range is 0.01 to 0.10)\n",
    "#alpha = 0.05"
   ]
  },
  {
   "cell_type": "code",
   "execution_count": null,
   "metadata": {},
   "outputs": [],
   "source": [
    "# Decide if the null hypothesis that the values aren't associated is correct\n",
    "#print('significance=%.3f, p=%.3f' % (alpha, p))\n",
    "#if p <= alpha:\n",
    "    #print('Variables are associated (reject H0)')\n",
    "#else:\n",
    "    #print('Variables are not associated (H0 is valid)')"
   ]
  },
  {
   "cell_type": "markdown",
   "metadata": {},
   "source": [
    "# Preprocessing"
   ]
  },
  {
   "cell_type": "code",
   "execution_count": null,
   "metadata": {},
   "outputs": [],
   "source": [
    "#We need to convert the values to numerical values.\n",
    "#Check the data types\n",
    "odata.info()"
   ]
  },
  {
   "cell_type": "code",
   "execution_count": null,
   "metadata": {},
   "outputs": [],
   "source": [
    "#Import the required libraries for encoding\n",
    "from sklearn.preprocessing import LabelEncoder\n",
    "from sklearn.preprocessing import StandardScaler"
   ]
  },
  {
   "cell_type": "code",
   "execution_count": null,
   "metadata": {},
   "outputs": [],
   "source": [
    "# View the dataset\n",
    "odata.head()"
   ]
  },
  {
   "cell_type": "code",
   "execution_count": null,
   "metadata": {},
   "outputs": [],
   "source": [
    "# confirm the number of null values in the dataset\n",
    "odata.isnull().sum()"
   ]
  },
  {
   "cell_type": "code",
   "execution_count": null,
   "metadata": {},
   "outputs": [],
   "source": [
    "#Confirm the columns in the dataset\n",
    "odata.columns"
   ]
  },
  {
   "cell_type": "code",
   "execution_count": null,
   "metadata": {},
   "outputs": [],
   "source": [
    "#Confirm the dtypes in the dataset\n",
    "odata.dtypes"
   ]
  },
  {
   "cell_type": "code",
   "execution_count": null,
   "metadata": {},
   "outputs": [],
   "source": [
    "#changing the data types to numeric for ease in unsupervised learning\n",
    "odata['Account Balance'] = pd.to_numeric(odata['Account Balance'], errors='coerce', downcast='integer')\n",
    "odata['Ratio of Urban Inhabitants'] = pd.to_numeric(odata['Ratio of Urban Inhabitants'], errors='coerce', downcast='integer')\n",
    "odata['Average Salary'] = pd.to_numeric(odata['Average Salary'], errors='coerce', downcast='integer')\n",
    "odata['Unemployment Rate 95'] = pd.to_numeric(odata['Unemployment Rate 95'], errors='coerce', downcast='integer')\n",
    "odata['Number of Committeed Crimes 95'] = pd.to_numeric(odata['Number of Committeed Crimes 95'], errors='coerce', downcast='integer')\n",
    "odata['Amount of Loan'] = pd.to_numeric(odata['Amount of Loan'], errors='coerce', downcast='integer')\n",
    "odata['Loan Payments'] = pd.to_numeric(odata['Loan Payments'], errors='coerce', downcast='integer')\n",
    "odata['Amount Debited'] = pd.to_numeric(odata['Amount Debited'], errors='coerce', downcast='integer')\n",
    "odata['Type of Card'] = pd.to_numeric(odata['Type of Card'], errors='coerce', downcast='integer')\n",
    "odata['District Name'] = pd.to_numeric(odata['District Name'], errors='ignore', downcast='integer')\n",
    "odata['Region'] = pd.to_numeric(odata['Region'], errors='ignore', downcast='integer')\n",
    "odata['Loan Status'] = pd.to_numeric(odata['Loan Status'], errors='ignore', downcast='integer')\n",
    "odata['Recipient Bank'] = pd.to_numeric(odata['Recipient Bank'], errors='ignore', downcast='integer')\n",
    "odata['Reason for debit'] = pd.to_numeric(odata['Reason for debit'], errors='ignore', downcast='integer')"
   ]
  },
  {
   "cell_type": "code",
   "execution_count": null,
   "metadata": {},
   "outputs": [],
   "source": [
    "#confirming the datatypes have changed\n",
    "odata.info()"
   ]
  },
  {
   "cell_type": "code",
   "execution_count": null,
   "metadata": {},
   "outputs": [],
   "source": [
    "#transforming the data types to numeric\n",
    "for column in odata.columns:\n",
    "    if odata[column].dtype == np.number:\n",
    "        continue\n",
    "    odata[column] = LabelEncoder().fit_transform(odata[column])"
   ]
  },
  {
   "cell_type": "code",
   "execution_count": null,
   "metadata": {},
   "outputs": [],
   "source": [
    "#confirming all have been changed\n",
    "odata.info()"
   ]
  },
  {
   "cell_type": "code",
   "execution_count": null,
   "metadata": {},
   "outputs": [],
   "source": [
    "# View the new data set to confirm they have all been converted to numeric datasets\n",
    "odata.head()"
   ]
  },
  {
   "cell_type": "code",
   "execution_count": null,
   "metadata": {},
   "outputs": [],
   "source": [
    "#Plotting the correlation on odata dataset \n",
    "\n",
    "print(odata.corr())"
   ]
  },
  {
   "cell_type": "code",
   "execution_count": null,
   "metadata": {},
   "outputs": [],
   "source": [
    "#plot the head map\n",
    "sns.heatmap(odata.corr())"
   ]
  },
  {
   "cell_type": "code",
   "execution_count": null,
   "metadata": {},
   "outputs": [],
   "source": []
  },
  {
   "cell_type": "markdown",
   "metadata": {},
   "source": [
    "# K-means Clusters"
   ]
  },
  {
   "cell_type": "code",
   "execution_count": null,
   "metadata": {},
   "outputs": [],
   "source": [
    "#Import Library\n",
    "from sklearn.cluster import KMeans"
   ]
  },
  {
   "cell_type": "code",
   "execution_count": null,
   "metadata": {},
   "outputs": [],
   "source": [
    "#find all columns with NaN values\n",
    "\n",
    "odata.isnull().sum()"
   ]
  },
  {
   "cell_type": "code",
   "execution_count": null,
   "metadata": {},
   "outputs": [],
   "source": [
    "#Fill the null values with the mean.\n",
    "odata= odata.fillna(odata.mean().iloc[0])"
   ]
  },
  {
   "cell_type": "code",
   "execution_count": null,
   "metadata": {},
   "outputs": [],
   "source": [
    "#drop empty rows\n",
    "#odata = odata.dropna()"
   ]
  },
  {
   "cell_type": "code",
   "execution_count": null,
   "metadata": {},
   "outputs": [],
   "source": [
    "#Confirm if there are still null values\n",
    "odata.isnull().sum()"
   ]
  },
  {
   "cell_type": "code",
   "execution_count": null,
   "metadata": {},
   "outputs": [],
   "source": [
    "#Scaling the data\n",
    "#import required library\n",
    "#from sklearn import preprocessing\n",
    "#odata_scaled = preprocessing.scale(odata)"
   ]
  },
  {
   "cell_type": "code",
   "execution_count": null,
   "metadata": {},
   "outputs": [],
   "source": [
    "#viewing the scaled data\n",
    "#odata_scaled"
   ]
  },
  {
   "cell_type": "code",
   "execution_count": null,
   "metadata": {},
   "outputs": [],
   "source": [
    "#Using the elbow method to determine the number of clusters\n",
    "ks = range (1,11)\n",
    "wcss = []\n",
    "\n",
    "for k in ks:\n",
    "    kmeans = KMeans(n_clusters = k, init = 'k-means++', max_iter =300)\n",
    "    kmeans.fit(odata)\n",
    "    wcss.append(kmeans.inertia_)\n",
    "\n"
   ]
  },
  {
   "cell_type": "code",
   "execution_count": null,
   "metadata": {},
   "outputs": [],
   "source": [
    "#plotting the Wcss values\n",
    "plt.plot(ks, wcss, '-0')\n",
    "plt.xlabel('Number of Clusters')\n",
    "plt.ylabel('WCSS')\n",
    "plt.title('The Elbow Method')\n",
    "plt.show()"
   ]
  },
  {
   "cell_type": "code",
   "execution_count": null,
   "metadata": {},
   "outputs": [],
   "source": [
    "#define the elbow\n",
    "from kneed import KneeLocator\n",
    "kl = KneeLocator(x = ks, y = wcss, curve=\"convex\", direction=\"decreasing\")\n",
    "\n",
    "kl.elbow"
   ]
  },
  {
   "cell_type": "code",
   "execution_count": null,
   "metadata": {},
   "outputs": [],
   "source": [
    "#Create Kmeans instance for the 3 clusters\n",
    "kmeans = KMeans(n_clusters=3, init= 'k-means++', max_iter =300, n_init=10)"
   ]
  },
  {
   "cell_type": "code",
   "execution_count": null,
   "metadata": {},
   "outputs": [],
   "source": [
    "#fit it to the data\n",
    "kmeans.fit(odata)"
   ]
  },
  {
   "cell_type": "code",
   "execution_count": null,
   "metadata": {},
   "outputs": [],
   "source": [
    "clusters= kmeans.cluster_centers_"
   ]
  },
  {
   "cell_type": "code",
   "execution_count": null,
   "metadata": {},
   "outputs": [],
   "source": [
    "print(clusters)"
   ]
  },
  {
   "cell_type": "code",
   "execution_count": null,
   "metadata": {},
   "outputs": [],
   "source": [
    "# determine the new cluster labels for optimum positioning\n",
    "cluster_new = kmeans.predict(odata)\n",
    "#cluster_new['cluster_pred'] = kmeans_new.fit_predict(odata_scaled)\n",
    "#cluster_new"
   ]
  },
  {
   "cell_type": "code",
   "execution_count": null,
   "metadata": {},
   "outputs": [],
   "source": [
    "#Print the new cluster labels\n",
    "cluster_new"
   ]
  },
  {
   "cell_type": "code",
   "execution_count": null,
   "metadata": {},
   "outputs": [],
   "source": [
    "#adding the predicted column to the saved dataset\n",
    "odata['cluster_new'] = cluster_new"
   ]
  },
  {
   "cell_type": "code",
   "execution_count": null,
   "metadata": {},
   "outputs": [],
   "source": [
    "#Adding the derivative from the cluster onto the data dataset\n",
    "\n",
    "data['cluster_new']= cluster_new"
   ]
  },
  {
   "cell_type": "code",
   "execution_count": null,
   "metadata": {},
   "outputs": [],
   "source": [
    "#checking the columns in the data dataset\n",
    "\n",
    "odata.info()"
   ]
  },
  {
   "cell_type": "code",
   "execution_count": null,
   "metadata": {},
   "outputs": [],
   "source": [
    "#Plotting some scatter diagram for \n",
    "\n",
    "sns.scatterplot(x='Loan Payments', y='Account Balance', hue= 'cluster_new', data= odata) \n"
   ]
  },
  {
   "cell_type": "markdown",
   "metadata": {},
   "source": [
    "Cluster 1 have lower account balances while cluster_new = 0 have higher account balances.\n",
    "\n",
    "Reviewing other datasets"
   ]
  },
  {
   "cell_type": "code",
   "execution_count": null,
   "metadata": {},
   "outputs": [],
   "source": [
    "#Plotting some scatter diagram for \n",
    "\n",
    "sns.scatterplot(x='Average Salary', y='Account Balance', hue= 'cluster_new', data= odata) \n"
   ]
  },
  {
   "cell_type": "code",
   "execution_count": null,
   "metadata": {},
   "outputs": [],
   "source": [
    "sns.scatterplot(x='Loan Status', y= 'Account Balance', data = odata, hue = 'cluster_new')"
   ]
  },
  {
   "cell_type": "code",
   "execution_count": null,
   "metadata": {},
   "outputs": [],
   "source": [
    "#Print a scatter diagram of Average Salary against the clusters in odata dataset\n",
    "\n",
    "sns.scatterplot(x='Average Salary', y='Loan Status', hue='cluster_new', data = odata, palette= 'rainbow_r')"
   ]
  },
  {
   "cell_type": "code",
   "execution_count": null,
   "metadata": {},
   "outputs": [],
   "source": [
    "#Print a scatter diagram of Average Salary against the clusters in odata dataset\n",
    "\n",
    "sns.scatterplot(x='Age', y='Account Balance', hue='cluster_new', data = odata, alpha =0.5, palette = 'rainbow')"
   ]
  },
  {
   "cell_type": "code",
   "execution_count": null,
   "metadata": {},
   "outputs": [],
   "source": [
    "#Print a scatter diagram of Average Salary against the clusters in odata dataset\n",
    "\n",
    "sns.scatterplot(x='Loan Status', y='Loan Payments', hue='cluster_new', data = data, alpha =0.5, palette = 'rainbow')"
   ]
  },
  {
   "cell_type": "code",
   "execution_count": null,
   "metadata": {},
   "outputs": [],
   "source": [
    "#Plotting a pairplot of the dataset\n",
    "X = odata[['Average Salary', 'Age', 'Loan Status', 'Account Balance','Loan Payments', 'Region', 'Loan Duration', 'Recipient Bank', 'Reason for debit', 'cluster_new']]\n",
    "\n",
    "sns.pairplot(X, hue='cluster_new')"
   ]
  },
  {
   "cell_type": "code",
   "execution_count": null,
   "metadata": {},
   "outputs": [],
   "source": [
    "#Checking with the reserved data dataset\n",
    "data.info()"
   ]
  },
  {
   "cell_type": "code",
   "execution_count": null,
   "metadata": {},
   "outputs": [],
   "source": [
    "#Checking the dataset\n",
    "\n",
    "data.head(7)"
   ]
  },
  {
   "cell_type": "code",
   "execution_count": null,
   "metadata": {},
   "outputs": [],
   "source": [
    "#Get the list of customers that don't have cards\n",
    "newcard = data[data['card_id'].isnull()]"
   ]
  },
  {
   "cell_type": "code",
   "execution_count": null,
   "metadata": {},
   "outputs": [],
   "source": [
    "#view the newcard dataset\n",
    "newcard.info()"
   ]
  },
  {
   "cell_type": "code",
   "execution_count": null,
   "metadata": {},
   "outputs": [],
   "source": [
    "newcard.client_id.count()"
   ]
  },
  {
   "cell_type": "code",
   "execution_count": null,
   "metadata": {},
   "outputs": [],
   "source": [
    "#Generating a single customer view\n",
    "\n",
    "newcard = newcard.groupby(['client_id','Gender', 'Age', 'Region','Loan Status', 'Reason for debit', 'cluster_new', 'Amount of Loan']).agg({'Account Balance': 'max', 'Average Salary': 'max', 'Amount Debited':'max'})"
   ]
  },
  {
   "cell_type": "code",
   "execution_count": null,
   "metadata": {},
   "outputs": [],
   "source": [
    "#Reseting Index\n",
    "newcard.reset_index(inplace=True)"
   ]
  },
  {
   "cell_type": "code",
   "execution_count": null,
   "metadata": {},
   "outputs": [],
   "source": [
    "#View the datatypes\n",
    "newcard.info()"
   ]
  },
  {
   "cell_type": "code",
   "execution_count": null,
   "metadata": {},
   "outputs": [],
   "source": [
    "#Plotting some variables\n",
    "o = newcard[['Gender', 'Age', 'Region', 'Amount of Loan', 'Loan Status', 'Reason for debit', 'cluster_new', 'Average Salary']]\n",
    "\n",
    "sns.pairplot(o, hue='cluster_new')"
   ]
  },
  {
   "cell_type": "code",
   "execution_count": null,
   "metadata": {},
   "outputs": [],
   "source": [
    "#View the clusters in the newcard dataset\n",
    "newcard.cluster_new.value_counts()"
   ]
  },
  {
   "cell_type": "code",
   "execution_count": null,
   "metadata": {},
   "outputs": [],
   "source": [
    "#Checking the number of loan status\n",
    "\n",
    "sns.countplot(data=newcard, x = 'Loan Status', hue = 'cluster_new')"
   ]
  },
  {
   "cell_type": "markdown",
   "metadata": {},
   "source": [
    "Since Credit Card is a loan, we would recommend you issue to customers that have a history of repaying their previous facilities. We will recommend cluster_new = 0 because they were the most compliant in servicing their facilities and lowest defaulters from the chart above"
   ]
  },
  {
   "cell_type": "markdown",
   "metadata": {},
   "source": [
    "# The Preferred Group are in Cluster_new = 0 and Cluster_new =2"
   ]
  },
  {
   "cell_type": "code",
   "execution_count": null,
   "metadata": {},
   "outputs": [],
   "source": [
    "#Selecting only records where cluster_new==0 and assigning them to the prefered customer dataset.\n",
    "pref= newcard[newcard['cluster_new']==0]"
   ]
  },
  {
   "cell_type": "code",
   "execution_count": null,
   "metadata": {},
   "outputs": [],
   "source": [
    "#Viewing the customers\n",
    "pref.head(3)"
   ]
  },
  {
   "cell_type": "code",
   "execution_count": null,
   "metadata": {},
   "outputs": [],
   "source": [
    "pref.info()"
   ]
  },
  {
   "cell_type": "code",
   "execution_count": null,
   "metadata": {},
   "outputs": [],
   "source": [
    "#View the gender of people in this group\n",
    "sns.countplot(pref['Gender'])"
   ]
  },
  {
   "cell_type": "code",
   "execution_count": null,
   "metadata": {},
   "outputs": [],
   "source": [
    "#View the ages of people in this group\n",
    "\n",
    "sns.countplot(pref['Age'])"
   ]
  },
  {
   "cell_type": "code",
   "execution_count": null,
   "metadata": {},
   "outputs": [],
   "source": [
    "#Plot a Histogram of the Ages\n",
    "plt.hist(data = pref, x = 'Age', bins=10, color ='g', rwidth=0.8)\n",
    "plt.show()"
   ]
  },
  {
   "cell_type": "code",
   "execution_count": null,
   "metadata": {},
   "outputs": [],
   "source": [
    "#Showing a plot of Loan status\n",
    "sns.countplot(x='Loan Status', data = pref)"
   ]
  },
  {
   "cell_type": "code",
   "execution_count": null,
   "metadata": {},
   "outputs": [],
   "source": [
    "sns.barplot(x= 'Reason for debit', y='Average Salary', hue = 'Gender', data = pref)"
   ]
  },
  {
   "cell_type": "code",
   "execution_count": null,
   "metadata": {},
   "outputs": [],
   "source": []
  }
 ],
 "metadata": {
  "kernelspec": {
   "display_name": "Python 3",
   "language": "python",
   "name": "python3"
  },
  "language_info": {
   "codemirror_mode": {
    "name": "ipython",
    "version": 3
   },
   "file_extension": ".py",
   "mimetype": "text/x-python",
   "name": "python",
   "nbconvert_exporter": "python",
   "pygments_lexer": "ipython3",
   "version": "3.8.3"
  }
 },
 "nbformat": 4,
 "nbformat_minor": 4
}
